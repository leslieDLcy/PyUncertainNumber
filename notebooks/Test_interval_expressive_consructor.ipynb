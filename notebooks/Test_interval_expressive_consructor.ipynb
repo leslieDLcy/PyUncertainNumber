{
 "cells": [
  {
   "cell_type": "markdown",
   "id": "ce632960-5194-4611-b73a-5bae67c481f4",
   "metadata": {},
   "source": [
    "# Introduction\n",
    "\n",
    "- Testing Scott's desired constructor with PyUncertainNumber methods"
   ]
  },
  {
   "cell_type": "code",
   "execution_count": 1,
   "id": "c574d9b2-c56b-4f8b-adee-b6cec98c269b",
   "metadata": {},
   "outputs": [],
   "source": [
    "from PyUncertainNumber.nlp.language_parsing import *\n",
    "from rich import print as rprint"
   ]
  },
  {
   "cell_type": "code",
   "execution_count": 2,
   "id": "af45541b-baa6-4a3d-a4c3-ce840844432f",
   "metadata": {},
   "outputs": [],
   "source": [
    "%load_ext autoreload\n",
    "%autoreload 2\n",
    "%load_ext rich\n",
    "%matplotlib inline"
   ]
  },
  {
   "cell_type": "markdown",
   "id": "af59761c-15ec-457f-a29d-a5e2b86e19d3",
   "metadata": {},
   "source": [
    "### the test inputs"
   ]
  },
  {
   "cell_type": "code",
   "execution_count": 13,
   "id": "537bd087-e4cc-471a-b84a-d3283b6a1904",
   "metadata": {},
   "outputs": [],
   "source": [
    "# incorrect cases\n",
    "text6 = '12//'\n",
    "text7 = '[12//]'\n",
    "text8 = \"h3110 23 cat 444.4 rabbit 11 2 dog\"\n",
    "text9 = '[5+-1]'  # tricky\n",
    "\n",
    "\n",
    "# correct cases\n",
    "text1 = '[12,3]'\n",
    "text2 = '[5 +- 1]'\n",
    "text3 = '[15 +- 10%]'\n",
    "text4 = '[15.3]'\n",
    "text5 = '[15+-10%]'\n"
   ]
  },
  {
   "cell_type": "markdown",
   "id": "37fb2a31-b042-4c35-982c-2ef0dacd9a46",
   "metadata": {},
   "source": [
    "### test `parse_interval_expression()`"
   ]
  },
  {
   "cell_type": "code",
   "execution_count": 4,
   "id": "ff18dd73-1944-4df6-81cc-ca01117d0f1d",
   "metadata": {},
   "outputs": [],
   "source": [
    "def testing_parsing(input):\n",
    "    rprint(f'with the Input: `{input}`')\n",
    "    rprint(parse_interval_expression(input))"
   ]
  },
  {
   "cell_type": "code",
   "execution_count": 5,
   "id": "5bccb713",
   "metadata": {},
   "outputs": [],
   "source": [
    "# parse_description('[7]')"
   ]
  },
  {
   "cell_type": "code",
   "execution_count": 6,
   "id": "b7056cef-b8d9-4327-9615-174168c10958",
   "metadata": {},
   "outputs": [],
   "source": [
    "# parse_interval_expression('about 7')"
   ]
  },
  {
   "cell_type": "code",
   "execution_count": 7,
   "id": "5f872aa7-3fbe-46b6-b45c-a81581c5d6b9",
   "metadata": {},
   "outputs": [
    {
     "data": {
      "text/html": [
       "<pre style=\"white-space:pre;overflow-x:auto;line-height:normal;font-family:Menlo,'DejaVu Sans Mono',consolas,'Courier New',monospace\">with the Input: `<span style=\"font-weight: bold\">[</span><span style=\"color: #008080; text-decoration-color: #008080; font-weight: bold\">12</span>,<span style=\"color: #008080; text-decoration-color: #008080; font-weight: bold\">3</span><span style=\"font-weight: bold\">]</span>`\n",
       "</pre>\n"
      ],
      "text/plain": [
       "with the Input: `\u001b[1m[\u001b[0m\u001b[1;36m12\u001b[0m,\u001b[1;36m3\u001b[0m\u001b[1m]\u001b[0m`\n"
      ]
     },
     "metadata": {},
     "output_type": "display_data"
    },
    {
     "data": {
      "text/html": [
       "<pre style=\"white-space:pre;overflow-x:auto;line-height:normal;font-family:Menlo,'DejaVu Sans Mono',consolas,'Courier New',monospace\">Interval <span style=\"font-weight: bold\">[</span><span style=\"color: #008080; text-decoration-color: #008080; font-weight: bold\">3</span>, <span style=\"color: #008080; text-decoration-color: #008080; font-weight: bold\">12</span><span style=\"font-weight: bold\">]</span>\n",
       "</pre>\n"
      ],
      "text/plain": [
       "Interval \u001b[1m[\u001b[0m\u001b[1;36m3\u001b[0m, \u001b[1;36m12\u001b[0m\u001b[1m]\u001b[0m\n"
      ]
     },
     "metadata": {},
     "output_type": "display_data"
    }
   ],
   "source": [
    "testing_parsing(text1)"
   ]
  },
  {
   "cell_type": "code",
   "execution_count": 8,
   "id": "7734e5b3-b8d8-470f-af25-97db89199e0e",
   "metadata": {},
   "outputs": [
    {
     "data": {
      "text/html": [
       "<pre style=\"white-space:pre;overflow-x:auto;line-height:normal;font-family:Menlo,'DejaVu Sans Mono',consolas,'Courier New',monospace\">with the Input: `<span style=\"font-weight: bold\">[</span><span style=\"color: #008080; text-decoration-color: #008080; font-weight: bold\">5</span> +- <span style=\"color: #008080; text-decoration-color: #008080; font-weight: bold\">1</span><span style=\"font-weight: bold\">]</span>`\n",
       "</pre>\n"
      ],
      "text/plain": [
       "with the Input: `\u001b[1m[\u001b[0m\u001b[1;36m5\u001b[0m +- \u001b[1;36m1\u001b[0m\u001b[1m]\u001b[0m`\n"
      ]
     },
     "metadata": {},
     "output_type": "display_data"
    },
    {
     "data": {
      "text/html": [
       "<pre style=\"white-space:pre;overflow-x:auto;line-height:normal;font-family:Menlo,'DejaVu Sans Mono',consolas,'Courier New',monospace\">Interval <span style=\"font-weight: bold\">[</span><span style=\"color: #008080; text-decoration-color: #008080; font-weight: bold\">4</span>, <span style=\"color: #008080; text-decoration-color: #008080; font-weight: bold\">6</span><span style=\"font-weight: bold\">]</span>\n",
       "</pre>\n"
      ],
      "text/plain": [
       "Interval \u001b[1m[\u001b[0m\u001b[1;36m4\u001b[0m, \u001b[1;36m6\u001b[0m\u001b[1m]\u001b[0m\n"
      ]
     },
     "metadata": {},
     "output_type": "display_data"
    }
   ],
   "source": [
    "testing_parsing(text2)"
   ]
  },
  {
   "cell_type": "code",
   "execution_count": 9,
   "id": "55b43543-f6a5-44d2-8416-f69f64e7d305",
   "metadata": {},
   "outputs": [
    {
     "data": {
      "text/html": [
       "<pre style=\"white-space:pre;overflow-x:auto;line-height:normal;font-family:Menlo,'DejaVu Sans Mono',consolas,'Courier New',monospace\">with the Input: `<span style=\"font-weight: bold\">[</span><span style=\"color: #008080; text-decoration-color: #008080; font-weight: bold\">15</span> +- <span style=\"color: #008080; text-decoration-color: #008080; font-weight: bold\">10</span>%<span style=\"font-weight: bold\">]</span>`\n",
       "</pre>\n"
      ],
      "text/plain": [
       "with the Input: `\u001b[1m[\u001b[0m\u001b[1;36m15\u001b[0m +- \u001b[1;36m10\u001b[0m%\u001b[1m]\u001b[0m`\n"
      ]
     },
     "metadata": {},
     "output_type": "display_data"
    },
    {
     "data": {
      "text/html": [
       "<pre style=\"white-space:pre;overflow-x:auto;line-height:normal;font-family:Menlo,'DejaVu Sans Mono',consolas,'Courier New',monospace\">Interval <span style=\"font-weight: bold\">[</span><span style=\"color: #008080; text-decoration-color: #008080; font-weight: bold\">13.5</span>, <span style=\"color: #008080; text-decoration-color: #008080; font-weight: bold\">16.5</span><span style=\"font-weight: bold\">]</span>\n",
       "</pre>\n"
      ],
      "text/plain": [
       "Interval \u001b[1m[\u001b[0m\u001b[1;36m13.5\u001b[0m, \u001b[1;36m16.5\u001b[0m\u001b[1m]\u001b[0m\n"
      ]
     },
     "metadata": {},
     "output_type": "display_data"
    }
   ],
   "source": [
    "testing_parsing(text3)"
   ]
  },
  {
   "cell_type": "code",
   "execution_count": 12,
   "id": "a57f2cf0-edbd-4e7a-805c-dcb8229b3c37",
   "metadata": {},
   "outputs": [
    {
     "data": {
      "text/html": [
       "<pre style=\"white-space:pre;overflow-x:auto;line-height:normal;font-family:Menlo,'DejaVu Sans Mono',consolas,'Courier New',monospace\">with the Input: `<span style=\"font-weight: bold\">[</span><span style=\"color: #008080; text-decoration-color: #008080; font-weight: bold\">15.3</span><span style=\"font-weight: bold\">]</span>`\n",
       "</pre>\n"
      ],
      "text/plain": [
       "with the Input: `\u001b[1m[\u001b[0m\u001b[1;36m15.3\u001b[0m\u001b[1m]\u001b[0m`\n"
      ]
     },
     "metadata": {},
     "output_type": "display_data"
    },
    {
     "data": {
      "text/html": [
       "<pre style=\"white-space:pre;overflow-x:auto;line-height:normal;font-family:Menlo,'DejaVu Sans Mono',consolas,'Courier New',monospace\">Interval <span style=\"font-weight: bold\">[</span><span style=\"color: #008080; text-decoration-color: #008080; font-weight: bold\">14.8</span>, <span style=\"color: #008080; text-decoration-color: #008080; font-weight: bold\">15.8</span><span style=\"font-weight: bold\">]</span>\n",
       "</pre>\n"
      ],
      "text/plain": [
       "Interval \u001b[1m[\u001b[0m\u001b[1;36m14.8\u001b[0m, \u001b[1;36m15.8\u001b[0m\u001b[1m]\u001b[0m\n"
      ]
     },
     "metadata": {},
     "output_type": "display_data"
    }
   ],
   "source": [
    "testing_parsing(text4)"
   ]
  },
  {
   "cell_type": "markdown",
   "id": "74ce9cd9-6542-4fe4-8b6b-f2fb1c8e0ba9",
   "metadata": {},
   "source": [
    "## top-level API test"
   ]
  },
  {
   "cell_type": "code",
   "execution_count": 19,
   "id": "7bcfe305-c67b-40ef-b1ae-b4f4a2872f7e",
   "metadata": {},
   "outputs": [],
   "source": [
    "from PyUncertainNumber.pba.intervalOperators import parse_bounds"
   ]
  },
  {
   "cell_type": "code",
   "execution_count": 20,
   "id": "9bdd4a17-1526-4675-a5f2-fb8acf6d2314",
   "metadata": {},
   "outputs": [
    {
     "name": "stdout",
     "output_type": "stream",
     "text": [
      "Interval [3, 12]\n",
      "Interval [4, 6]\n",
      "Interval [13.5, 16.5]\n",
      "Interval [14.8, 15.8]\n"
     ]
    }
   ],
   "source": [
    "for x in [text1, text2, text3, text4]:\n",
    "    print(parse_bounds(x))"
   ]
  },
  {
   "cell_type": "code",
   "execution_count": null,
   "id": "99bbd64c-c160-429b-bbf6-466ea84256c2",
   "metadata": {},
   "outputs": [],
   "source": []
  },
  {
   "cell_type": "code",
   "execution_count": null,
   "id": "7376c5b0-4ba8-4600-820a-1ea09b2d62f1",
   "metadata": {},
   "outputs": [],
   "source": []
  },
  {
   "cell_type": "markdown",
   "id": "0224ff87-f73f-45cb-b241-59dbfc113efb",
   "metadata": {},
   "source": [
    "# pool"
   ]
  },
  {
   "cell_type": "markdown",
   "id": "9c53d464-87cd-403d-bc02-5c817f0593ef",
   "metadata": {},
   "source": [
    "### testing simple modules"
   ]
  },
  {
   "cell_type": "code",
   "execution_count": null,
   "id": "fc03507a-cf54-48a3-99b4-cd5d2d683a05",
   "metadata": {},
   "outputs": [],
   "source": [
    "# ''' type 1 '''\n",
    "# print(text3)"
   ]
  },
  {
   "cell_type": "code",
   "execution_count": null,
   "id": "29275e34-c2c8-45db-9c30-fb1c03b621c5",
   "metadata": {},
   "outputs": [],
   "source": [
    "# # list-like string representation test\n",
    "# parsed = initial_list_checking(text3)\n",
    "# parsed"
   ]
  },
  {
   "cell_type": "code",
   "execution_count": null,
   "id": "b219b4c9-94ad-4169-8b48-4039c5899da2",
   "metadata": {},
   "outputs": [],
   "source": [
    "# test_interval = I(*parsed)\n",
    "# test_interval"
   ]
  },
  {
   "cell_type": "code",
   "execution_count": null,
   "id": "fecea6d8-532b-4623-bd10-1ca67afb7214",
   "metadata": {},
   "outputs": [],
   "source": [
    "# # only one input\n",
    "# parsed = initial_list_checking(text7)\n",
    "# parsed"
   ]
  },
  {
   "cell_type": "code",
   "execution_count": null,
   "id": "12694034-1806-474c-b439-a049f39ee367",
   "metadata": {},
   "outputs": [],
   "source": [
    "# test_interval = PM(parsed[0], 0.5)\n",
    "# test_interval"
   ]
  },
  {
   "cell_type": "code",
   "execution_count": null,
   "id": "87e76fb7-6f2e-4b84-8ff4-15b551b3dffb",
   "metadata": {},
   "outputs": [],
   "source": []
  },
  {
   "cell_type": "code",
   "execution_count": null,
   "id": "6c07e0d5-cd7b-4869-bee2-a3090a48b6c6",
   "metadata": {},
   "outputs": [],
   "source": [
    "''' type 2 '''"
   ]
  },
  {
   "cell_type": "code",
   "execution_count": null,
   "id": "66038876-5c56-4eec-9a14-f6f8100ebe3d",
   "metadata": {},
   "outputs": [],
   "source": [
    "print(text5)"
   ]
  },
  {
   "cell_type": "code",
   "execution_count": null,
   "id": "5d564f8f-eb17-46c0-961f-69c9dd9bf8a3",
   "metadata": {},
   "outputs": [],
   "source": [
    "bad_list_checking(text5)"
   ]
  },
  {
   "cell_type": "code",
   "execution_count": null,
   "id": "cc22c345-5ea2-4b8e-b54f-51120631c7c2",
   "metadata": {},
   "outputs": [],
   "source": [
    "PlusMinus_parser(text5)\n",
    "# append with 'parser3' and then it will work\n",
    "# not this time we use the interval \"mid + range\" style to instantiate"
   ]
  },
  {
   "cell_type": "code",
   "execution_count": null,
   "id": "a41e34d6-a85c-4371-8d33-e8d014d4e3cf",
   "metadata": {},
   "outputs": [],
   "source": [
    "# if it contains '%'\n",
    "percentage_finder(text5)"
   ]
  },
  {
   "cell_type": "code",
   "execution_count": null,
   "id": "dd11d65f-323e-4876-8af3-57f740479ea8",
   "metadata": {},
   "outputs": [],
   "source": [
    "parser4(text5)"
   ]
  },
  {
   "cell_type": "code",
   "execution_count": null,
   "id": "ad75cf51-0a8b-4c63-b8e3-9bfc9cfae06d",
   "metadata": {},
   "outputs": [],
   "source": [
    "''' type 3 '''"
   ]
  },
  {
   "cell_type": "code",
   "execution_count": null,
   "id": "c0069344-8faf-449c-b347-762d8e5ce3b3",
   "metadata": {},
   "outputs": [],
   "source": [
    "print(text6)"
   ]
  },
  {
   "cell_type": "code",
   "execution_count": null,
   "id": "32dc0b1e-66e7-4958-ad05-d77abd50091a",
   "metadata": {},
   "outputs": [],
   "source": [
    "bad_list_checking(text6)"
   ]
  },
  {
   "cell_type": "code",
   "execution_count": null,
   "id": "b4969790-1b90-424d-94d1-71bf917a2a77",
   "metadata": {},
   "outputs": [],
   "source": [
    "PlusMinus_parser(text6)"
   ]
  },
  {
   "cell_type": "code",
   "execution_count": null,
   "id": "259b85ff-dbd8-456f-99ac-335646e41366",
   "metadata": {},
   "outputs": [],
   "source": [
    "# if it contains '%'\n",
    "percentage_finder(text6)"
   ]
  },
  {
   "cell_type": "code",
   "execution_count": null,
   "id": "06d2169e-a4a1-4bf1-8a44-90a82e6d9d1e",
   "metadata": {},
   "outputs": [],
   "source": [
    "# if a percentage parse the mid range\n",
    "mid_range = percentage_converter(text6)\n",
    "mid_range"
   ]
  },
  {
   "cell_type": "code",
   "execution_count": null,
   "id": "f1f85fb1-e58c-4afc-b6c1-0a6c16c495b7",
   "metadata": {},
   "outputs": [],
   "source": [
    "# then continue with the mid +- mid_range thing"
   ]
  },
  {
   "cell_type": "code",
   "execution_count": null,
   "id": "cfa4d29f-cb5d-42c9-8f8f-e570661a5894",
   "metadata": {},
   "outputs": [],
   "source": [
    "# ast.literal_eval('[\"A\",\"B\" ,\"C\" ,\" D\"]') # template"
   ]
  },
  {
   "cell_type": "code",
   "execution_count": null,
   "id": "f0d2020c-bd70-4129-b7dc-f4c7f796ecc0",
   "metadata": {},
   "outputs": [],
   "source": [
    "def parser3(s):\n",
    "    return [int(c) for c in s if c.isdigit()]"
   ]
  },
  {
   "cell_type": "code",
   "execution_count": null,
   "id": "c643dfee-77b2-49a7-a9a7-361946022037",
   "metadata": {},
   "outputs": [],
   "source": [
    "# # list-like string representation test\n",
    "# parsed = initial_list_checking(text3)\n",
    "# parsed"
   ]
  },
  {
   "cell_type": "code",
   "execution_count": null,
   "id": "562cf4fa-17a9-499e-9b6f-db2500fd6984",
   "metadata": {},
   "outputs": [],
   "source": [
    "# test_interval = I(*parsed)\n",
    "# test_interval"
   ]
  },
  {
   "cell_type": "code",
   "execution_count": null,
   "id": "0068b259-acc5-4de0-9d91-d9e05acde6a0",
   "metadata": {},
   "outputs": [],
   "source": [
    "# test_interval = PM(parsed[0], 0.5)\n",
    "# test_interval"
   ]
  }
 ],
 "metadata": {
  "kernelspec": {
   "display_name": "Python 3 (ipykernel)",
   "language": "python",
   "name": "python3"
  },
  "language_info": {
   "codemirror_mode": {
    "name": "ipython",
    "version": 3
   },
   "file_extension": ".py",
   "mimetype": "text/x-python",
   "name": "python",
   "nbconvert_exporter": "python",
   "pygments_lexer": "ipython3",
   "version": "3.11.10"
  }
 },
 "nbformat": 4,
 "nbformat_minor": 5
}
