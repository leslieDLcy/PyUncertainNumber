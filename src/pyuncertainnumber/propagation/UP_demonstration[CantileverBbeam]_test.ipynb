{
 "cells": [
  {
   "cell_type": "markdown",
   "metadata": {
    "jp-MarkdownHeadingCollapsed": true
   },
   "source": [
    "This notebook is written by the DAWS2 UQ team based in Univ. of Liverpool for the workshop of UQ & M of the DAWS2 project.\n",
    "\n",
    "Uncertainty Quantification & Management\n",
    "--\n",
    "*placeholder texts*\n",
    "\n",
    "{\n",
    "\n",
    "Personal website: https://yuchenakaleslie.github.io/<br>\n",
    "ResearchGate: https://www.researchgate.net/profile/Yu-Chen-402<br>\n",
    "Contact: yu.chen2@liverpool.ac.uk\n",
    "\n",
    "}\n",
    "\n",
    "DAWS2 UQ team: {Scott Ferson, Ioanna,  [(Leslie) Yu Chen](https://yuchenakaleslie.github.io/)}\n",
    "\n",
    "All rights reserved.\n",
    "\n",
    "==================="
   ]
  },
  {
   "cell_type": "markdown",
   "metadata": {},
   "source": [
    "## Table of Contents\n",
    "#### [1. Setup](#Setup)\n",
    "#### [2. Problem statement](#problem_statement)\n",
    "#### [3. Create propagating function](#create_propagating_function)\n",
    "#### [4. Epistemic uncertainty](#propagate_epistemic_uncertainty)\n",
    "#### <small>[4.1. Uncertainty Characterisation](#4.1-uncertainty-characterisation)</small>\n",
    "#### <small>[4.2. Uncertainty propagation methods](#4.2-uncertainty-propatation-methods)</small>\n",
    "##### <small>[4.2.1. Endpoints propagation](#4.2.1-Endpoints-propatation)</small>\n",
    "##### <small>[4.2.2. Subinterval reconstitution propagation](#4.2.2.-Subinterval-reconstitution-propagation)</small>\n",
    "##### <small>[4.2.3. Sampling propagation](#4.2.3.-Sampling-propagation)</small>\n",
    "##### <small>[4.2.4. Optimisation methods](#4.2.3.-Optimisation-methods)</small>\n",
    "#### [5. Aleatory uncertainty](#aleatory_uncertainty_propagation)\n",
    "#### [5. Mixed types of uncertainty](#mixed_uncertainty_propagation)"
   ]
  },
  {
   "cell_type": "markdown",
   "metadata": {},
   "source": [
    "***\n",
    "<a id=\"setup\"></a>\n",
    "# 1. Setup\n",
    "\n",
    "Import the libraries"
   ]
  },
  {
   "cell_type": "code",
   "execution_count": 1,
   "metadata": {},
   "outputs": [],
   "source": [
    "import numpy as np\n",
    "from pyuncertainnumber.propagation.uncertaintyPropagation import Propagation, epistemic_propagation, aleatory_propagation, mixed_propagation\n",
    "from pyuncertainnumber import UncertainNumber as UN\n",
    "import matplotlib.pyplot as plt"
   ]
  },
  {
   "cell_type": "code",
   "execution_count": 2,
   "metadata": {},
   "outputs": [],
   "source": [
    "%load_ext autoreload\n",
    "%autoreload 2\n",
    "%load_ext rich"
   ]
  },
  {
   "cell_type": "code",
   "execution_count": null,
   "metadata": {},
   "outputs": [],
   "source": [
    "# import user-defined function\n",
    "\n",
    "USER_dir = 'C:\\\\Users\\\\Ioanna\\\\Documents\\\\GitHub\\pyuncertainnumber_new\\\\cantilever_beam'\n",
    "import sys\n",
    "sys.path.append(USER_dir)"
   ]
  },
  {
   "cell_type": "markdown",
   "metadata": {},
   "source": [
    "***\n",
    "<a id=\"problem_statement\"></a>\n",
    "# 2. Problem statement\n",
    "\n",
    "The numerical example models a simple cantilever beam with length, $L$, distance to the neutral axis $y$, Young’s modulus, $E$, second moment of inertia, $I$, and external load, $F$. We will compute the bending stress $σ$, and the deflection $d$, assuming the above input parameters are **uncertain numbers**.\n",
    "\n",
    "We will use this example throughout the document to illustrate the differences among various uncertainty quantification approaches. A complete description of the following methods can be found in the [DAWS1 report](https://sites.google.com/view/dawsreports/up).\n",
    "\n",
    "![alt text](../assets/cantilever.png)\n",
    "\n",
    "**Fig.1** Cantilever beam with input parameters.  "
   ]
  },
  {
   "cell_type": "markdown",
   "metadata": {},
   "source": [
    "***\n",
    "<a id=\"create_propagating_function\"></a>\n",
    "# 3. Create the propagating function\n",
    "\n",
    "\n",
    "A propagating function is created which calculates the deflection, $d$, as a function of $L$, $E$, $I$, and $F$.\n",
    "- The function's input is only the uncertain numbers.\n",
    "- As sampling techniques are used it is likely that for a certain input combination the airfoil will fail to reach a solution. we use the try function to accomodate for this.\n",
    "\n",
    "\n",
    "Alternatively, such propating function can be imported as a Python function/method object from a certain local directory."
   ]
  },
  {
   "cell_type": "markdown",
   "metadata": {},
   "source": [
    "<a id=\"3.1.-create-function\"></a>\n",
    "\n",
    "## 3.1. Create propagating function"
   ]
  },
  {
   "cell_type": "code",
   "execution_count": 3,
   "metadata": {},
   "outputs": [],
   "source": [
    "def cantilever_beam_deflection(x):\n",
    "    \"\"\"Calculates deflection and stress for a cantilever beam.\n",
    "\n",
    "    Args:\n",
    "        x (np.array): Array of input parameters:\n",
    "            x[0]: Length of the beam (m)\n",
    "            x[1]: Second moment of area (mm^4)\n",
    "            x[2]: Applied force (N)\n",
    "            x[3]: Young's modulus (MPa)\n",
    "\n",
    "    Returns:\n",
    "        float: deflection (m)\n",
    "               Returns np.nan if calculation error occurs.\n",
    "    \"\"\"\n",
    "\n",
    "    beam_length = x[0]\n",
    "    I = x[1]\n",
    "    F = x[2]\n",
    "    E = x[3]\n",
    "    try:  # try is used to account for cases where the input combinations leads to error in fun due to bugs\n",
    "        deflection = F * beam_length**3 / (3 * E * 10**6 * I)  # deflection in m\n",
    "        \n",
    "    except:\n",
    "        deflection = np.nan\n",
    "\n",
    "    return np.array([deflection])"
   ]
  },
  {
   "cell_type": "code",
   "execution_count": null,
   "metadata": {},
   "outputs": [],
   "source": [
    "# know the function with default Python help mechanism\n",
    "cantilever_beam_deflection?"
   ]
  },
  {
   "cell_type": "code",
   "execution_count": null,
   "metadata": {},
   "outputs": [],
   "source": [
    "import numpy as np \n",
    "x = np.array([1.00500000e+01 , 3.86159100e-04 ,8.24387293e+00 , 2.12872340e+02])\n",
    "y = cantilever_beam_deflection(x)\n",
    "print(y)"
   ]
  },
  {
   "cell_type": "markdown",
   "metadata": {},
   "source": [
    "<a id=\"3.2.-Upload-function\"></a>\n",
    "\n",
    "## 3.2. Upload propagating function"
   ]
  },
  {
   "cell_type": "code",
   "execution_count": 7,
   "metadata": {},
   "outputs": [],
   "source": [
    "# Alternatively, such propating function can be imported as a Python function/method object from a certain local directory.\n",
    "from PyUncertainNumber.propagation.performance_func import cb_deflection, cb_stress"
   ]
  },
  {
   "cell_type": "markdown",
   "metadata": {
    "jp-MarkdownHeadingCollapsed": true
   },
   "source": [
    "<a id=\"3.3.-verify-function\"></a>\n",
    "\n",
    "## 3.3. Verify the function\n",
    "\n",
    "To ensure that the function yields meaningful results. We consider that input has the nominal values seen below.\n",
    "\n",
    "The function should yield deflection equal to 0.162m.\n",
    " "
   ]
  },
  {
   "cell_type": "code",
   "execution_count": null,
   "metadata": {},
   "outputs": [],
   "source": [
    "# test the function\n",
    "\n",
    "y  = 0.155 # m\n",
    "L  = 10.05 # m\n",
    "I = 0.000386 # m**4\n",
    "F = 37 # kN\n",
    "E = 200 # GPa\n",
    "\n",
    "x = np.array([L, I, F, E])\n",
    "deflection = cantilever_beam_deflection(x)\n",
    "\n",
    "print(deflection) # 0.162m"
   ]
  },
  {
   "cell_type": "markdown",
   "metadata": {},
   "source": [
    "***\n",
    "<a id=\"propagate_epistemic_uncertainty\"></a>\n",
    "# 4. Epistemic uncertainty"
   ]
  },
  {
   "cell_type": "markdown",
   "metadata": {},
   "source": [
    "<a id=\"4.1.-uncertainty-characterisation\"></a>\n",
    "\n",
    "## 4.1. Uncertainty Characterisation\n",
    "\n",
    "Construct `UncertainNumbers` objects for the inputs assuming they are intervals with the lower and upper values are seen below\n",
    "\n",
    "- $y = [0.145, 0.155] \\ m$\n",
    "\n",
    "- $L = [9.95, 10.05] \\ m$\n",
    "\n",
    "- $I = [0.0003861591, 0.0005213425] \\ m^{4}$\n",
    "\n",
    "- $F = [11, 37] \\ kN$\n",
    "\n",
    "- $E = [200, 220] \\ GPa$\n",
    " "
   ]
  },
  {
   "cell_type": "code",
   "execution_count": 17,
   "metadata": {},
   "outputs": [],
   "source": [
    "#y = UN(name='beam width', symbol='y', units='m', essence='interval', bounds=[0.145, 0.155]) # Required only for stress estimation\n",
    "L = UN(name='beam length', symbol='L', units='m', essence='interval', bounds= [9.95, 10.05])\n",
    "I = UN(name='moment of inertia', symbol='I', units='m', essence='interval', bounds= [0.0003861591, 0.0005213425])\n",
    "F = UN(name='vertical force', symbol='F', units='kN', essence='interval', bounds= [11, 37])\n",
    "E = UN(name='elastic modulus', symbol='E', units='GPa', essence='interval', bounds=[200, 220])"
   ]
  },
  {
   "cell_type": "code",
   "execution_count": null,
   "metadata": {},
   "outputs": [],
   "source": [
    "\n",
    "L.display()\n",
    "plt.show()"
   ]
  },
  {
   "cell_type": "code",
   "execution_count": null,
   "metadata": {},
   "outputs": [],
   "source": [
    "import matplotlib.pyplot as plt\n",
    "\n",
    "def plot_interval_box(lower_bound, upper_bound):\n",
    "    \"\"\"Plots an interval as a box on the y-axis at y=1 with no x-axis numbers \n",
    "       and includes vertical lines from y=0 to y=1 at the bounds.\n",
    "    \"\"\"\n",
    "\n",
    "    plt.figure(figsize=(3, 3))  # Adjust figure size as needed\n",
    "\n",
    "    # Create the box\n",
    "    \n",
    "    plt.hlines(y=1, xmin=lower_bound, xmax=upper_bound, linewidth=2, color='blue')\n",
    "\n",
    "    # Add vertical lines\n",
    "    plt.vlines(x=lower_bound, ymin=0, ymax=1, linewidth=1, color='blue')\n",
    "    plt.vlines(x=upper_bound, ymin=0, ymax=1, linewidth=1, color='blue')\n",
    "\n",
    "    #plt.yticks([0])  # Show only the y-axis tick at 0 \n",
    "    plt.xticks([])  # Remove x-axis ticks and numbers\n",
    "\n",
    "    plt.xlabel(\"V\")\n",
    "    plt.ylabel(\"CDF\")\n",
    "\n",
    "    plt.show()\n",
    "\n",
    "\n",
    "# Example usage:\n",
    "plot_interval_box(2, 5)"
   ]
  },
  {
   "cell_type": "markdown",
   "metadata": {},
   "source": [
    "<a id=\"4.2-uncertainty-propatation-methods\"></a>\n",
    "\n",
    "## 4.2 Ucertainty propagation methods \n",
    "\n",
    "Choose from a suite of black box propagating techniques to propagate the intervals through the model. "
   ]
  },
  {
   "cell_type": "markdown",
   "metadata": {
    "jp-MarkdownHeadingCollapsed": true
   },
   "source": [
    "<a id=\"4.2.1.-Endpoints-propatation\"></a>\n",
    "\n",
    "### 4.2.1. Endpoint propagation\n",
    "\n",
    "The endpoint propagation method (Dong and Shah, 1987) is a straightforward way to project intervals through the code, by projecting all input combinations produced by the Cartesian product of the interval bounds. This results in a total of $n = 2^{d}$. \n",
    "\n",
    "For the working example, there are d = 5 intervals which results in $n = 2^{5} = 32$ input combinations.\n",
    "\n",
    "#### Assumptions\n",
    "\n",
    "\n"
   ]
  },
  {
   "cell_type": "markdown",
   "metadata": {},
   "source": [
    "- [x] Ioanna's original top-level UP function with  the 'endspoints' method"
   ]
  },
  {
   "cell_type": "markdown",
   "metadata": {},
   "source": [
    "- [x] Leslie's standalone endspoints implementation"
   ]
  },
  {
   "cell_type": "code",
   "execution_count": null,
   "metadata": {},
   "outputs": [],
   "source": [
    "METHOD = \"endpoints\"\n",
    "\n",
    "a = Propagation(vars=[L, I, F, E], \n",
    "          fun=cantilever_beam_deflection, \n",
    "          method = METHOD,\n",
    "          save_raw_data = \"no\" \n",
    "        #   save_raw_data = \"yes\", \n",
    "        #   base_path = USER_dir\n",
    "         )                 "
   ]
  },
  {
   "cell_type": "code",
   "execution_count": null,
   "metadata": {},
   "outputs": [],
   "source": [
    "a.summary() #summary of results "
   ]
  },
  {
   "cell_type": "code",
   "execution_count": null,
   "metadata": {},
   "outputs": [],
   "source": [
    "a.raw_data['x'] # the input combinations.\n",
    "a.raw_data['f'] # the function evaluations for input combinations.\n",
    "a.raw_data['bounds'] # the bounds for each output\n",
    "a.raw_data['min'] # summary of min f and corresponding x\n",
    "a.raw_data['max'] # summary of max f and corresponding x\n",
    "a.un # the uncertain number\n"
   ]
  },
  {
   "cell_type": "code",
   "execution_count": null,
   "metadata": {},
   "outputs": [],
   "source": [
    "METHOD = \"endpoints\"\n",
    "\n",
    "b = epistemic_propagation(vars=[L, I, F, E], \n",
    "          fun=cantilever_beam_deflection, \n",
    "          method = METHOD, \n",
    "          save_raw_data = \"no\"\n",
    "        #   save_raw_data = \"yes\", \n",
    "        #   base_path = USER_dir\n",
    "         )"
   ]
  },
  {
   "cell_type": "code",
   "execution_count": null,
   "metadata": {},
   "outputs": [],
   "source": [
    "b.raw_data['x'] # the input combinations.\n",
    "b.raw_data['f'] # the function evaluations for input combinations.\n",
    "b.raw_data['bounds'] # the bounds for each output\n",
    "b.raw_data['min'] # summary of min f and corresponding x\n",
    "b.raw_data['max'] # summary of max f and corresponding x\n",
    "b.un # the uncertain number"
   ]
  },
  {
   "cell_type": "code",
   "execution_count": null,
   "metadata": {},
   "outputs": [],
   "source": [
    "b.summary()"
   ]
  },
  {
   "cell_type": "markdown",
   "metadata": {
    "jp-MarkdownHeadingCollapsed": true
   },
   "source": [
    "<a id=\"4.2.2.-Subinterval-reconstitution-propagation\"></a>\n",
    "\n",
    "### 4.2.2. Subinterval reconstitution propagation\n",
    "\n",
    "The input intervals are partitioned into smaller intervals, which are then propagated through the model using endpoint propagation and the output interval can be reassembled (Ferson and Hajagos, 2004)."
   ]
  },
  {
   "cell_type": "code",
   "execution_count": null,
   "metadata": {},
   "outputs": [],
   "source": [
    "METHOD = \"subinterval\"\n",
    "\n",
    "a = Propagation(vars=[L, I, F, E], \n",
    "          fun=cantilever_beam_deflection, \n",
    "          method = METHOD,\n",
    "          save_raw_data = \"no\" \n",
    "        #   save_raw_data = \"yes\", \n",
    "        #   base_path = USER_dir\n",
    "         )        "
   ]
  },
  {
   "cell_type": "code",
   "execution_count": null,
   "metadata": {},
   "outputs": [],
   "source": [
    "a.summary() #summary of results "
   ]
  },
  {
   "cell_type": "code",
   "execution_count": null,
   "metadata": {},
   "outputs": [],
   "source": [
    "METHOD = \"subinterval\"\n",
    "\n",
    "b = epistemic_propagation(vars=[L, I, F, E], \n",
    "          fun=cantilever_beam_deflection, \n",
    "          n_sub=3,\n",
    "          method = METHOD, \n",
    "          save_raw_data = \"no\"\n",
    "        #   save_raw_data = \"yes\", \n",
    "        #   base_path = USER_dir\n",
    "         )"
   ]
  },
  {
   "cell_type": "code",
   "execution_count": null,
   "metadata": {},
   "outputs": [],
   "source": [
    "b.summary() #summary of results "
   ]
  },
  {
   "cell_type": "code",
   "execution_count": null,
   "metadata": {},
   "outputs": [],
   "source": [
    "b.raw_data['x'] # the input combinations.\n",
    "b.raw_data['f'] # the function evaluations for input combinations.\n",
    "b.raw_data['bounds'] # the bounds for each output\n",
    "b.raw_data['min'] # summary of min f and corresponding x\n",
    "b.raw_data['max'] # summary of max f and corresponding x\n",
    "b.un # the uncertain number"
   ]
  },
  {
   "cell_type": "markdown",
   "metadata": {
    "jp-MarkdownHeadingCollapsed": true
   },
   "source": [
    "<a id=\"4.2.3.-Sampling-propagation\"></a>\n",
    "\n",
    "### 4.2.3. Sampling propagation\n",
    "\n",
    "- Brute Monte Carlo\n",
    "- Latin Hypercube\n",
    "- Brute Monte Carlo + endpoints\n",
    "- Latin Hypercuve + endpoints"
   ]
  },
  {
   "cell_type": "code",
   "execution_count": null,
   "metadata": {},
   "outputs": [],
   "source": [
    "METHOD = \"monte_carlo\"\n",
    "\n",
    "a = Propagation(vars=[L, I, F, E], \n",
    "          fun=cantilever_beam_deflection,\n",
    "          n_sam = 1000, \n",
    "          method = METHOD,\n",
    "          save_raw_data = \"no\" \n",
    "        #   save_raw_data = \"yes\", \n",
    "        #   base_path = USER_dir\n",
    "         )        "
   ]
  },
  {
   "cell_type": "code",
   "execution_count": null,
   "metadata": {},
   "outputs": [],
   "source": [
    "a.summary()"
   ]
  },
  {
   "cell_type": "code",
   "execution_count": null,
   "metadata": {},
   "outputs": [],
   "source": [
    "METHOD = \"monte_carlo\"\n",
    "\n",
    "b = epistemic_propagation(vars=[L, I, F, E], \n",
    "          fun=cantilever_beam_deflection,\n",
    "          n_sam = 1000,  \n",
    "          method = METHOD, \n",
    "          save_raw_data = \"no\"\n",
    "        #   save_raw_data = \"yes\", \n",
    "        #   base_path = USER_dir\n",
    "         )"
   ]
  },
  {
   "cell_type": "code",
   "execution_count": null,
   "metadata": {},
   "outputs": [],
   "source": [
    "b.print()\n",
    "b.un"
   ]
  },
  {
   "cell_type": "code",
   "execution_count": null,
   "metadata": {},
   "outputs": [],
   "source": [
    "METHOD = \"monte_carlo_endpoints\"\n",
    "\n",
    "c = Propagation(vars=[L, I, F, E], \n",
    "          fun=cantilever_beam_deflection,\n",
    "          n_sam = 1000,  \n",
    "          method = METHOD, \n",
    "          save_raw_data = \"no\"\n",
    "        #   save_raw_data = \"yes\", \n",
    "        #   base_path = USER_dir\n",
    "         )"
   ]
  },
  {
   "cell_type": "code",
   "execution_count": null,
   "metadata": {},
   "outputs": [],
   "source": [
    "c.print()\n",
    "c.un"
   ]
  },
  {
   "cell_type": "code",
   "execution_count": null,
   "metadata": {},
   "outputs": [],
   "source": [
    "METHOD = \"monte_carlo_endpoints\"\n",
    "\n",
    "d = epistemic_propagation(vars=[L, I, F, E], \n",
    "          fun=cantilever_beam_deflection,\n",
    "          n_sam = 1000,  \n",
    "          method = METHOD, \n",
    "          save_raw_data = \"no\"\n",
    "        #   save_raw_data = \"yes\", \n",
    "        #   base_path = USER_dir\n",
    "         )"
   ]
  },
  {
   "cell_type": "code",
   "execution_count": null,
   "metadata": {},
   "outputs": [],
   "source": [
    "d.un"
   ]
  },
  {
   "cell_type": "markdown",
   "metadata": {},
   "source": [
    "### 4.2.4. Sampling propagation\n",
    "\n",
    "- Latin Hypercube\n",
    "- Latin Hypercuve + endpoints"
   ]
  },
  {
   "cell_type": "code",
   "execution_count": null,
   "metadata": {},
   "outputs": [],
   "source": [
    "METHOD = \"latin_hypercube\"\n",
    "\n",
    "a = Propagation(vars=[L, I, F, E], \n",
    "          fun=cantilever_beam_deflection,\n",
    "          n_sam = 1000, \n",
    "          method = METHOD,\n",
    "          save_raw_data = \"no\" \n",
    "        #   save_raw_data = \"yes\", \n",
    "        #   base_path = USER_dir\n",
    "         )        "
   ]
  },
  {
   "cell_type": "code",
   "execution_count": null,
   "metadata": {},
   "outputs": [],
   "source": [
    "a.un"
   ]
  },
  {
   "cell_type": "code",
   "execution_count": null,
   "metadata": {},
   "outputs": [],
   "source": [
    "METHOD = \"latin_hypercube\"\n",
    "\n",
    "b = epistemic_propagation(vars=['L', 'I', 'F', 'E'], \n",
    "          fun=cantilever_beam_deflection,\n",
    "          n_sam = 1000, \n",
    "          method = METHOD,\n",
    "          save_raw_data = \"no\" \n",
    "        #   save_raw_data = \"yes\", \n",
    "        #   base_path = USER_dir\n",
    "         )        "
   ]
  },
  {
   "cell_type": "code",
   "execution_count": null,
   "metadata": {},
   "outputs": [],
   "source": [
    "b.un"
   ]
  },
  {
   "cell_type": "code",
   "execution_count": null,
   "metadata": {},
   "outputs": [],
   "source": [
    "METHOD = \"latin_hypercube_endpoints\"\n",
    "\n",
    "c = Propagation(vars=[L, I, F, E], \n",
    "          fun=cantilever_beam_deflection,\n",
    "          n_sam = 1000, \n",
    "          method = METHOD,\n",
    "          save_raw_data = \"no\" \n",
    "        #   save_raw_data = \"yes\", \n",
    "        #   base_path = USER_dir\n",
    "         )       "
   ]
  },
  {
   "cell_type": "code",
   "execution_count": null,
   "metadata": {},
   "outputs": [],
   "source": [
    "c.un"
   ]
  },
  {
   "cell_type": "code",
   "execution_count": null,
   "metadata": {},
   "outputs": [],
   "source": [
    "METHOD = \"latin_hypercube_endpoints\"\n",
    "\n",
    "d = epistemic_propagation(vars=[L, I, F, E], \n",
    "          fun=cantilever_beam_deflection,\n",
    "          n_sam = 1000, \n",
    "          method = METHOD,\n",
    "          save_raw_data = \"no\" \n",
    "        #   save_raw_data = \"yes\", \n",
    "        #   base_path = USER_dir\n",
    "         )      "
   ]
  },
  {
   "cell_type": "code",
   "execution_count": null,
   "metadata": {},
   "outputs": [],
   "source": [
    "d.print()"
   ]
  },
  {
   "cell_type": "markdown",
   "metadata": {},
   "source": [
    "<a id=\"4.2.5.-Optimisation-methors\"></a>\n",
    "\n",
    "### 4.2.5. Optimisation methods\n",
    "\n",
    "- Local optimisation\n",
    "- Genetic algorithm\n"
   ]
  },
  {
   "cell_type": "code",
   "execution_count": null,
   "metadata": {},
   "outputs": [],
   "source": [
    "METHOD = \"local_optimisation\"\n",
    "\n",
    "a = Propagation(vars=[L, I, F, E], \n",
    "       fun = cantilever_beam_deflection, \n",
    "       x0 = None, \n",
    "       method = METHOD, \n",
    "       method_loc = 'Nelder-Mead')"
   ]
  },
  {
   "cell_type": "code",
   "execution_count": null,
   "metadata": {},
   "outputs": [],
   "source": [
    "a.un\n",
    "a.print()"
   ]
  },
  {
   "cell_type": "code",
   "execution_count": 10,
   "metadata": {},
   "outputs": [],
   "source": [
    "METHOD = \"local_optimisation\"\n",
    "\n",
    "b = epistemic_propagation(vars=[L, I, F, E], \n",
    "       fun = cantilever_beam_deflection, \n",
    "       #x0 = None, \n",
    "       method = METHOD, \n",
    "       method_loc = 'Nelder-Mead')"
   ]
  },
  {
   "cell_type": "code",
   "execution_count": null,
   "metadata": {},
   "outputs": [],
   "source": [
    "b.print()"
   ]
  },
  {
   "cell_type": "code",
   "execution_count": null,
   "metadata": {},
   "outputs": [],
   "source": [
    "b.un"
   ]
  },
  {
   "cell_type": "markdown",
   "metadata": {},
   "source": []
  },
  {
   "cell_type": "code",
   "execution_count": null,
   "metadata": {},
   "outputs": [],
   "source": [
    "METHOD = \"genetic_optimisation\"\n",
    "\n",
    "a = Propagation(vars=[L, I, F, E], \n",
    "       fun = cantilever_beam_deflection, \n",
    "       method = METHOD)"
   ]
  },
  {
   "cell_type": "code",
   "execution_count": null,
   "metadata": {},
   "outputs": [],
   "source": [
    "a.un"
   ]
  },
  {
   "cell_type": "code",
   "execution_count": null,
   "metadata": {},
   "outputs": [],
   "source": [
    "len(a.raw_data['bounds'].shape)"
   ]
  },
  {
   "cell_type": "code",
   "execution_count": null,
   "metadata": {},
   "outputs": [],
   "source": [
    "a.raw_data['bounds']"
   ]
  },
  {
   "cell_type": "code",
   "execution_count": null,
   "metadata": {},
   "outputs": [],
   "source": [
    "a.print()"
   ]
  },
  {
   "cell_type": "code",
   "execution_count": null,
   "metadata": {},
   "outputs": [],
   "source": [
    "METHOD = \"genetic_optimisation\"\n",
    "\n",
    "b = epistemic_propagation(vars[L, I, F, E], \n",
    "       fun = cantilever_beam_deflection, \n",
    "       method = METHOD)"
   ]
  },
  {
   "cell_type": "code",
   "execution_count": null,
   "metadata": {},
   "outputs": [],
   "source": [
    "b.print()"
   ]
  },
  {
   "cell_type": "markdown",
   "metadata": {},
   "source": [
    "### Naive interval arithmetics"
   ]
  },
  {
   "cell_type": "code",
   "execution_count": null,
   "metadata": {},
   "outputs": [],
   "source": [
    "defl = cantilever_beam_deflection(L, I, F, E)"
   ]
  },
  {
   "cell_type": "code",
   "execution_count": null,
   "metadata": {},
   "outputs": [],
   "source": []
  },
  {
   "cell_type": "markdown",
   "metadata": {},
   "source": [
    "***\n",
    "<a id=\"aleatory_uncertainty_propagation\"></a>\n",
    "# 5. Aleatory uncertainty\n",
    "\n",
    "when inputs have various types of uncertainty."
   ]
  },
  {
   "cell_type": "code",
   "execution_count": 26,
   "metadata": {},
   "outputs": [],
   "source": [
    "# y = UN(name='beam width', symbol='y', units='m', essence='interval', bounds=[0.145, 0.155]) # Required only for stress estimation\n",
    "L = UN(name='beam length', symbol='L', units='m', essence='distribution', distribution_parameters=[\"gaussian\", [10.05, 0.033]])\n",
    "I = UN(name='moment of inertia', symbol='I', units='m', essence='distribution', distribution_parameters=[\"gaussian\", [0.000454, 4.5061e-5]])\n",
    "F = UN(name='vertical force', symbol='F', units='kN', essence='distribution', distribution_parameters=[\"gaussian\", [24, 8.67]])\n",
    "E = UN(name='elastic modulus', symbol='E', units='GPa', essence='distribution', distribution_parameters=[\"gaussian\", [210, 6.67]])"
   ]
  },
  {
   "cell_type": "code",
   "execution_count": null,
   "metadata": {},
   "outputs": [],
   "source": [
    "METHOD = \"monte_carlo\"\n",
    "\n",
    "a = Propagation(vars=[L, I, F, E], \n",
    "          fun = cantilever_beam_deflection, \n",
    "          n_sam = 100, \n",
    "          method = METHOD, \n",
    "          save_raw_data = \"no\"\n",
    "         )\n"
   ]
  },
  {
   "cell_type": "code",
   "execution_count": null,
   "metadata": {},
   "outputs": [],
   "source": [
    "a.print()"
   ]
  },
  {
   "cell_type": "code",
   "execution_count": null,
   "metadata": {},
   "outputs": [],
   "source": [
    "\n",
    "METHOD = \"monte_carlo\"\n",
    "\n",
    "b = aleatory_propagation(vars=[L, I, F, E], \n",
    "          fun = cantilever_beam_deflection, \n",
    "          n_sam = 100, \n",
    "          method = METHOD, \n",
    "          save_raw_data = \"no\"\n",
    "         )\n"
   ]
  },
  {
   "cell_type": "code",
   "execution_count": null,
   "metadata": {},
   "outputs": [],
   "source": [
    "b.print()"
   ]
  },
  {
   "cell_type": "markdown",
   "metadata": {},
   "source": [
    "***\n",
    "<a id=\"mixed_uncertainty_propagation\"></a>\n",
    "# 6. Mixed types of uncertainty\n",
    "\n",
    "when inputs have various types of uncertainty."
   ]
  },
  {
   "cell_type": "code",
   "execution_count": null,
   "metadata": {},
   "outputs": [],
   "source": [
    "#TODO could Scott elaborate? cartesian matrix distribution and interval or pbox - interval horizontal slices through the pbox define an interval, horizontal slicing as an approximation or rigolously each of the ci functions\n",
    "#TODO ferson, hajagos rigorous\n",
    "#slicing approimately, slicling rigorously\n",
    "#a list of itnervals by horizontal slices and with these lists the cartesian product , interval from each input.\n",
    "#stack the intervals and reconstruct this is done. "
   ]
  },
  {
   "cell_type": "code",
   "execution_count": 4,
   "metadata": {},
   "outputs": [],
   "source": [
    "# y = UN(name='distance to neutral axis', symbol='y', units='m', essence='distribution', distribution_parameters=[\"gaussian\", [0.15, 0.00333]])\n",
    "L = UN(name='beam length', symbol='L', units='m', essence='distribution', distribution_parameters=[\"gaussian\", [10.05, 0.033]])\n",
    "I = UN(name='moment of inertia', symbol='I', units='m', essence='distribution', distribution_parameters=[\"gaussian\", [0.000454, 4.5061e-5]])\n",
    "F = UN(name='vertical force', symbol='F', units='kN', essence='distribution', distribution_parameters=[\"gaussian\", [24, 8.67]])\n",
    "E = UN(name='elastic modulus', symbol='E', units='GPa', essence='distribution', distribution_parameters=[\"gaussian\", [210, 6.67]])\n",
    "    \n",
    "# y = UN(name='beam width', symbol='y', units='m', essence='interval', bounds=[0.145, 0.155]) \n",
    "#L = UN(name='beam length', symbol='L', units='m', essence='interval', bounds= [9.95, 10.05])\n",
    "# I = UN(name='moment of inertia', symbol='I', units='m', essence='interval', bounds= [0.0003861591, 0.0005213425])\n",
    "# F = UN(name='vertical force', symbol='F', units='kN', essence='interval', bounds= [11, 37])\n",
    "#E = UN(name='elastic modulus', symbol='E', units='GPa', essence='interval', bounds=[200, 220])\n"
   ]
  },
  {
   "cell_type": "code",
   "execution_count": null,
   "metadata": {},
   "outputs": [],
   "source": [
    "METHOD = \"focused_discretisation_endpoints\"\n",
    "\n",
    "c = Propagation(vars=[L, I, F, E], \n",
    "          fun = cantilever_beam_deflection, \n",
    "          # n_disc = 10,\n",
    "          tOp = 0.90,\n",
    "          bOt= 0.1,\n",
    "          \n",
    "          # tOp = 0.999,\n",
    "          # bOt= 0.001,\n",
    "          # condensation = None, \n",
    "          method = METHOD, \n",
    "          save_raw_data = \"no\"\n",
    "         )"
   ]
  },
  {
   "cell_type": "code",
   "execution_count": null,
   "metadata": {},
   "outputs": [],
   "source": [
    "METHOD = \"focused_discretisation_endpoints\"\n",
    "\n",
    "b = mixed_propagation(vars=[L, I, F, E], \n",
    "          fun = cantilever_beam_deflection, \n",
    "          n_disc = 2,\n",
    "          \n",
    "          tOp = 0.90,\n",
    "          bOt= 0.1,\n",
    "          # condensation = None, \n",
    "          method = METHOD, \n",
    "          save_raw_data = \"no\"\n",
    "         )"
   ]
  },
  {
   "cell_type": "code",
   "execution_count": null,
   "metadata": {},
   "outputs": [],
   "source": [
    "METHOD = \"focused_discretisation_extremepoints\"\n",
    "\n",
    "a = Propagation(vars=[L, I, F, E], \n",
    "          fun = cantilever_beam_deflection, \n",
    "          n_disc = 2,\n",
    "          tOp = 0.90,\n",
    "          bOt= 0.1,\n",
    "          # tOp = 0.999,\n",
    "          # bOt= 0.001,\n",
    "          # condensation = None, \n",
    "          method = METHOD, \n",
    "          save_raw_data = \"no\"\n",
    "         )\n"
   ]
  },
  {
   "cell_type": "code",
   "execution_count": null,
   "metadata": {},
   "outputs": [],
   "source": [
    "METHOD = \"focused_discretisation_extremepoints\"\n",
    "\n",
    "d = Propagation(vars=[L, I, F, E], \n",
    "          fun = cantilever_beam_deflection, \n",
    "          n_disc = 10,\n",
    "          tOp = 0.90,\n",
    "          bOt= 0.1,\n",
    "          # tOp = 0.999,\n",
    "          # bOt= 0.001,\n",
    "          # condensation = None, \n",
    "          method = METHOD, \n",
    "          save_raw_data = \"no\"\n",
    "         )\n"
   ]
  },
  {
   "cell_type": "code",
   "execution_count": 9,
   "metadata": {},
   "outputs": [],
   "source": [
    "def plotPbox_bounds(x, p=None):\n",
    "    \"\"\"\n",
    "    Plots a p-box (probability box) using matplotlib.\n",
    "\n",
    "    Args:\n",
    "        xL (np.ndarray): A 1D NumPy array of lower bounds.\n",
    "        xR (np.ndarray): A 1D NumPy array of upper bounds.\n",
    "        p (np.ndarray, optional): A 1D NumPy array of probabilities corresponding to the intervals.\n",
    "                                   Defaults to None, which generates equally spaced probabilities.\n",
    "        color (str, optional): The color of the plot. Defaults to 'k' (black).\n",
    "    \"\"\"\n",
    "    xL = x[0]  # Ensure xL is a 1D array\n",
    "    xR = x[1]  # Ensure xR is a 1D array\n",
    "    \n",
    "    if p is None:\n",
    "        p = np.linspace(0, 1, len(xL) + 1)  # p should have one more element than xL/xR\n",
    "\n",
    "    #Plot the step functions\n",
    "    plt.step(np.concatenate(([xL[0]], xL)), p, where='post', color='black')\n",
    "    plt.step(np.concatenate(([xR[0]], xR)), p, where='post', color='red')\n",
    "\n",
    "    #Add bottom and top lines to close the box\n",
    "    plt.plot([xL[0], xR[0]], [0, 0], color='red')  # Bottom line\n",
    "    plt.plot([xL[-1], xR[-1]], [1, 1], color='black')  # Top line\n",
    "\n",
    "    # Add x and y axis labels\n",
    "    plt.xlabel(\"X\", fontsize=14)  \n",
    "    plt.ylabel(\"Cumulative Probability\", fontsize=14) \n",
    "    # Increase font size for axis numbers\n",
    "    plt.xticks(fontsize=12)\n",
    "    plt.yticks(fontsize=12)"
   ]
  },
  {
   "cell_type": "code",
   "execution_count": null,
   "metadata": {},
   "outputs": [],
   "source": [
    "#plotPbox_bounds(a.raw_data['bounds'][0])\n",
    "#plotPbox_bounds(b.raw_data['bounds'][0])\n",
    "#plotPbox_bounds(c.raw_data['bounds'][0])\n",
    "plotPbox_bounds(a.raw_data['bounds'][0])\n",
    "plotPbox_bounds(d.raw_data['bounds'][0])\n",
    "\n"
   ]
  },
  {
   "cell_type": "code",
   "execution_count": null,
   "metadata": {},
   "outputs": [],
   "source": [
    "from pyuncertainnumber.propagation.utils import condense_bounds\n",
    "bounds= d.raw_data['bounds']\n",
    "a_con = condense_bounds(bounds, 20)\n",
    "\n",
    "plotPbox_bounds(d.raw_data['bounds'][0])\n",
    "plotPbox_bounds(a_con[0])"
   ]
  },
  {
   "cell_type": "code",
   "execution_count": null,
   "metadata": {},
   "outputs": [],
   "source": [
    "b.raw_data['bounds']"
   ]
  },
  {
   "cell_type": "code",
   "execution_count": null,
   "metadata": {},
   "outputs": [],
   "source": [
    "METHOD = \"focused_discretisation_extremepoints\"\n",
    "\n",
    "a = mixed_propagation(vars=[L, I, F, E], \n",
    "          fun = cantilever_beam_deflection, \n",
    "          # n_slices = 10,\n",
    "          # condensation = None, \n",
    "          # tOp = 0.999,\n",
    "          # bOt= 0.001,\n",
    "          method = METHOD, \n",
    "          save_raw_data = \"no\"\n",
    "         )\n"
   ]
  },
  {
   "cell_type": "markdown",
   "metadata": {},
   "source": [
    "#Approximation needs only distributions or pboxes. For the time being lets not use any intervals. "
   ]
  },
  {
   "cell_type": "code",
   "execution_count": 12,
   "metadata": {},
   "outputs": [],
   "source": [
    "# y = UN(name='beam width', symbol='y', units='m', essence='interval', bounds=[0.145, 0.155]) # Required only for stress estimation\n",
    "L = UN(name='beam length', symbol='L', units='m', essence='distribution', distribution_parameters=[\"gaussian\", [10.05, 0.033]])\n",
    "I = UN(name='moment of inertia', symbol='I', units='m', essence='distribution', distribution_parameters=[\"gaussian\", [0.000454, 4.5061e-5]])\n",
    "F = UN(name='vertical force', symbol='F', units='kN', essence='distribution', distribution_parameters=[\"gaussian\", [24, 8.67]])\n",
    "E = UN(name='elastic modulus', symbol='E', units='GPa', essence='distribution', distribution_parameters=[\"gaussian\", [210, 6.67]])"
   ]
  },
  {
   "cell_type": "code",
   "execution_count": null,
   "metadata": {},
   "outputs": [],
   "source": [
    "METHOD = \"varied_discretisation_extremepoints\"\n",
    "\n",
    "a = Propagation(vars=[L, I, F, E], \n",
    "          fun = cantilever_beam_deflection, \n",
    "          # n_slices = 10,\n",
    "          # condensation = None, \n",
    "          # tOp = 0.999,\n",
    "          # bOt= 0.001,\n",
    "          method = METHOD, \n",
    "          save_raw_data = \"no\"\n",
    "         )"
   ]
  },
  {
   "cell_type": "code",
   "execution_count": null,
   "metadata": {},
   "outputs": [],
   "source": [
    "a.print()\n",
    "a.un"
   ]
  },
  {
   "cell_type": "code",
   "execution_count": null,
   "metadata": {},
   "outputs": [],
   "source": [
    "a.raw_data['x'] # the input combinations.\n",
    "a.raw_data['f'] # the function evaluations for input combinations.\n",
    "a.raw_data['bounds'] # the bounds for each output\n",
    "a.raw_data['min'] # summary of min f and corresponding x\n",
    "a.raw_data['max'] # summary of max f and corresponding x\n",
    "a.un # the uncertain number"
   ]
  },
  {
   "cell_type": "code",
   "execution_count": null,
   "metadata": {},
   "outputs": [],
   "source": [
    "METHOD = \"varied_discretisation_extremepoints\"\n",
    "\n",
    "b = mixed_propagation(vars=[L, I, F, E], \n",
    "          fun = cantilever_beam_deflection, \n",
    "          # n_slices = 10,\n",
    "          # condensation = None, \n",
    "          # tOp = 0.999,\n",
    "          # bOt= 0.001,\n",
    "          method = METHOD, \n",
    "          save_raw_data = \"no\"\n",
    "         )"
   ]
  },
  {
   "cell_type": "code",
   "execution_count": null,
   "metadata": {},
   "outputs": [],
   "source": [
    "b.print()"
   ]
  },
  {
   "cell_type": "code",
   "execution_count": null,
   "metadata": {},
   "outputs": [],
   "source": [
    "b.raw_data['x'] # the input combinations.\n",
    "b.raw_data['f'] # the function evaluations for input combinations.\n",
    "b.raw_data['bounds'] # the bounds for each output\n",
    "b.raw_data['min'] # summary of min f and corresponding x\n",
    "b.raw_data['max'] # summary of max f and corresponding x\n",
    "b.un # the uncertain number"
   ]
  },
  {
   "cell_type": "code",
   "execution_count": null,
   "metadata": {},
   "outputs": [],
   "source": [
    "from pyuncertainnumber.pba.distributions import Distribution\n",
    "from pyuncertainnumber.characterisation.uncertainNumber import UncertainNumber as UN\n",
    "import numpy as np\n",
    "s = np.random.normal(0,2,1000)\n",
    "d = Distribution(sample_data =s)\n",
    "u = UN.fromDistribution(d)"
   ]
  },
  {
   "cell_type": "code",
   "execution_count": null,
   "metadata": {},
   "outputs": [],
   "source": [
    "_= u.display()\n"
   ]
  },
  {
   "cell_type": "code",
   "execution_count": 11,
   "metadata": {},
   "outputs": [
    {
     "name": "stdout",
     "output_type": "stream",
     "text": [
      "1\n",
      "0.1\n"
     ]
    }
   ],
   "source": [
    "from pyuncertainnumber.characterisation.uncertainNumber import UncertainNumber\n",
    "from pyuncertainnumber.propagation.uncertaintyPropagation import Propagation\n",
    "from pyuncertainnumber.propagation.mixed_uncertainty.focused_discretisation_propagation import focused_discretisation_propagation_method\n",
    "from pyuncertainnumber.propagation.mixed_uncertainty.varied_discretisation_propagation import varied_discretisation_propagation_method\n",
    "import matplotlib.pyplot as plt\n",
    "import numpy as np\n",
    "def Fun(x):\n",
    "\n",
    "    input1= x[0]\n",
    "    input2=x[1]\n",
    "    input3=x[2]\n",
    "    input4=x[3]\n",
    "    input5=x[4]\n",
    "\n",
    "    output1 = input1 + input2 + input3 + input4 + input5\n",
    "    output2 = input1 * input2 * input3 * input4 * input5\n",
    "\n",
    "    return np.array([output1, output2])\n",
    "\n",
    "means = np.array([ 1,   2,   3,   4,   5])\n",
    "stds = np.array([0.1, 0.2, 0.3, 0.4, 0.5])\n",
    "print(means[0])\n",
    "print(stds[0])\n",
    "x = [  UncertainNumber(essence=\"distribution\", distribution_parameters=[\"gaussian\", [.10, 0.5]]),\n",
    "      UncertainNumber(essence=\"distribution\", distribution_parameters=[\"gaussian\", [.20, 0.2]]),\n",
    "      UncertainNumber(essence=\"distribution\", distribution_parameters=[\"gaussian\", [.30, 0.5]]),\n",
    "       UncertainNumber(essence=\"distribution\", distribution_parameters=[\"gaussian\", [.40, 0.4]]),\n",
    "        UncertainNumber(essence=\"distribution\", distribution_parameters=[\"gaussian\", [.50, 0.5]])\n",
    "\n",
    "         #   UncertainNumber(essence = 'interval', bounds= [means[1]-2* stds[1], means[1]+2* stds[1]]),\n",
    "          #  UncertainNumber(essence = 'interval', bounds= [means[2]-2* stds[2], means[2]+2* stds[2]]),\n",
    "          #  UncertainNumber(essence = 'interval', bounds= [means[3]-2* stds[3], means[3]+2* stds[3]])\n",
    "            #UncertainNumber(essence = 'interval', bounds= [means[4]-2* stds[4], means[4]+2* stds[4]])\n",
    "            ]\n",
    "\n"
   ]
  },
  {
   "cell_type": "code",
   "execution_count": 2,
   "metadata": {},
   "outputs": [],
   "source": [
    "means = np.array([ 1,   2,   3,   4,   5])\n",
    "stds = np.array([0.1, 0.2, 0.3, 0.4, 0.5])\n",
    "\n",
    "x = [UncertainNumber(essence = 'interval', bounds= [1,2]),\n",
    "    UncertainNumber(essence = 'interval', bounds= [3,4]),\n",
    "       UncertainNumber(essence = 'interval', bounds= [5,6]),\n",
    "     UncertainNumber(essence = 'interval', bounds= [7,8]),\n",
    "            UncertainNumber(essence = 'interval', bounds= [9,10])\n",
    "            ]"
   ]
  },
  {
   "cell_type": "code",
   "execution_count": 3,
   "metadata": {},
   "outputs": [
    {
     "name": "stdout",
     "output_type": "stream",
     "text": [
      "Total number of input combinations for the endpoints extreme points method: 8\n"
     ]
    },
    {
     "name": "stderr",
     "output_type": "stream",
     "text": [
      "Number of function evaluations: 100%|██████████| 6/6 [00:00<?, ?it/s]"
     ]
    },
    {
     "name": "stdout",
     "output_type": "stream",
     "text": [
      "Number of total function evaluations: 8\n"
     ]
    },
    {
     "name": "stderr",
     "output_type": "stream",
     "text": [
      "\n"
     ]
    }
   ],
   "source": [
    "y = Propagation(x, Fun, method = 'extremepoints')"
   ]
  },
  {
   "cell_type": "code",
   "execution_count": null,
   "metadata": {},
   "outputs": [],
   "source": [
    "x=2*4*6*8*10\n",
    "print(x)"
   ]
  },
  {
   "cell_type": "code",
   "execution_count": null,
   "metadata": {},
   "outputs": [],
   "source": [
    "y.un[1].display()"
   ]
  },
  {
   "cell_type": "code",
   "execution_count": null,
   "metadata": {},
   "outputs": [],
   "source": []
  },
  {
   "cell_type": "code",
   "execution_count": 12,
   "metadata": {},
   "outputs": [
    {
     "name": "stdout",
     "output_type": "stream",
     "text": [
      "Processing variable 1 with essence: distribution\n",
      "Processing variable 2 with essence: distribution\n",
      "Processing variable 3 with essence: distribution\n",
      "Processing variable 4 with essence: distribution\n",
      "Processing variable 5 with essence: distribution\n",
      "Total number of input combinations for the endpoints extreme points method: 8\n"
     ]
    },
    {
     "name": "stderr",
     "output_type": "stream",
     "text": [
      "Number of function evaluations: 100%|██████████| 6/6 [00:00<?, ?it/s]\n"
     ]
    },
    {
     "name": "stdout",
     "output_type": "stream",
     "text": [
      "Number of total function evaluations: 8\n"
     ]
    },
    {
     "name": "stderr",
     "output_type": "stream",
     "text": [
      "Processing input 1: 100%|██████████| 200/200 [00:00<00:00, 10320.38it/s]\n",
      "Processing input 2: 100%|██████████| 200/200 [00:00<00:00, 14222.80it/s]\n",
      "Processing input 3: 100%|██████████| 200/200 [00:00<00:00, 11810.78it/s]\n",
      "Processing input 4: 100%|██████████| 200/200 [00:00<00:00, 13707.32it/s]\n",
      "Processing input 5: 100%|██████████| 200/200 [00:00<00:00, 12114.56it/s]\n"
     ]
    }
   ],
   "source": [
    "var_ext = varied_discretisation_propagation_method(x=x, f=Fun, method = 'extremepoints', n_disc= 200)"
   ]
  },
  {
   "cell_type": "code",
   "execution_count": 13,
   "metadata": {},
   "outputs": [
    {
     "name": "stdout",
     "output_type": "stream",
     "text": [
      "Processing variable 1 with essence: distribution\n",
      "Processing variable 2 with essence: distribution\n",
      "Processing variable 3 with essence: distribution\n",
      "Processing variable 4 with essence: distribution\n",
      "Processing variable 5 with essence: distribution\n",
      "Total number of input combinations for the endpoints extreme points method: 8\n"
     ]
    },
    {
     "name": "stderr",
     "output_type": "stream",
     "text": [
      "Number of function evaluations: 100%|██████████| 6/6 [00:00<?, ?it/s]\n"
     ]
    },
    {
     "name": "stdout",
     "output_type": "stream",
     "text": [
      "Number of total function evaluations: 8\n"
     ]
    },
    {
     "name": "stderr",
     "output_type": "stream",
     "text": [
      "input combinations: 100%|██████████| 3125/3125 [00:00<00:00, 5460.53it/s]\n"
     ]
    }
   ],
   "source": [
    "res_ext = focused_discretisation_propagation_method(x=x, f=Fun, method = 'extremepoints', n_disc= 5)"
   ]
  },
  {
   "cell_type": "code",
   "execution_count": 7,
   "metadata": {},
   "outputs": [
    {
     "name": "stdout",
     "output_type": "stream",
     "text": [
      "Processing variable 1 with essence: distribution\n",
      "Processing variable 2 with essence: distribution\n",
      "Processing variable 3 with essence: distribution\n",
      "Processing variable 4 with essence: distribution\n",
      "Processing variable 5 with essence: distribution\n"
     ]
    },
    {
     "ename": "KeyboardInterrupt",
     "evalue": "",
     "output_type": "error",
     "traceback": [
      "\u001b[1;31m---------------------------------------------------------------------------\u001b[0m",
      "\u001b[1;31mKeyboardInterrupt\u001b[0m                         Traceback (most recent call last)",
      "Cell \u001b[1;32mIn[7], line 1\u001b[0m\n\u001b[1;32m----> 1\u001b[0m res_end \u001b[38;5;241m=\u001b[39m \u001b[43mfocused_discretisation_propagation_method\u001b[49m\u001b[43m(\u001b[49m\u001b[43mx\u001b[49m\u001b[38;5;241;43m=\u001b[39;49m\u001b[43mx\u001b[49m\u001b[43m,\u001b[49m\u001b[43m \u001b[49m\u001b[43mf\u001b[49m\u001b[38;5;241;43m=\u001b[39;49m\u001b[43mFun\u001b[49m\u001b[43m,\u001b[49m\u001b[43m \u001b[49m\u001b[43mmethod\u001b[49m\u001b[43m \u001b[49m\u001b[38;5;241;43m=\u001b[39;49m\u001b[43m \u001b[49m\u001b[38;5;124;43m'\u001b[39;49m\u001b[38;5;124;43mendpoints\u001b[39;49m\u001b[38;5;124;43m'\u001b[39;49m\u001b[43m,\u001b[49m\u001b[43m \u001b[49m\u001b[43mn_disc\u001b[49m\u001b[38;5;241;43m=\u001b[39;49m\u001b[43m \u001b[49m\u001b[38;5;241;43m20\u001b[39;49m\u001b[43m)\u001b[49m\n",
      "File \u001b[1;32m~\\Documents\\GitHub\\pyuncertainnumber_new\\src\\pyuncertainnumber\\propagation\\mixed_uncertainty\\focused_discretisation_propagation.py:211\u001b[0m, in \u001b[0;36mfocused_discretisation_propagation_method\u001b[1;34m(x, f, results, method, n_disc, tOp, bOt, condensation, save_raw_data)\u001b[0m\n\u001b[0;32m    208\u001b[0m current_index \u001b[38;5;241m=\u001b[39m \u001b[38;5;241m0\u001b[39m  \u001b[38;5;66;03m# Keep track of the current insertion index\u001b[39;00m\n\u001b[0;32m    210\u001b[0m \u001b[38;5;28;01mfor\u001b[39;00m array \u001b[38;5;129;01min\u001b[39;00m intervals_comb:\n\u001b[1;32m--> 211\u001b[0m     cartesian_product_x \u001b[38;5;241m=\u001b[39m \u001b[43mcartesian\u001b[49m\u001b[43m(\u001b[49m\u001b[38;5;241;43m*\u001b[39;49m\u001b[43marray\u001b[49m\u001b[43m)\u001b[49m\n\u001b[0;32m    212\u001b[0m     \u001b[38;5;66;03m# Get the number of combinations from cartesian(*array)\u001b[39;00m\n\u001b[0;32m    213\u001b[0m     num_combinations \u001b[38;5;241m=\u001b[39m cartesian_product_x\u001b[38;5;241m.\u001b[39mshape[\u001b[38;5;241m0\u001b[39m]\n",
      "File \u001b[1;32m~\\Documents\\GitHub\\pyuncertainnumber_new\\src\\pyuncertainnumber\\propagation\\epistemic_uncertainty\\cartesian_product.py:37\u001b[0m, in \u001b[0;36mcartesian\u001b[1;34m(*arrays)\u001b[0m\n\u001b[0;32m     35\u001b[0m la \u001b[38;5;241m=\u001b[39m \u001b[38;5;28mlen\u001b[39m(arrays)\n\u001b[0;32m     36\u001b[0m dtype \u001b[38;5;241m=\u001b[39m np\u001b[38;5;241m.\u001b[39mresult_type(\u001b[38;5;241m*\u001b[39marrays)\n\u001b[1;32m---> 37\u001b[0m arr \u001b[38;5;241m=\u001b[39m \u001b[43mnp\u001b[49m\u001b[38;5;241;43m.\u001b[39;49m\u001b[43mempty\u001b[49m\u001b[43m(\u001b[49m\u001b[43m[\u001b[49m\u001b[38;5;28;43mlen\u001b[39;49m\u001b[43m(\u001b[49m\u001b[43ma\u001b[49m\u001b[43m)\u001b[49m\u001b[43m \u001b[49m\u001b[38;5;28;43;01mfor\u001b[39;49;00m\u001b[43m \u001b[49m\u001b[43ma\u001b[49m\u001b[43m \u001b[49m\u001b[38;5;129;43;01min\u001b[39;49;00m\u001b[43m \u001b[49m\u001b[43marrays\u001b[49m\u001b[43m]\u001b[49m\u001b[43m \u001b[49m\u001b[38;5;241;43m+\u001b[39;49m\u001b[43m \u001b[49m\u001b[43m[\u001b[49m\u001b[43mla\u001b[49m\u001b[43m]\u001b[49m\u001b[43m,\u001b[49m\u001b[43m \u001b[49m\u001b[43mdtype\u001b[49m\u001b[38;5;241;43m=\u001b[39;49m\u001b[43mdtype\u001b[49m\u001b[43m)\u001b[49m\n\u001b[0;32m     38\u001b[0m \u001b[38;5;28;01mfor\u001b[39;00m i, a \u001b[38;5;129;01min\u001b[39;00m \u001b[38;5;28menumerate\u001b[39m(np\u001b[38;5;241m.\u001b[39mix_(\u001b[38;5;241m*\u001b[39marrays)):\n\u001b[0;32m     39\u001b[0m     arr[\u001b[38;5;241m.\u001b[39m\u001b[38;5;241m.\u001b[39m\u001b[38;5;241m.\u001b[39m, i] \u001b[38;5;241m=\u001b[39m a\n",
      "\u001b[1;31mKeyboardInterrupt\u001b[0m: "
     ]
    }
   ],
   "source": [
    "res_end = focused_discretisation_propagation_method(x=x, f=Fun, method = 'endpoints', n_disc= 20)\n"
   ]
  },
  {
   "cell_type": "code",
   "execution_count": null,
   "metadata": {},
   "outputs": [],
   "source": []
  },
  {
   "cell_type": "code",
   "execution_count": null,
   "metadata": {},
   "outputs": [],
   "source": [
    "res_end.summary()"
   ]
  },
  {
   "cell_type": "code",
   "execution_count": null,
   "metadata": {},
   "outputs": [],
   "source": [
    "def plotPbox(xL, xR, p=None):\n",
    "    \"\"\"\n",
    "    Plots a p-box (probability box) using matplotlib.\n",
    "\n",
    "    Args:\n",
    "        xL (np.ndarray): A 1D NumPy array of lower bounds.\n",
    "        xR (np.ndarray): A 1D NumPy array of upper bounds.\n",
    "        p (np.ndarray, optional): A 1D NumPy array of probabilities corresponding to the intervals.\n",
    "                                   Defaults to None, which generates equally spaced probabilities.\n",
    "        color (str, optional): The color of the plot. Defaults to 'k' (black).\n",
    "    \"\"\"\n",
    "    xL = np.squeeze(xL)  # Ensure xL is a 1D array\n",
    "    xR = np.squeeze(xR)  # Ensure xR is a 1D array\n",
    "\n",
    "    \n",
    "    if p is None:\n",
    "        p = np.linspace(0, 1, len(xL) + 1)  # p should have one more element than xL/xR\n",
    "\n",
    "    #Plot the step functions\n",
    "    plt.step(np.concatenate(([xL[0]], xL)), p, where='post', color='black')\n",
    "    plt.step(np.concatenate(([xR[0]], xR)), p, where='post', color='red')\n",
    "\n",
    "    #Add bottom and top lines to close the box\n",
    "    plt.plot([xL[0], xR[0]], [0, 0], color='red')  # Bottom line\n",
    "    plt.plot([xL[-1], xR[-1]], [1, 1], color='black')  # Top line\n",
    "\n",
    "    # Add x and y axis labels\n",
    "    plt.xlabel(\"X\", fontsize=14)  \n",
    "    plt.ylabel(\"Cumulative Probability\", fontsize=14) \n",
    "    # Increase font size for axis numbers\n",
    "    plt.xticks(fontsize=12)\n",
    "    plt.yticks(fontsize=12)\n",
    "\n",
    "plotPbox(res_end.raw_data['min']['f'][1],res_end.raw_data['max']['f'][1])\n",
    "plotPbox(res_ext.raw_data['min']['f'][1],res_ext.raw_data['max']['f'][1])\n",
    "plt.show()"
   ]
  },
  {
   "cell_type": "code",
   "execution_count": null,
   "metadata": {},
   "outputs": [],
   "source": [
    "def plotPbox(xL, xR, p=None):\n",
    "    \"\"\"\n",
    "    Plots a p-box (probability box) using matplotlib.\n",
    "\n",
    "    Args:\n",
    "        xL (np.ndarray): A 1D NumPy array of lower bounds.\n",
    "        xR (np.ndarray): A 1D NumPy array of upper bounds.\n",
    "        p (np.ndarray, optional): A 1D NumPy array of probabilities corresponding to the intervals.\n",
    "                                   Defaults to None, which generates equally spaced probabilities.\n",
    "        color (str, optional): The color of the plot. Defaults to 'k' (black).\n",
    "    \"\"\"\n",
    "    xL = np.squeeze(xL)  # Ensure xL is a 1D array\n",
    "    xR = np.squeeze(xR)  # Ensure xR is a 1D array\n",
    "\n",
    "    \n",
    "    if p is None:\n",
    "        p = np.linspace(0, 1, len(xL) + 1)  # p should have one more element than xL/xR\n",
    "\n",
    "    #Plot the step functions\n",
    "    plt.step(np.concatenate(([xL[0]], xL)), p, where='post', color='black')\n",
    "    plt.step(np.concatenate(([xR[0]], xR)), p, where='post', color='red')\n",
    "\n",
    "    #Add bottom and top lines to close the box\n",
    "    plt.plot([xL[0], xR[0]], [0, 0], color='red')  # Bottom line\n",
    "    plt.plot([xL[-1], xR[-1]], [1, 1], color='black')  # Top line\n",
    "\n",
    "    # Add x and y axis labels\n",
    "    plt.xlabel(\"X\", fontsize=14)  \n",
    "    plt.ylabel(\"Cumulative Probability\", fontsize=14) \n",
    "    # Increase font size for axis numbers\n",
    "    plt.xticks(fontsize=12)\n",
    "    plt.yticks(fontsize=12)\n",
    "\n",
    "plotPbox(res_end.raw_data['min']['f'][1],res_end.raw_data['max']['f'][1])\n",
    "plotPbox(res_ext.raw_data['min']['f'][1],res_ext.raw_data['max']['f'][1])\n",
    "plt.show()"
   ]
  },
  {
   "cell_type": "code",
   "execution_count": 8,
   "metadata": {},
   "outputs": [],
   "source": [
    "from pyuncertainnumber.propagation.utils import condense_bounds\n",
    "def plotPbox_bounds(x, p=None):\n",
    "    \"\"\"\n",
    "    Plots a p-box (probability box) using matplotlib.\n",
    "\n",
    "    Args:\n",
    "        xL (np.ndarray): A 1D NumPy array of lower bounds.\n",
    "        xR (np.ndarray): A 1D NumPy array of upper bounds.\n",
    "        p (np.ndarray, optional): A 1D NumPy array of probabilities corresponding to the intervals.\n",
    "                                   Defaults to None, which generates equally spaced probabilities.\n",
    "        color (str, optional): The color of the plot. Defaults to 'k' (black).\n",
    "    \"\"\"\n",
    "    xL = x[0]  # Ensure xL is a 1D array\n",
    "    xR = x[1]  # Ensure xR is a 1D array\n",
    "    \n",
    "    if p is None:\n",
    "        p = np.linspace(0, 1, len(xL) + 1)  # p should have one more element than xL/xR\n",
    "\n",
    "    #Plot the step functions\n",
    "    plt.step(np.concatenate(([xL[0]], xL)), p, where='post', color='black')\n",
    "    plt.step(np.concatenate(([xR[0]], xR)), p, where='post', color='red')\n",
    "\n",
    "    #Add bottom and top lines to close the box\n",
    "    plt.plot([xL[0], xR[0]], [0, 0], color='red')  # Bottom line\n",
    "    plt.plot([xL[-1], xR[-1]], [1, 1], color='black')  # Top line\n",
    "\n",
    "    # Add x and y axis labels\n",
    "    plt.xlabel(\"X\", fontsize=14)  \n",
    "    plt.ylabel(\"Cumulative Probability\", fontsize=14) \n",
    "    # Increase font size for axis numbers\n",
    "    plt.xticks(fontsize=12)\n",
    "    plt.yticks(fontsize=12)\n",
    "\n",
    "\n"
   ]
  },
  {
   "cell_type": "code",
   "execution_count": 16,
   "metadata": {},
   "outputs": [
    {
     "data": {
      "image/png": "[encoded data removed]",
      "text/plain": [
       "<Figure size 640x480 with 1 Axes>"
      ]
     },
     "metadata": {},
     "output_type": "display_data"
    }
   ],
   "source": [
    "\n",
    "#plotPbox_bounds(res_ext.raw_data['bounds'][1])\n",
    "plotPbox_bounds(var_ext.raw_data['bounds'][1])"
   ]
  },
  {
   "cell_type": "code",
   "execution_count": 17,
   "metadata": {},
   "outputs": [
    {
     "data": {
      "image/png": "[encoded data removed]",
      "text/plain": [
       "<Figure size 640x480 with 1 Axes>"
      ]
     },
     "metadata": {},
     "output_type": "display_data"
    }
   ],
   "source": [
    "plotPbox_bounds(res_ext.raw_data['bounds'][0])\n",
    "plotPbox_bounds(var_ext.raw_data['bounds'][0])"
   ]
  },
  {
   "cell_type": "code",
   "execution_count": null,
   "metadata": {},
   "outputs": [],
   "source": [
    "res_end = focused_discretisation_propagation_method(x=x, f=Fun, method = 'endpoints', n_disc= 4)"
   ]
  },
  {
   "cell_type": "code",
   "execution_count": null,
   "metadata": {},
   "outputs": [],
   "source": [
    "res_end_10 = focused_discretisation_propagation_method(x=x, f=Fun, method = 'endpoints', n_disc= 10)"
   ]
  },
  {
   "cell_type": "code",
   "execution_count": null,
   "metadata": {},
   "outputs": [],
   "source": [
    "res_end_10_5 = focused_discretisation_propagation_method(x=x, f=Fun, method = 'endpoints', n_disc= 10, condensation = 5)"
   ]
  },
  {
   "cell_type": "code",
   "execution_count": null,
   "metadata": {},
   "outputs": [],
   "source": [
    "plotPbox_bounds(res_end.raw_data['bounds'][1])\n",
    "plotPbox_bounds(res_end_10.raw_data['bounds'][1])\n",
    "plotPbox_bounds(res_end_10_5.raw_data['bounds'][1])"
   ]
  },
  {
   "cell_type": "code",
   "execution_count": null,
   "metadata": {},
   "outputs": [],
   "source": [
    "res_end = focused_discretisation_propagation_method(x=x, f=Fun, method = 'endpoints', n_disc= 4)"
   ]
  },
  {
   "cell_type": "code",
   "execution_count": null,
   "metadata": {},
   "outputs": [],
   "source": [
    "plotPbox_bounds(res_end.raw_data['bounds'][0])\n",
    "plotPbox_bounds(res_ext.raw_data['bounds'][0])"
   ]
  },
  {
   "cell_type": "code",
   "execution_count": 19,
   "metadata": {},
   "outputs": [
    {
     "name": "stdout",
     "output_type": "stream",
     "text": [
      "   id tags\n",
      "0   1    a\n",
      "0   1    b\n",
      "0   1    c\n",
      "1   2    d\n",
      "2   3    e\n",
      "2   3    f\n",
      "   id tags\n",
      "0   1    a\n",
      "0   1    b\n",
      "0   1    c\n",
      "1   2  123\n",
      "2   3    e\n",
      "2   3    f\n",
      "   id  tags\n",
      "0   1     a\n",
      "0   1     b\n",
      "0   1     c\n",
      "1   2  None\n",
      "2   3     e\n",
      "2   3     f\n",
      "   id tags\n",
      "0   1    a\n",
      "0   1    b\n",
      "0   1    c\n",
      "1   2    d\n",
      "2   3    e\n",
      "2   3    f\n"
     ]
    }
   ],
   "source": [
    "import pandas as pd\n",
    "\n",
    "def expand_dataframe(df, column_name):\n",
    "    \"\"\"\n",
    "    Expands a DataFrame by splitting a column with comma-separated strings \n",
    "    into multiple rows, one string per row.\n",
    "\n",
    "    Args:\n",
    "        df: The input DataFrame.\n",
    "        column_name: The name of the column to expand.\n",
    "\n",
    "    Returns:\n",
    "        A new DataFrame with the expanded column, or the original DataFrame\n",
    "        if the specified column doesn't exist or doesn't contain strings.\n",
    "        Returns an empty DataFrame if an error occurs during processing.\n",
    "    \"\"\"\n",
    "\n",
    "    if column_name not in df.columns:\n",
    "        print(f\"Column '{column_name}' not found in DataFrame.\")\n",
    "        return df  # Or raise an exception if you prefer\n",
    "\n",
    "    try:\n",
    "      # Check if the column contains string values (or mixed types that can be cast to string)\n",
    "      if not pd.api.types.is_string_dtype(df[column_name]) and not all(isinstance(x, str) for x in df[column_name] if not pd.isna(x)): #Handle also potential mixed types\n",
    "          try:\n",
    "              df[column_name] = df[column_name].astype(str) # Try to convert to string\n",
    "          except:\n",
    "              print(f\"Column '{column_name}' is not of string type or cannot be converted.\")\n",
    "              return df\n",
    "\n",
    "      # Efficiently split and expand using explode (pandas >= 1.4.0)\n",
    "      if pd.__version__ >= '1.4.0':\n",
    "          new_df = df.assign(**{column_name: df[column_name].str.split(',')}).explode(column_name)\n",
    "          new_df[column_name] = new_df[column_name].str.strip() # Remove extra spaces\n",
    "          return new_df\n",
    "      else:  # For older pandas versions\n",
    "          new_rows = []\n",
    "          for _, row in df.iterrows():\n",
    "              values = row[column_name]\n",
    "              if isinstance(values, str):  # Handle cases where the cell might be NaN or other non-string type\n",
    "                  for value in values.split(','):\n",
    "                      new_row = row.copy()\n",
    "                      new_row[column_name] = value.strip() # Remove extra spaces\n",
    "                      new_rows.append(new_row)\n",
    "              else:\n",
    "                  new_rows.append(row) # Keep original row if no string to split\n",
    "\n",
    "          new_df = pd.DataFrame(new_rows)\n",
    "          return new_df\n",
    "    except Exception as e:\n",
    "        print(f\"An error occurred: {e}\")\n",
    "        return pd.DataFrame() # Return empty DataFrame on error\n",
    "\n",
    "# Example usage:\n",
    "data = {'id': [1, 2, 3], 'tags': ['a, b, c', 'd', 'e, f']}\n",
    "df = pd.DataFrame(data)\n",
    "\n",
    "expanded_df = expand_dataframe(df, 'tags')\n",
    "print(expanded_df)\n",
    "\n",
    "data2 = {'id': [1, 2, 3], 'tags': ['a, b, c', 123, 'e, f']} #Mixed types\n",
    "df2 = pd.DataFrame(data2)\n",
    "\n",
    "expanded_df2 = expand_dataframe(df2, 'tags')\n",
    "print(expanded_df2)\n",
    "\n",
    "data3 = {'id': [1, 2, 3], 'tags': ['a, b, c', None, 'e, f']} #None values\n",
    "df3 = pd.DataFrame(data3)\n",
    "\n",
    "expanded_df3 = expand_dataframe(df3, 'tags')\n",
    "print(expanded_df3)\n",
    "\n",
    "data4 = {'id': [1, 2, 3], 'tags': ['a, b, c', 'd', 'e, f']}\n",
    "df4 = pd.DataFrame(data4)\n",
    "expanded_df4 = expand_dataframe(df4, 'tags') #Column not found\n",
    "print(expanded_df4)"
   ]
  }
 ],
 "metadata": {
  "kernelspec": {
   "display_name": "venv",
   "language": "python",
   "name": "python3"
  },
  "language_info": {
   "codemirror_mode": {
    "name": "ipython",
    "version": 3
   },
   "file_extension": ".py",
   "mimetype": "text/x-python",
   "name": "python",
   "nbconvert_exporter": "python",
   "pygments_lexer": "ipython3",
   "version": "3.12.4"
  }
 },
 "nbformat": 4,
 "nbformat_minor": 4
}
