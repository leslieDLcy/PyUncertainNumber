{
 "cells": [
  {
   "cell_type": "markdown",
   "metadata": {
    "jp-MarkdownHeadingCollapsed": true
   },
   "source": [
    "This notebook is written by the DAWS2 UQ team based in Univ. of Liverpool for the workshop of UQ & M of the DAWS2 project.\n",
    "\n",
    "Uncertainty Quantification & Management\n",
    "--\n",
    "*placeholder texts*\n",
    "\n",
    "{\n",
    "\n",
    "Personal website: https://yuchenakaleslie.github.io/<br>\n",
    "ResearchGate: https://www.researchgate.net/profile/Yu-Chen-402<br>\n",
    "Contact: yu.chen2@liverpool.ac.uk\n",
    "\n",
    "}\n",
    "\n",
    "DAWS2 UQ team: {Scott Ferson, Ioanna,  [(Leslie) Yu Chen](https://yuchenakaleslie.github.io/)}\n",
    "\n",
    "All rights reserved.\n",
    "\n",
    "==================="
   ]
  },
  {
   "cell_type": "markdown",
   "metadata": {},
   "source": [
    "## Table of Contents\n",
    "#### [1. Setup](#Setup)\n",
    "#### [2. Problem statement](#problem_statement)\n",
    "#### [3. Create propagating function](#create_propagating_function)\n",
    "#### [4. Epistemic uncertainty](#propagate_epistemic_uncertainty)\n",
    "#### <small>[4.1. Uncertainty Characterisation](#4.1-uncertainty-characterisation)</small>\n",
    "#### <small>[4.2. Uncertainty propagation methods](#4.2-uncertainty-propatation-methods)</small>\n",
    "##### <small>[4.2.1. Endpoints propagation](#4.2.1-Endpoints-propatation)</small>\n",
    "##### <small>[4.2.2. Subinterval reconstitution propagation](#4.2.2.-Subinterval-reconstitution-propagation)</small>\n",
    "##### <small>[4.2.3. Sampling propagation](#4.2.3.-Sampling-propagation)</small>\n",
    "##### <small>[4.2.4. Optimisation methods](#4.2.3.-Optimisation-methods)</small>\n",
    "#### [5. Aleatory uncertainty](#aleatory_uncertainty_propagation)\n",
    "#### [5. Mixed types of uncertainty](#mixed_uncertainty_propagation)"
   ]
  },
  {
   "cell_type": "markdown",
   "metadata": {},
   "source": [
    "***\n",
    "<a id=\"setup\"></a>\n",
    "# 1. Setup\n",
    "\n",
    "Import the libraries"
   ]
  },
  {
   "cell_type": "code",
   "execution_count": 1,
   "metadata": {},
   "outputs": [
    {
     "ename": "NameError",
     "evalue": "name 'vonmises' is not defined",
     "output_type": "error",
     "traceback": [
      "\u001b[1;31m---------------------------------------------------------------------------\u001b[0m",
      "\u001b[1;31mNameError\u001b[0m                                 Traceback (most recent call last)",
      "Cell \u001b[1;32mIn[1], line 2\u001b[0m\n\u001b[0;32m      1\u001b[0m \u001b[38;5;28;01mimport\u001b[39;00m \u001b[38;5;21;01mnumpy\u001b[39;00m \u001b[38;5;28;01mas\u001b[39;00m \u001b[38;5;21;01mnp\u001b[39;00m\n\u001b[1;32m----> 2\u001b[0m \u001b[38;5;28;01mfrom\u001b[39;00m \u001b[38;5;21;01mPyUncertainNumber\u001b[39;00m\u001b[38;5;21;01m.\u001b[39;00m\u001b[38;5;21;01mpropagation\u001b[39;00m\u001b[38;5;21;01m.\u001b[39;00m\u001b[38;5;21;01muncertaintyPropagation\u001b[39;00m \u001b[38;5;28;01mimport\u001b[39;00m Propagation, epistemic_propagation, aleatory_propagation, mixed_propagation\n\u001b[0;32m      3\u001b[0m \u001b[38;5;28;01mfrom\u001b[39;00m \u001b[38;5;21;01mPyUncertainNumber\u001b[39;00m \u001b[38;5;28;01mimport\u001b[39;00m UncertainNumber \u001b[38;5;28;01mas\u001b[39;00m UN\n\u001b[0;32m      4\u001b[0m \u001b[38;5;28;01mimport\u001b[39;00m \u001b[38;5;21;01mmatplotlib\u001b[39;00m\u001b[38;5;21;01m.\u001b[39;00m\u001b[38;5;21;01mpyplot\u001b[39;00m \u001b[38;5;28;01mas\u001b[39;00m \u001b[38;5;21;01mplt\u001b[39;00m\n",
      "File \u001b[1;32m~\\Documents\\GitHub\\PyUncertainNumber\\src\\PyUncertainNumber\\__init__.py:1\u001b[0m\n\u001b[1;32m----> 1\u001b[0m \u001b[38;5;28;01mfrom\u001b[39;00m \u001b[38;5;21;01mPyUncertainNumber\u001b[39;00m\u001b[38;5;21;01m.\u001b[39;00m\u001b[38;5;21;01mcharacterisation\u001b[39;00m\u001b[38;5;21;01m.\u001b[39;00m\u001b[38;5;21;01muncertainNumber\u001b[39;00m \u001b[38;5;28;01mimport\u001b[39;00m UncertainNumber\n\u001b[0;32m      2\u001b[0m \u001b[38;5;28;01mimport\u001b[39;00m \u001b[38;5;21;01mPyUncertainNumber\u001b[39;00m\u001b[38;5;21;01m.\u001b[39;00m\u001b[38;5;21;01mpba\u001b[39;00m \u001b[38;5;28;01mas\u001b[39;00m \u001b[38;5;21;01mpba\u001b[39;00m\n\u001b[0;32m      3\u001b[0m \u001b[38;5;28;01mfrom\u001b[39;00m \u001b[38;5;21;01m.\u001b[39;00m\u001b[38;5;21;01mpba\u001b[39;00m\u001b[38;5;21;01m.\u001b[39;00m\u001b[38;5;21;01maggregation\u001b[39;00m \u001b[38;5;28;01mimport\u001b[39;00m stochastic_mixture\n",
      "File \u001b[1;32m~\\Documents\\GitHub\\PyUncertainNumber\\src\\PyUncertainNumber\\characterisation\\uncertainNumber.py:15\u001b[0m\n\u001b[0;32m     13\u001b[0m \u001b[38;5;28;01mfrom\u001b[39;00m \u001b[38;5;21;01mpathlib\u001b[39;00m \u001b[38;5;28;01mimport\u001b[39;00m Path\n\u001b[0;32m     14\u001b[0m \u001b[38;5;28;01mimport\u001b[39;00m \u001b[38;5;21;01mitertools\u001b[39;00m\n\u001b[1;32m---> 15\u001b[0m \u001b[38;5;28;01mfrom\u001b[39;00m \u001b[38;5;21;01m.\u001b[39;00m\u001b[38;5;21;01m.\u001b[39;00m\u001b[38;5;21;01mpba\u001b[39;00m\u001b[38;5;21;01m.\u001b[39;00m\u001b[38;5;21;01mdists\u001b[39;00m \u001b[38;5;28;01mimport\u001b[39;00m dists\n\u001b[0;32m     16\u001b[0m \u001b[38;5;28;01mfrom\u001b[39;00m \u001b[38;5;21;01mPyUncertainNumber\u001b[39;00m\u001b[38;5;21;01m.\u001b[39;00m\u001b[38;5;21;01mnlp\u001b[39;00m\u001b[38;5;21;01m.\u001b[39;00m\u001b[38;5;21;01mlanguage_parsing\u001b[39;00m \u001b[38;5;28;01mimport\u001b[39;00m hedge_interpret\n\u001b[0;32m     17\u001b[0m \u001b[38;5;28;01mfrom\u001b[39;00m \u001b[38;5;21;01mscipy\u001b[39;00m\u001b[38;5;21;01m.\u001b[39;00m\u001b[38;5;21;01mstats\u001b[39;00m \u001b[38;5;28;01mimport\u001b[39;00m norm\n",
      "File \u001b[1;32m~\\Documents\\GitHub\\PyUncertainNumber\\src\\PyUncertainNumber\\pba\\dists.py:2665\u001b[0m\n\u001b[0;32m   2564\u001b[0m \u001b[38;5;28;01mdef\u001b[39;00m \u001b[38;5;21mKN\u001b[39m(k, n, steps\u001b[38;5;241m=\u001b[39mParams\u001b[38;5;241m.\u001b[39msteps):\n\u001b[0;32m   2565\u001b[0m     \u001b[38;5;28;01mreturn\u001b[39;00m KM(k, n \u001b[38;5;241m-\u001b[39m k, steps\u001b[38;5;241m=\u001b[39msteps)\n\u001b[0;32m   2569\u001b[0m named_pbox \u001b[38;5;241m=\u001b[39m {\n\u001b[0;32m   2570\u001b[0m     \u001b[38;5;124m\"\u001b[39m\u001b[38;5;124malpha\u001b[39m\u001b[38;5;124m\"\u001b[39m: alpha,\n\u001b[0;32m   2571\u001b[0m     \u001b[38;5;124m\"\u001b[39m\u001b[38;5;124manglit\u001b[39m\u001b[38;5;124m\"\u001b[39m: anglit,\n\u001b[0;32m   2572\u001b[0m     \u001b[38;5;124m\"\u001b[39m\u001b[38;5;124marcsine\u001b[39m\u001b[38;5;124m\"\u001b[39m: arcsine,\n\u001b[0;32m   2573\u001b[0m     \u001b[38;5;124m\"\u001b[39m\u001b[38;5;124margus\u001b[39m\u001b[38;5;124m\"\u001b[39m: argus,\n\u001b[0;32m   2574\u001b[0m     \u001b[38;5;124m\"\u001b[39m\u001b[38;5;124mbeta\u001b[39m\u001b[38;5;124m\"\u001b[39m: beta,\n\u001b[0;32m   2575\u001b[0m     \u001b[38;5;124m\"\u001b[39m\u001b[38;5;124mbetaprime\u001b[39m\u001b[38;5;124m\"\u001b[39m: betaprime,\n\u001b[0;32m   2576\u001b[0m     \u001b[38;5;124m\"\u001b[39m\u001b[38;5;124mbradford\u001b[39m\u001b[38;5;124m\"\u001b[39m: bradford,\n\u001b[0;32m   2577\u001b[0m     \u001b[38;5;124m\"\u001b[39m\u001b[38;5;124mburr\u001b[39m\u001b[38;5;124m\"\u001b[39m: burr,\n\u001b[0;32m   2578\u001b[0m     \u001b[38;5;124m\"\u001b[39m\u001b[38;5;124mburr12\u001b[39m\u001b[38;5;124m\"\u001b[39m: burr12,\n\u001b[0;32m   2579\u001b[0m     \u001b[38;5;124m\"\u001b[39m\u001b[38;5;124mcauchy\u001b[39m\u001b[38;5;124m\"\u001b[39m: cauchy,\n\u001b[0;32m   2580\u001b[0m     \u001b[38;5;124m\"\u001b[39m\u001b[38;5;124mchi\u001b[39m\u001b[38;5;124m\"\u001b[39m: chi,\n\u001b[0;32m   2581\u001b[0m     \u001b[38;5;124m\"\u001b[39m\u001b[38;5;124mchi2\u001b[39m\u001b[38;5;124m\"\u001b[39m: chi2,\n\u001b[0;32m   2582\u001b[0m     \u001b[38;5;124m\"\u001b[39m\u001b[38;5;124mcosine\u001b[39m\u001b[38;5;124m\"\u001b[39m: cosine,\n\u001b[0;32m   2583\u001b[0m     \u001b[38;5;124m\"\u001b[39m\u001b[38;5;124mcrystalball\u001b[39m\u001b[38;5;124m\"\u001b[39m: crystalball,\n\u001b[0;32m   2584\u001b[0m     \u001b[38;5;124m\"\u001b[39m\u001b[38;5;124mdgamma\u001b[39m\u001b[38;5;124m\"\u001b[39m: dgamma,\n\u001b[0;32m   2585\u001b[0m     \u001b[38;5;124m\"\u001b[39m\u001b[38;5;124mdweibull\u001b[39m\u001b[38;5;124m\"\u001b[39m: dweibull,\n\u001b[0;32m   2586\u001b[0m     \u001b[38;5;124m\"\u001b[39m\u001b[38;5;124merlang\u001b[39m\u001b[38;5;124m\"\u001b[39m: erlang,\n\u001b[0;32m   2587\u001b[0m     \u001b[38;5;124m\"\u001b[39m\u001b[38;5;124mexpon\u001b[39m\u001b[38;5;124m\"\u001b[39m: expon,\n\u001b[0;32m   2588\u001b[0m     \u001b[38;5;124m\"\u001b[39m\u001b[38;5;124mexponnorm\u001b[39m\u001b[38;5;124m\"\u001b[39m: exponnorm,\n\u001b[0;32m   2589\u001b[0m     \u001b[38;5;124m\"\u001b[39m\u001b[38;5;124mexponweib\u001b[39m\u001b[38;5;124m\"\u001b[39m: exponweib,\n\u001b[0;32m   2590\u001b[0m     \u001b[38;5;124m\"\u001b[39m\u001b[38;5;124mexponpow\u001b[39m\u001b[38;5;124m\"\u001b[39m: exponpow,\n\u001b[0;32m   2591\u001b[0m     \u001b[38;5;124m\"\u001b[39m\u001b[38;5;124mf\u001b[39m\u001b[38;5;124m\"\u001b[39m: f,\n\u001b[0;32m   2592\u001b[0m     \u001b[38;5;124m\"\u001b[39m\u001b[38;5;124mfatiguelife\u001b[39m\u001b[38;5;124m\"\u001b[39m: fatiguelife,\n\u001b[0;32m   2593\u001b[0m     \u001b[38;5;124m\"\u001b[39m\u001b[38;5;124mfisk\u001b[39m\u001b[38;5;124m\"\u001b[39m: fisk,\n\u001b[0;32m   2594\u001b[0m     \u001b[38;5;124m\"\u001b[39m\u001b[38;5;124mfoldcauchy\u001b[39m\u001b[38;5;124m\"\u001b[39m: foldcauchy,\n\u001b[0;32m   2595\u001b[0m     \u001b[38;5;124m\"\u001b[39m\u001b[38;5;124mfoldnorm\u001b[39m\u001b[38;5;124m\"\u001b[39m: foldnorm,\n\u001b[0;32m   2596\u001b[0m     \u001b[38;5;66;03m# 'frechet_r' : frechet_r,\u001b[39;00m\n\u001b[0;32m   2597\u001b[0m     \u001b[38;5;66;03m# 'frechet_l' : frechet_l,\u001b[39;00m\n\u001b[0;32m   2598\u001b[0m     \u001b[38;5;124m\"\u001b[39m\u001b[38;5;124mgenlogistic\u001b[39m\u001b[38;5;124m\"\u001b[39m: genlogistic,\n\u001b[0;32m   2599\u001b[0m     \u001b[38;5;124m\"\u001b[39m\u001b[38;5;124mgennorm\u001b[39m\u001b[38;5;124m\"\u001b[39m: gennorm,\n\u001b[0;32m   2600\u001b[0m     \u001b[38;5;124m\"\u001b[39m\u001b[38;5;124mgenpareto\u001b[39m\u001b[38;5;124m\"\u001b[39m: genpareto,\n\u001b[0;32m   2601\u001b[0m     \u001b[38;5;124m\"\u001b[39m\u001b[38;5;124mgenexpon\u001b[39m\u001b[38;5;124m\"\u001b[39m: genexpon,\n\u001b[0;32m   2602\u001b[0m     \u001b[38;5;124m\"\u001b[39m\u001b[38;5;124mgenextreme\u001b[39m\u001b[38;5;124m\"\u001b[39m: genextreme,\n\u001b[0;32m   2603\u001b[0m     \u001b[38;5;124m\"\u001b[39m\u001b[38;5;124mgausshyper\u001b[39m\u001b[38;5;124m\"\u001b[39m: gausshyper,\n\u001b[0;32m   2604\u001b[0m     \u001b[38;5;124m\"\u001b[39m\u001b[38;5;124mgamma\u001b[39m\u001b[38;5;124m\"\u001b[39m: gamma,\n\u001b[0;32m   2605\u001b[0m     \u001b[38;5;124m\"\u001b[39m\u001b[38;5;124mgengamma\u001b[39m\u001b[38;5;124m\"\u001b[39m: gengamma,\n\u001b[0;32m   2606\u001b[0m     \u001b[38;5;124m\"\u001b[39m\u001b[38;5;124mgenhalflogistic\u001b[39m\u001b[38;5;124m\"\u001b[39m: genhalflogistic,\n\u001b[0;32m   2607\u001b[0m     \u001b[38;5;124m\"\u001b[39m\u001b[38;5;124mgeninvgauss\u001b[39m\u001b[38;5;124m\"\u001b[39m: geninvgauss,\n\u001b[0;32m   2608\u001b[0m     \u001b[38;5;66;03m# 'gibrat' : gibrat,\u001b[39;00m\n\u001b[0;32m   2609\u001b[0m     \u001b[38;5;124m\"\u001b[39m\u001b[38;5;124mgompertz\u001b[39m\u001b[38;5;124m\"\u001b[39m: gompertz,\n\u001b[0;32m   2610\u001b[0m     \u001b[38;5;124m\"\u001b[39m\u001b[38;5;124mgumbel_r\u001b[39m\u001b[38;5;124m\"\u001b[39m: gumbel_r,\n\u001b[0;32m   2611\u001b[0m     \u001b[38;5;124m\"\u001b[39m\u001b[38;5;124mgumbel_l\u001b[39m\u001b[38;5;124m\"\u001b[39m: gumbel_l,\n\u001b[0;32m   2612\u001b[0m     \u001b[38;5;124m\"\u001b[39m\u001b[38;5;124mhalfcauchy\u001b[39m\u001b[38;5;124m\"\u001b[39m: halfcauchy,\n\u001b[0;32m   2613\u001b[0m     \u001b[38;5;124m\"\u001b[39m\u001b[38;5;124mhalflogistic\u001b[39m\u001b[38;5;124m\"\u001b[39m: halflogistic,\n\u001b[0;32m   2614\u001b[0m     \u001b[38;5;124m\"\u001b[39m\u001b[38;5;124mhalfnorm\u001b[39m\u001b[38;5;124m\"\u001b[39m: halfnorm,\n\u001b[0;32m   2615\u001b[0m     \u001b[38;5;124m\"\u001b[39m\u001b[38;5;124mhalfgennorm\u001b[39m\u001b[38;5;124m\"\u001b[39m: halfgennorm,\n\u001b[0;32m   2616\u001b[0m     \u001b[38;5;124m\"\u001b[39m\u001b[38;5;124mhypsecant\u001b[39m\u001b[38;5;124m\"\u001b[39m: hypsecant,\n\u001b[0;32m   2617\u001b[0m     \u001b[38;5;124m\"\u001b[39m\u001b[38;5;124minvgamma\u001b[39m\u001b[38;5;124m\"\u001b[39m: invgamma,\n\u001b[0;32m   2618\u001b[0m     \u001b[38;5;124m\"\u001b[39m\u001b[38;5;124minvgauss\u001b[39m\u001b[38;5;124m\"\u001b[39m: invgauss,\n\u001b[0;32m   2619\u001b[0m     \u001b[38;5;124m\"\u001b[39m\u001b[38;5;124minvweibull\u001b[39m\u001b[38;5;124m\"\u001b[39m: invweibull,\n\u001b[0;32m   2620\u001b[0m     \u001b[38;5;124m\"\u001b[39m\u001b[38;5;124mjohnsonsb\u001b[39m\u001b[38;5;124m\"\u001b[39m: johnsonsb,\n\u001b[0;32m   2621\u001b[0m     \u001b[38;5;124m\"\u001b[39m\u001b[38;5;124mjohnsonsu\u001b[39m\u001b[38;5;124m\"\u001b[39m: johnsonsu,\n\u001b[0;32m   2622\u001b[0m     \u001b[38;5;124m\"\u001b[39m\u001b[38;5;124mkappa4\u001b[39m\u001b[38;5;124m\"\u001b[39m: kappa4,\n\u001b[0;32m   2623\u001b[0m     \u001b[38;5;124m\"\u001b[39m\u001b[38;5;124mkappa3\u001b[39m\u001b[38;5;124m\"\u001b[39m: kappa3,\n\u001b[0;32m   2624\u001b[0m     \u001b[38;5;124m\"\u001b[39m\u001b[38;5;124mksone\u001b[39m\u001b[38;5;124m\"\u001b[39m: ksone,\n\u001b[0;32m   2625\u001b[0m     \u001b[38;5;124m\"\u001b[39m\u001b[38;5;124mkstwobign\u001b[39m\u001b[38;5;124m\"\u001b[39m: kstwobign,\n\u001b[0;32m   2626\u001b[0m     \u001b[38;5;124m\"\u001b[39m\u001b[38;5;124mlaplace\u001b[39m\u001b[38;5;124m\"\u001b[39m: laplace,\n\u001b[0;32m   2627\u001b[0m     \u001b[38;5;124m\"\u001b[39m\u001b[38;5;124mlevy\u001b[39m\u001b[38;5;124m\"\u001b[39m: levy,\n\u001b[0;32m   2628\u001b[0m     \u001b[38;5;124m\"\u001b[39m\u001b[38;5;124mlevy_l\u001b[39m\u001b[38;5;124m\"\u001b[39m: levy_l,\n\u001b[0;32m   2629\u001b[0m     \u001b[38;5;124m\"\u001b[39m\u001b[38;5;124mlevy_stable\u001b[39m\u001b[38;5;124m\"\u001b[39m: levy_stable,\n\u001b[0;32m   2630\u001b[0m     \u001b[38;5;124m\"\u001b[39m\u001b[38;5;124mlogistic\u001b[39m\u001b[38;5;124m\"\u001b[39m: logistic,\n\u001b[0;32m   2631\u001b[0m     \u001b[38;5;124m\"\u001b[39m\u001b[38;5;124mloggamma\u001b[39m\u001b[38;5;124m\"\u001b[39m: loggamma,\n\u001b[0;32m   2632\u001b[0m     \u001b[38;5;124m\"\u001b[39m\u001b[38;5;124mloglaplace\u001b[39m\u001b[38;5;124m\"\u001b[39m: loglaplace,\n\u001b[0;32m   2633\u001b[0m     \u001b[38;5;124m\"\u001b[39m\u001b[38;5;124mlognormal\u001b[39m\u001b[38;5;124m\"\u001b[39m: lognormal,\n\u001b[0;32m   2634\u001b[0m     \u001b[38;5;124m\"\u001b[39m\u001b[38;5;124mloguniform\u001b[39m\u001b[38;5;124m\"\u001b[39m: loguniform,\n\u001b[0;32m   2635\u001b[0m     \u001b[38;5;124m\"\u001b[39m\u001b[38;5;124mlomax\u001b[39m\u001b[38;5;124m\"\u001b[39m: lomax,\n\u001b[0;32m   2636\u001b[0m     \u001b[38;5;124m\"\u001b[39m\u001b[38;5;124mmaxwell\u001b[39m\u001b[38;5;124m\"\u001b[39m: maxwell,\n\u001b[0;32m   2637\u001b[0m     \u001b[38;5;124m\"\u001b[39m\u001b[38;5;124mmielke\u001b[39m\u001b[38;5;124m\"\u001b[39m: mielke,\n\u001b[0;32m   2638\u001b[0m     \u001b[38;5;124m\"\u001b[39m\u001b[38;5;124mmoyal\u001b[39m\u001b[38;5;124m\"\u001b[39m: moyal,\n\u001b[0;32m   2639\u001b[0m     \u001b[38;5;124m\"\u001b[39m\u001b[38;5;124mnakagami\u001b[39m\u001b[38;5;124m\"\u001b[39m: nakagami,\n\u001b[0;32m   2640\u001b[0m     \u001b[38;5;124m\"\u001b[39m\u001b[38;5;124mncx2\u001b[39m\u001b[38;5;124m\"\u001b[39m: ncx2,\n\u001b[0;32m   2641\u001b[0m     \u001b[38;5;124m\"\u001b[39m\u001b[38;5;124mncf\u001b[39m\u001b[38;5;124m\"\u001b[39m: ncf,\n\u001b[0;32m   2642\u001b[0m     \u001b[38;5;124m\"\u001b[39m\u001b[38;5;124mnct\u001b[39m\u001b[38;5;124m\"\u001b[39m: nct,\n\u001b[0;32m   2643\u001b[0m     \u001b[38;5;124m\"\u001b[39m\u001b[38;5;124mnorm\u001b[39m\u001b[38;5;124m\"\u001b[39m: norm,\n\u001b[0;32m   2644\u001b[0m     \u001b[38;5;124m\"\u001b[39m\u001b[38;5;124mnormal\u001b[39m\u001b[38;5;124m\"\u001b[39m: norm,\n\u001b[0;32m   2645\u001b[0m     \u001b[38;5;124m\"\u001b[39m\u001b[38;5;124mgaussian\u001b[39m\u001b[38;5;124m\"\u001b[39m: norm,  \n\u001b[0;32m   2646\u001b[0m     \u001b[38;5;124m\"\u001b[39m\u001b[38;5;124mnorminvgauss\u001b[39m\u001b[38;5;124m\"\u001b[39m: norminvgauss,\n\u001b[0;32m   2647\u001b[0m     \u001b[38;5;124m\"\u001b[39m\u001b[38;5;124mpareto\u001b[39m\u001b[38;5;124m\"\u001b[39m: pareto,\n\u001b[0;32m   2648\u001b[0m     \u001b[38;5;124m\"\u001b[39m\u001b[38;5;124mpearson3\u001b[39m\u001b[38;5;124m\"\u001b[39m: pearson3,\n\u001b[0;32m   2649\u001b[0m     \u001b[38;5;124m\"\u001b[39m\u001b[38;5;124mpowerlaw\u001b[39m\u001b[38;5;124m\"\u001b[39m: powerlaw,\n\u001b[0;32m   2650\u001b[0m     \u001b[38;5;124m\"\u001b[39m\u001b[38;5;124mpowerlognorm\u001b[39m\u001b[38;5;124m\"\u001b[39m: powerlognorm,\n\u001b[0;32m   2651\u001b[0m     \u001b[38;5;124m\"\u001b[39m\u001b[38;5;124mpowernorm\u001b[39m\u001b[38;5;124m\"\u001b[39m: powernorm,\n\u001b[0;32m   2652\u001b[0m     \u001b[38;5;124m\"\u001b[39m\u001b[38;5;124mrdist\u001b[39m\u001b[38;5;124m\"\u001b[39m: rdist,\n\u001b[0;32m   2653\u001b[0m     \u001b[38;5;124m\"\u001b[39m\u001b[38;5;124mrayleigh\u001b[39m\u001b[38;5;124m\"\u001b[39m: rayleigh,\n\u001b[0;32m   2654\u001b[0m     \u001b[38;5;124m\"\u001b[39m\u001b[38;5;124mrice\u001b[39m\u001b[38;5;124m\"\u001b[39m: rice,\n\u001b[0;32m   2655\u001b[0m     \u001b[38;5;124m\"\u001b[39m\u001b[38;5;124mrecipinvgauss\u001b[39m\u001b[38;5;124m\"\u001b[39m: recipinvgauss,\n\u001b[0;32m   2656\u001b[0m     \u001b[38;5;124m\"\u001b[39m\u001b[38;5;124msemicircular\u001b[39m\u001b[38;5;124m\"\u001b[39m: semicircular,\n\u001b[0;32m   2657\u001b[0m     \u001b[38;5;124m\"\u001b[39m\u001b[38;5;124mskewnorm\u001b[39m\u001b[38;5;124m\"\u001b[39m: skewnorm,\n\u001b[0;32m   2658\u001b[0m     \u001b[38;5;124m\"\u001b[39m\u001b[38;5;124mt\u001b[39m\u001b[38;5;124m\"\u001b[39m: t,\n\u001b[0;32m   2659\u001b[0m     \u001b[38;5;124m\"\u001b[39m\u001b[38;5;124mtrapz\u001b[39m\u001b[38;5;124m\"\u001b[39m: trapz,\n\u001b[0;32m   2660\u001b[0m     \u001b[38;5;124m\"\u001b[39m\u001b[38;5;124mtriang\u001b[39m\u001b[38;5;124m\"\u001b[39m: triang,\n\u001b[0;32m   2661\u001b[0m     \u001b[38;5;124m\"\u001b[39m\u001b[38;5;124mtruncexpon\u001b[39m\u001b[38;5;124m\"\u001b[39m: truncexpon,\n\u001b[0;32m   2662\u001b[0m     \u001b[38;5;124m\"\u001b[39m\u001b[38;5;124mtruncnorm\u001b[39m\u001b[38;5;124m\"\u001b[39m: truncnorm,\n\u001b[0;32m   2663\u001b[0m     \u001b[38;5;124m\"\u001b[39m\u001b[38;5;124mtukeylambda\u001b[39m\u001b[38;5;124m\"\u001b[39m: tukeylambda,\n\u001b[0;32m   2664\u001b[0m     \u001b[38;5;124m\"\u001b[39m\u001b[38;5;124muniform\u001b[39m\u001b[38;5;124m\"\u001b[39m: uniform,\n\u001b[1;32m-> 2665\u001b[0m     \u001b[38;5;124m\"\u001b[39m\u001b[38;5;124mvonmises\u001b[39m\u001b[38;5;124m\"\u001b[39m: \u001b[43mvonmises\u001b[49m,\n\u001b[0;32m   2666\u001b[0m     \u001b[38;5;124m\"\u001b[39m\u001b[38;5;124mvonmises_line\u001b[39m\u001b[38;5;124m\"\u001b[39m: vonmises_line,\n\u001b[0;32m   2667\u001b[0m     \u001b[38;5;124m\"\u001b[39m\u001b[38;5;124mwald\u001b[39m\u001b[38;5;124m\"\u001b[39m: wald,\n\u001b[0;32m   2668\u001b[0m     \u001b[38;5;124m\"\u001b[39m\u001b[38;5;124mweibull_min\u001b[39m\u001b[38;5;124m\"\u001b[39m: weibull_min,\n\u001b[0;32m   2669\u001b[0m     \u001b[38;5;124m\"\u001b[39m\u001b[38;5;124mweibull_max\u001b[39m\u001b[38;5;124m\"\u001b[39m: weibull_max,\n\u001b[0;32m   2670\u001b[0m     \u001b[38;5;124m\"\u001b[39m\u001b[38;5;124mwrapcauchy\u001b[39m\u001b[38;5;124m\"\u001b[39m: wrapcauchy,\n\u001b[0;32m   2671\u001b[0m     \u001b[38;5;124m\"\u001b[39m\u001b[38;5;124mbernoulli\u001b[39m\u001b[38;5;124m\"\u001b[39m: bernoulli,\n\u001b[0;32m   2672\u001b[0m     \u001b[38;5;124m\"\u001b[39m\u001b[38;5;124mbetabinom\u001b[39m\u001b[38;5;124m\"\u001b[39m: betabinom,\n\u001b[0;32m   2673\u001b[0m     \u001b[38;5;124m\"\u001b[39m\u001b[38;5;124mbinom\u001b[39m\u001b[38;5;124m\"\u001b[39m: binom,\n\u001b[0;32m   2674\u001b[0m     \u001b[38;5;124m\"\u001b[39m\u001b[38;5;124mboltzmann\u001b[39m\u001b[38;5;124m\"\u001b[39m: boltzmann,\n\u001b[0;32m   2675\u001b[0m     \u001b[38;5;124m\"\u001b[39m\u001b[38;5;124mdlaplace\u001b[39m\u001b[38;5;124m\"\u001b[39m: dlaplace,\n\u001b[0;32m   2676\u001b[0m     \u001b[38;5;124m\"\u001b[39m\u001b[38;5;124mgeom\u001b[39m\u001b[38;5;124m\"\u001b[39m: geom,\n\u001b[0;32m   2677\u001b[0m     \u001b[38;5;124m\"\u001b[39m\u001b[38;5;124mhypergeom\u001b[39m\u001b[38;5;124m\"\u001b[39m: hypergeom,\n\u001b[0;32m   2678\u001b[0m     \u001b[38;5;124m\"\u001b[39m\u001b[38;5;124mlogser\u001b[39m\u001b[38;5;124m\"\u001b[39m: logser,\n\u001b[0;32m   2679\u001b[0m     \u001b[38;5;124m\"\u001b[39m\u001b[38;5;124mnbinom\u001b[39m\u001b[38;5;124m\"\u001b[39m: nbinom,\n\u001b[0;32m   2680\u001b[0m     \u001b[38;5;124m\"\u001b[39m\u001b[38;5;124mplanck\u001b[39m\u001b[38;5;124m\"\u001b[39m: planck,\n\u001b[0;32m   2681\u001b[0m     \u001b[38;5;124m\"\u001b[39m\u001b[38;5;124mpoisson\u001b[39m\u001b[38;5;124m\"\u001b[39m: poisson,\n\u001b[0;32m   2682\u001b[0m     \u001b[38;5;124m\"\u001b[39m\u001b[38;5;124mrandint\u001b[39m\u001b[38;5;124m\"\u001b[39m: randint,\n\u001b[0;32m   2683\u001b[0m     \u001b[38;5;124m\"\u001b[39m\u001b[38;5;124mskellam\u001b[39m\u001b[38;5;124m\"\u001b[39m: skellam,\n\u001b[0;32m   2684\u001b[0m     \u001b[38;5;124m\"\u001b[39m\u001b[38;5;124mzipf\u001b[39m\u001b[38;5;124m\"\u001b[39m: zipf,\n\u001b[0;32m   2685\u001b[0m     \u001b[38;5;124m\"\u001b[39m\u001b[38;5;124myulesimon\u001b[39m\u001b[38;5;124m\"\u001b[39m: yulesimon,\n\u001b[0;32m   2686\u001b[0m }\n\u001b[0;32m   2689\u001b[0m \u001b[38;5;66;03m# ---------------------aliases---------------------#\u001b[39;00m\n\u001b[0;32m   2690\u001b[0m \n\u001b[0;32m   2691\u001b[0m \u001b[38;5;66;03m### Alternate names\u001b[39;00m\n\u001b[0;32m   2692\u001b[0m normal \u001b[38;5;241m=\u001b[39m norm\n",
      "\u001b[1;31mNameError\u001b[0m: name 'vonmises' is not defined"
     ]
    }
   ],
   "source": [
    "import numpy as np\n",
    "from PyUncertainNumber.propagation.uncertaintyPropagation import Propagation, epistemic_propagation, aleatory_propagation, mixed_propagation\n",
    "from PyUncertainNumber import UncertainNumber as UN\n",
    "import matplotlib.pyplot as plt"
   ]
  },
  {
   "cell_type": "code",
   "execution_count": 2,
   "metadata": {},
   "outputs": [],
   "source": [
    "%load_ext autoreload\n",
    "%autoreload 2\n",
    "%load_ext rich"
   ]
  },
  {
   "cell_type": "code",
   "execution_count": 3,
   "metadata": {},
   "outputs": [],
   "source": [
    "# import user-defined function\n",
    "\n",
    "USER_dir = 'C:\\\\Users\\\\Ioanna\\\\Documents\\\\GitHub\\\\PyUncertainNumber\\\\cantilever_beam'\n",
    "import sys\n",
    "sys.path.append(USER_dir)"
   ]
  },
  {
   "cell_type": "markdown",
   "metadata": {},
   "source": [
    "***\n",
    "<a id=\"problem_statement\"></a>\n",
    "# 2. Problem statement\n",
    "\n",
    "The numerical example models a simple cantilever beam with length, $L$, distance to the neutral axis $y$, Young’s modulus, $E$, second moment of inertia, $I$, and external load, $F$. We will compute the bending stress $σ$, and the deflection $d$, assuming the above input parameters are **uncertain numbers**.\n",
    "\n",
    "We will use this example throughout the document to illustrate the differences among various uncertainty quantification approaches. A complete description of the following methods can be found in the [DAWS1 report](https://sites.google.com/view/dawsreports/up).\n",
    "\n",
    "![alt text](../assets/cantilever.png)\n",
    "\n",
    "**Fig.1** Cantilever beam with input parameters.  "
   ]
  },
  {
   "cell_type": "markdown",
   "metadata": {},
   "source": [
    "***\n",
    "<a id=\"create_propagating_function\"></a>\n",
    "# 3. Create the propagating function\n",
    "\n",
    "\n",
    "A propagating function is created which calculates the deflection, $d$, as a function of $L$, $E$, $I$, and $F$.\n",
    "- The function's input is only the uncertain numbers.\n",
    "- As sampling techniques are used it is likely that for a certain input combination the airfoil will fail to reach a solution. we use the try function to accomodate for this.\n",
    "\n",
    "\n",
    "Alternatively, such propating function can be imported as a Python function/method object from a certain local directory."
   ]
  },
  {
   "cell_type": "markdown",
   "metadata": {},
   "source": [
    "<a id=\"3.1.-create-function\"></a>\n",
    "\n",
    "## 3.1. Create propagating function"
   ]
  },
  {
   "cell_type": "code",
   "execution_count": 4,
   "metadata": {},
   "outputs": [],
   "source": [
    "def cantilever_beam_deflection(x):\n",
    "    \"\"\"Calculates deflection and stress for a cantilever beam.\n",
    "\n",
    "    Args:\n",
    "        x (np.array): Array of input parameters:\n",
    "            x[0]: Length of the beam (m)\n",
    "            x[1]: Second moment of area (mm^4)\n",
    "            x[2]: Applied force (N)\n",
    "            x[3]: Young's modulus (MPa)\n",
    "\n",
    "    Returns:\n",
    "        float: deflection (m)\n",
    "               Returns np.nan if calculation error occurs.\n",
    "    \"\"\"\n",
    "\n",
    "    beam_length = x[0]\n",
    "    I = x[1]\n",
    "    F = x[2]\n",
    "    E = x[3]\n",
    "    try:  # try is used to account for cases where the input combinations leads to error in fun due to bugs\n",
    "        deflection = F * beam_length**3 / (3 * E * 10**6 * I)  # deflection in m\n",
    "        \n",
    "    except:\n",
    "        deflection = np.nan\n",
    "\n",
    "    return deflection"
   ]
  },
  {
   "cell_type": "code",
   "execution_count": null,
   "metadata": {},
   "outputs": [],
   "source": [
    "# know the function with default Python help mechanism\n",
    "cantilever_beam_deflection?"
   ]
  },
  {
   "cell_type": "code",
   "execution_count": null,
   "metadata": {},
   "outputs": [],
   "source": [
    "import numpy as np \n",
    "x = np.array([1.00500000e+01 , 3.86159100e-04 ,-8.24387293e+00 , 2.12872340e+02])\n",
    "y = cantilever_beam_deflection(x)\n",
    "print(y)"
   ]
  },
  {
   "cell_type": "markdown",
   "metadata": {},
   "source": [
    "<a id=\"3.2.-Upload-function\"></a>\n",
    "\n",
    "## 3.2. Upload propagating function"
   ]
  },
  {
   "cell_type": "code",
   "execution_count": null,
   "metadata": {},
   "outputs": [],
   "source": [
    "# Alternatively, such propating function can be imported as a Python function/method object from a certain local directory.\n",
    "from PyUncertainNumber.propagation.performance_func import cb_deflection, cb_stress"
   ]
  },
  {
   "cell_type": "markdown",
   "metadata": {
    "jp-MarkdownHeadingCollapsed": true
   },
   "source": [
    "<a id=\"3.3.-verify-function\"></a>\n",
    "\n",
    "## 3.3. Verify the function\n",
    "\n",
    "To ensure that the function yields meaningful results. We consider that input has the nominal values seen below.\n",
    "\n",
    "The function should yield deflection equal to 0.162m.\n",
    " "
   ]
  },
  {
   "cell_type": "code",
   "execution_count": null,
   "metadata": {},
   "outputs": [],
   "source": [
    "# test the function\n",
    "\n",
    "y  = 0.155 # m\n",
    "L  = 10.05 # m\n",
    "I = 0.000386 # m**4\n",
    "F = 37 # kN\n",
    "E = 200 # GPa\n",
    "\n",
    "x = np.array([L, I, F, E])\n",
    "deflection = cantilever_beam_deflection(x)\n",
    "\n",
    "print(deflection) # 0.162m"
   ]
  },
  {
   "cell_type": "markdown",
   "metadata": {},
   "source": [
    "***\n",
    "<a id=\"propagate_epistemic_uncertainty\"></a>\n",
    "# 4. Epistemic uncertainty"
   ]
  },
  {
   "cell_type": "markdown",
   "metadata": {},
   "source": [
    "<a id=\"4.1.-uncertainty-characterisation\"></a>\n",
    "\n",
    "## 4.1. Uncertainty Characterisation\n",
    "\n",
    "Construct `UncertainNumbers` objects for the inputs assuming they are intervals with the lower and upper values are seen below\n",
    "\n",
    "- $y = [0.145, 0.155] \\ m$\n",
    "\n",
    "- $L = [9.95, 10.05] \\ m$\n",
    "\n",
    "- $I = [0.0003861591, 0.0005213425] \\ m^{4}$\n",
    "\n",
    "- $F = [11, 37] \\ kN$\n",
    "\n",
    "- $E = [200, 220] \\ GPa$\n",
    " "
   ]
  },
  {
   "cell_type": "code",
   "execution_count": null,
   "metadata": {},
   "outputs": [],
   "source": [
    "#y = UN(name='beam width', symbol='y', units='m', essence='interval', bounds=[0.145, 0.155]) # Required only for stress estimation\n",
    "L = UN(name='beam length', symbol='L', units='m', essence='interval', bounds= [9.95, 10.05])\n",
    "I = UN(name='moment of inertia', symbol='I', units='m', essence='interval', bounds= [0.0003861591, 0.0005213425])\n",
    "F = UN(name='vertical force', symbol='F', units='kN', essence='interval', bounds= [11, 37])\n",
    "E = UN(name='elastic modulus', symbol='E', units='GPa', essence='interval', bounds=[200, 220])"
   ]
  },
  {
   "cell_type": "code",
   "execution_count": null,
   "metadata": {},
   "outputs": [],
   "source": [
    "\n",
    "L.display()\n",
    "plt.show()"
   ]
  },
  {
   "cell_type": "code",
   "execution_count": null,
   "metadata": {},
   "outputs": [],
   "source": [
    "import matplotlib.pyplot as plt\n",
    "\n",
    "def plot_interval_box(lower_bound, upper_bound):\n",
    "    \"\"\"Plots an interval as a box on the y-axis at y=1 with no x-axis numbers \n",
    "       and includes vertical lines from y=0 to y=1 at the bounds.\n",
    "    \"\"\"\n",
    "\n",
    "    plt.figure(figsize=(3, 3))  # Adjust figure size as needed\n",
    "\n",
    "    # Create the box\n",
    "    \n",
    "    plt.hlines(y=1, xmin=lower_bound, xmax=upper_bound, linewidth=2, color='blue')\n",
    "\n",
    "    # Add vertical lines\n",
    "    plt.vlines(x=lower_bound, ymin=0, ymax=1, linewidth=1, color='blue')\n",
    "    plt.vlines(x=upper_bound, ymin=0, ymax=1, linewidth=1, color='blue')\n",
    "\n",
    "    #plt.yticks([0])  # Show only the y-axis tick at 0 \n",
    "    plt.xticks([])  # Remove x-axis ticks and numbers\n",
    "\n",
    "    plt.xlabel(\"V\")\n",
    "    plt.ylabel(\"CDF\")\n",
    "\n",
    "    plt.show()\n",
    "\n",
    "\n",
    "# Example usage:\n",
    "plot_interval_box(2, 5)"
   ]
  },
  {
   "cell_type": "markdown",
   "metadata": {},
   "source": [
    "<a id=\"4.2-uncertainty-propatation-methods\"></a>\n",
    "\n",
    "## 4.2 Ucertainty propagation methods \n",
    "\n",
    "Choose from a suite of black box propagating techniques to propagate the intervals through the model. "
   ]
  },
  {
   "cell_type": "markdown",
   "metadata": {
    "jp-MarkdownHeadingCollapsed": true
   },
   "source": [
    "<a id=\"4.2.1.-Endpoints-propatation\"></a>\n",
    "\n",
    "### 4.2.1. Endpoint propagation\n",
    "\n",
    "The endpoint propagation method (Dong and Shah, 1987) is a straightforward way to project intervals through the code, by projecting all input combinations produced by the Cartesian product of the interval bounds. This results in a total of $n = 2^{d}$. \n",
    "\n",
    "For the working example, there are d = 5 intervals which results in $n = 2^{5} = 32$ input combinations.\n",
    "\n",
    "#### Assumptions\n",
    "\n",
    "\n"
   ]
  },
  {
   "cell_type": "markdown",
   "metadata": {},
   "source": [
    "- [x] Ioanna's original top-level UP function with  the 'endspoints' method"
   ]
  },
  {
   "cell_type": "markdown",
   "metadata": {},
   "source": [
    "- [x] Leslie's standalone endspoints implementation"
   ]
  },
  {
   "cell_type": "code",
   "execution_count": null,
   "metadata": {},
   "outputs": [],
   "source": [
    "METHOD = \"endpoints\"\n",
    "\n",
    "a = Propagation(vars=['L', 'I', 'F', 'E'], \n",
    "          fun=cantilever_beam_deflection, \n",
    "          method = METHOD,\n",
    "          save_raw_data = \"no\" \n",
    "        #   save_raw_data = \"yes\", \n",
    "        #   base_path = USER_dir\n",
    "         )                 "
   ]
  },
  {
   "cell_type": "code",
   "execution_count": null,
   "metadata": {},
   "outputs": [],
   "source": [
    "a.print() #summary of results "
   ]
  },
  {
   "cell_type": "code",
   "execution_count": null,
   "metadata": {},
   "outputs": [],
   "source": [
    "a.raw_data['x'] # the input combinations.\n",
    "a.raw_data['f'] # the function evaluations for input combinations.\n",
    "a.raw_data['bounds'] # the bounds for each output\n",
    "a.raw_data['min'] # summary of min f and corresponding x\n",
    "a.raw_data['max'] # summary of max f and corresponding x\n",
    "a.un # the uncertain number\n"
   ]
  },
  {
   "cell_type": "code",
   "execution_count": null,
   "metadata": {},
   "outputs": [],
   "source": [
    "METHOD = \"endpoints\"\n",
    "\n",
    "b = epistemic_propagation(vars=['L', 'I', 'F', 'E'], \n",
    "          fun=cantilever_beam_deflection, \n",
    "          n = None, \n",
    "          method = METHOD, \n",
    "          save_raw_data = \"no\"\n",
    "        #   save_raw_data = \"yes\", \n",
    "        #   base_path = USER_dir\n",
    "         )"
   ]
  },
  {
   "cell_type": "code",
   "execution_count": null,
   "metadata": {},
   "outputs": [],
   "source": [
    "# returned a dict that contains the UN object and some other information\n",
    "b.keys()"
   ]
  },
  {
   "cell_type": "code",
   "execution_count": null,
   "metadata": {},
   "outputs": [],
   "source": [
    "b.raw_data['x'] # the input combinations.\n",
    "b.raw_data['f'] # the function evaluations for input combinations.\n",
    "b.raw_data['bounds'] # the bounds for each output\n",
    "b.raw_data['min'] # summary of min f and corresponding x\n",
    "b.raw_data['max'] # summary of max f and corresponding x\n",
    "b.un # the uncertain number"
   ]
  },
  {
   "cell_type": "code",
   "execution_count": null,
   "metadata": {},
   "outputs": [],
   "source": [
    "b.print()"
   ]
  },
  {
   "cell_type": "markdown",
   "metadata": {
    "jp-MarkdownHeadingCollapsed": true
   },
   "source": [
    "<a id=\"4.2.2.-Subinterval-reconstitution-propagation\"></a>\n",
    "\n",
    "### 4.2.2. Subinterval reconstitution propagation\n",
    "\n",
    "The input intervals are partitioned into smaller intervals, which are then propagated through the model using endpoint propagation and the output interval can be reassembled (Ferson and Hajagos, 2004)."
   ]
  },
  {
   "cell_type": "code",
   "execution_count": null,
   "metadata": {},
   "outputs": [],
   "source": [
    "METHOD = \"subinterval\"\n",
    "\n",
    "a = Propagation(vars=['L', 'I', 'F', 'E'], \n",
    "          fun=cantilever_beam_deflection, \n",
    "          method = METHOD,\n",
    "          save_raw_data = \"no\" \n",
    "        #   save_raw_data = \"yes\", \n",
    "        #   base_path = USER_dir\n",
    "         )        "
   ]
  },
  {
   "cell_type": "code",
   "execution_count": null,
   "metadata": {},
   "outputs": [],
   "source": [
    "a.print() #summary of results "
   ]
  },
  {
   "cell_type": "code",
   "execution_count": null,
   "metadata": {},
   "outputs": [],
   "source": [
    "METHOD = \"subinterval\"\n",
    "\n",
    "b = epistemic_propagation(vars=['L', 'I', 'F', 'E'], \n",
    "          fun=cantilever_beam_deflection, \n",
    "          method = METHOD, \n",
    "          save_raw_data = \"no\"\n",
    "        #   save_raw_data = \"yes\", \n",
    "        #   base_path = USER_dir\n",
    "         )"
   ]
  },
  {
   "cell_type": "code",
   "execution_count": null,
   "metadata": {},
   "outputs": [],
   "source": [
    "b.print() #summary of results "
   ]
  },
  {
   "cell_type": "code",
   "execution_count": null,
   "metadata": {},
   "outputs": [],
   "source": [
    "b.raw_data['x'] # the input combinations.\n",
    "b.raw_data['f'] # the function evaluations for input combinations.\n",
    "b.raw_data['bounds'] # the bounds for each output\n",
    "b.raw_data['min'] # summary of min f and corresponding x\n",
    "b.raw_data['max'] # summary of max f and corresponding x\n",
    "b.un # the uncertain number"
   ]
  },
  {
   "cell_type": "markdown",
   "metadata": {
    "jp-MarkdownHeadingCollapsed": true
   },
   "source": [
    "<a id=\"4.2.3.-Sampling-propagation\"></a>\n",
    "\n",
    "### 4.2.3. Sampling propagation\n",
    "\n",
    "- Brute Monte Carlo\n",
    "- Latin Hypercube\n",
    "- Brute Monte Carlo + endpoints\n",
    "- Latin Hypercuve + endpoints"
   ]
  },
  {
   "cell_type": "code",
   "execution_count": null,
   "metadata": {},
   "outputs": [],
   "source": [
    "METHOD = \"monte_carlo\"\n",
    "\n",
    "a = Propagation(vars=['L', 'I', 'F', 'E'], \n",
    "          fun=cantilever_beam_deflection,\n",
    "          n_sam = 1000, \n",
    "          method = METHOD,\n",
    "          save_raw_data = \"no\" \n",
    "        #   save_raw_data = \"yes\", \n",
    "        #   base_path = USER_dir\n",
    "         )        "
   ]
  },
  {
   "cell_type": "code",
   "execution_count": null,
   "metadata": {},
   "outputs": [],
   "source": [
    "a.pritn()"
   ]
  },
  {
   "cell_type": "code",
   "execution_count": null,
   "metadata": {},
   "outputs": [],
   "source": [
    "METHOD = \"monte_carlo\"\n",
    "\n",
    "b = epistemic_propagation(vars=['L', 'I', 'F', 'E'], \n",
    "          fun=cantilever_beam_deflection,\n",
    "          n_sam = 1000,  \n",
    "          method = METHOD, \n",
    "          save_raw_data = \"no\"\n",
    "        #   save_raw_data = \"yes\", \n",
    "        #   base_path = USER_dir\n",
    "         )"
   ]
  },
  {
   "cell_type": "code",
   "execution_count": null,
   "metadata": {},
   "outputs": [],
   "source": [
    "b.print()\n",
    "b.un"
   ]
  },
  {
   "cell_type": "code",
   "execution_count": null,
   "metadata": {},
   "outputs": [],
   "source": [
    "METHOD = \"monte_carlo_endpoints\"\n",
    "\n",
    "c = Propagation(vars=['L', 'I', 'F', 'E'], \n",
    "          fun=cantilever_beam_deflection,\n",
    "          n_sam = 1000,  \n",
    "          method = METHOD, \n",
    "          save_raw_data = \"no\"\n",
    "        #   save_raw_data = \"yes\", \n",
    "        #   base_path = USER_dir\n",
    "         )"
   ]
  },
  {
   "cell_type": "code",
   "execution_count": null,
   "metadata": {},
   "outputs": [],
   "source": [
    "c.print()\n",
    "c.un"
   ]
  },
  {
   "cell_type": "code",
   "execution_count": null,
   "metadata": {},
   "outputs": [],
   "source": [
    "METHOD = \"monte_carlo_endpoints\"\n",
    "\n",
    "d = epistemic_propagation(vars=['L', 'I', 'F', 'E'], \n",
    "          fun=cantilever_beam_deflection,\n",
    "          n_sam = 1000,  \n",
    "          method = METHOD, \n",
    "          save_raw_data = \"no\"\n",
    "        #   save_raw_data = \"yes\", \n",
    "        #   base_path = USER_dir\n",
    "         )"
   ]
  },
  {
   "cell_type": "code",
   "execution_count": null,
   "metadata": {},
   "outputs": [],
   "source": [
    "d.un"
   ]
  },
  {
   "cell_type": "markdown",
   "metadata": {},
   "source": [
    "### 4.2.4. Sampling propagation\n",
    "\n",
    "- Latin Hypercube\n",
    "- Latin Hypercuve + endpoints"
   ]
  },
  {
   "cell_type": "code",
   "execution_count": null,
   "metadata": {},
   "outputs": [],
   "source": [
    "METHOD = \"latin_hypercube\"\n",
    "\n",
    "a = Propagation(vars=['L', 'I', 'F', 'E'], \n",
    "          fun=cantilever_beam_deflection,\n",
    "          n_sam = 1000, \n",
    "          method = METHOD,\n",
    "          save_raw_data = \"no\" \n",
    "        #   save_raw_data = \"yes\", \n",
    "        #   base_path = USER_dir\n",
    "         )        "
   ]
  },
  {
   "cell_type": "code",
   "execution_count": null,
   "metadata": {},
   "outputs": [],
   "source": [
    "a.un"
   ]
  },
  {
   "cell_type": "code",
   "execution_count": null,
   "metadata": {},
   "outputs": [],
   "source": [
    "METHOD = \"latin_hypercube\"\n",
    "\n",
    "b = epistemic_propagation(vars=['L', 'I', 'F', 'E'], \n",
    "          fun=cantilever_beam_deflection,\n",
    "          n_sam = 1000, \n",
    "          method = METHOD,\n",
    "          save_raw_data = \"no\" \n",
    "        #   save_raw_data = \"yes\", \n",
    "        #   base_path = USER_dir\n",
    "         )        "
   ]
  },
  {
   "cell_type": "code",
   "execution_count": null,
   "metadata": {},
   "outputs": [],
   "source": [
    "b.un"
   ]
  },
  {
   "cell_type": "code",
   "execution_count": null,
   "metadata": {},
   "outputs": [],
   "source": [
    "METHOD = \"latin_hypercube_endpoints\"\n",
    "\n",
    "c = Propagation(vars=['L', 'I', 'F', 'E'], \n",
    "          fun=cantilever_beam_deflection,\n",
    "          n_sam = 1000, \n",
    "          method = METHOD,\n",
    "          save_raw_data = \"no\" \n",
    "        #   save_raw_data = \"yes\", \n",
    "        #   base_path = USER_dir\n",
    "         )       "
   ]
  },
  {
   "cell_type": "code",
   "execution_count": null,
   "metadata": {},
   "outputs": [],
   "source": [
    "c.un"
   ]
  },
  {
   "cell_type": "code",
   "execution_count": null,
   "metadata": {},
   "outputs": [],
   "source": [
    "METHOD = \"latin_hypercube_endpoints\"\n",
    "\n",
    "d = epistemic_propagation(vars=['L', 'I', 'F', 'E'], \n",
    "          fun=cantilever_beam_deflection,\n",
    "          n_sam = 1000, \n",
    "          method = METHOD,\n",
    "          save_raw_data = \"no\" \n",
    "        #   save_raw_data = \"yes\", \n",
    "        #   base_path = USER_dir\n",
    "         )      "
   ]
  },
  {
   "cell_type": "code",
   "execution_count": null,
   "metadata": {},
   "outputs": [],
   "source": [
    "d.print()"
   ]
  },
  {
   "cell_type": "markdown",
   "metadata": {},
   "source": [
    "<a id=\"4.2.5.-Optimisation-methors\"></a>\n",
    "\n",
    "### 4.2.5. Optimisation methods\n",
    "\n",
    "- Local optimisation\n",
    "- Genetic algorithm\n"
   ]
  },
  {
   "cell_type": "code",
   "execution_count": null,
   "metadata": {},
   "outputs": [],
   "source": [
    "ETHOD = \"local_optimisation\"\n",
    "\n",
    "a = Propagation(vars=['L', 'I', 'F', 'E'], \n",
    "       fun = cantilever_beam_deflection, \n",
    "       #x0 = None, \n",
    "       method = METHOD, \n",
    "       method_loc = 'Nelder-Mead')"
   ]
  },
  {
   "cell_type": "code",
   "execution_count": null,
   "metadata": {},
   "outputs": [],
   "source": [
    "a.un\n",
    "a.print()"
   ]
  },
  {
   "cell_type": "code",
   "execution_count": null,
   "metadata": {},
   "outputs": [],
   "source": [
    "METHOD = \"local_optimisation\"\n",
    "\n",
    "b = epistemic_propagation(vars=['L', 'I', 'F', 'E'], \n",
    "       fun = cantilever_beam_deflection, \n",
    "       #x0 = None, \n",
    "       method = METHOD, \n",
    "       method_loc = 'Nelder-Mead')"
   ]
  },
  {
   "cell_type": "code",
   "execution_count": null,
   "metadata": {},
   "outputs": [],
   "source": [
    "b.print()"
   ]
  },
  {
   "cell_type": "code",
   "execution_count": null,
   "metadata": {},
   "outputs": [],
   "source": [
    "b.un"
   ]
  },
  {
   "cell_type": "markdown",
   "metadata": {},
   "source": []
  },
  {
   "cell_type": "code",
   "execution_count": null,
   "metadata": {},
   "outputs": [],
   "source": [
    "METHOD = \"genetic_optimisation\"\n",
    "\n",
    "a = Propagation(vars=['L', 'I', 'F', 'E'], \n",
    "       fun = cantilever_beam_deflection, \n",
    "       method = METHOD)"
   ]
  },
  {
   "cell_type": "code",
   "execution_count": null,
   "metadata": {},
   "outputs": [],
   "source": [
    "a.print()"
   ]
  },
  {
   "cell_type": "code",
   "execution_count": null,
   "metadata": {},
   "outputs": [],
   "source": [
    "METHOD = \"genetic_optimisation\"\n",
    "\n",
    "b = epistemic_propagation(vars=['L', 'I', 'F', 'E'], \n",
    "       fun = cantilever_beam_deflection, \n",
    "       method = METHOD)"
   ]
  },
  {
   "cell_type": "code",
   "execution_count": null,
   "metadata": {},
   "outputs": [],
   "source": [
    "b.print()"
   ]
  },
  {
   "cell_type": "markdown",
   "metadata": {},
   "source": [
    "### Naive interval arithmetics"
   ]
  },
  {
   "cell_type": "code",
   "execution_count": null,
   "metadata": {},
   "outputs": [],
   "source": [
    "defl = cantilever_beam_deflection(L, I, F, E)"
   ]
  },
  {
   "cell_type": "code",
   "execution_count": null,
   "metadata": {},
   "outputs": [],
   "source": []
  },
  {
   "cell_type": "markdown",
   "metadata": {},
   "source": [
    "***\n",
    "<a id=\"aleatory_uncertainty_propagation\"></a>\n",
    "# 5. Aleatory uncertainty\n",
    "\n",
    "when inputs have various types of uncertainty."
   ]
  },
  {
   "cell_type": "code",
   "execution_count": null,
   "metadata": {},
   "outputs": [],
   "source": [
    "# y = UN(name='beam width', symbol='y', units='m', essence='interval', bounds=[0.145, 0.155]) # Required only for stress estimation\n",
    "L = UN(name='beam length', symbol='L', units='m', essence='distribution', distribution_parameters=[\"gaussian\", [10.05, 0.033]])\n",
    "I = UN(name='moment of inertia', symbol='I', units='m', essence='distribution', distribution_parameters=[\"gaussian\", [0.000454, 4.5061e-5]])\n",
    "F = UN(name='vertical force', symbol='F', units='kN', essence='distribution', distribution_parameters=[\"gaussian\", [24, 8.67]])\n",
    "E = UN(name='elastic modulus', symbol='E', units='GPa', essence='distribution', distribution_parameters=[\"gaussian\", [210, 6.67]])"
   ]
  },
  {
   "cell_type": "code",
   "execution_count": null,
   "metadata": {},
   "outputs": [],
   "source": [
    "METHOD = \"monte_carlo\"\n",
    "\n",
    "a = Propagation(vars=['L', 'I', 'F', 'E'], \n",
    "          fun = cantilever_beam_deflection, \n",
    "          n_sam = 100, \n",
    "          method = METHOD, \n",
    "          save_raw_data = \"no\"\n",
    "         )\n"
   ]
  },
  {
   "cell_type": "code",
   "execution_count": null,
   "metadata": {},
   "outputs": [],
   "source": [
    "a.print()"
   ]
  },
  {
   "cell_type": "code",
   "execution_count": null,
   "metadata": {},
   "outputs": [],
   "source": [
    "\n",
    "METHOD = \"monte_carlo\"\n",
    "\n",
    "b = aleatory_propagation(vars=['L', 'I', 'F', 'E'], \n",
    "          fun = cantilever_beam_deflection, \n",
    "          n_sam = 100, \n",
    "          method = METHOD, \n",
    "          save_raw_data = \"no\"\n",
    "         )\n"
   ]
  },
  {
   "cell_type": "code",
   "execution_count": null,
   "metadata": {},
   "outputs": [],
   "source": [
    "b.print()"
   ]
  },
  {
   "cell_type": "markdown",
   "metadata": {},
   "source": [
    "***\n",
    "<a id=\"mixed_uncertainty_propagation\"></a>\n",
    "# 6. Mixed types of uncertainty\n",
    "\n",
    "when inputs have various types of uncertainty."
   ]
  },
  {
   "cell_type": "code",
   "execution_count": null,
   "metadata": {},
   "outputs": [],
   "source": [
    "#TODO could Scott elaborate? cartesian matrix distribution and interval or pbox - interval horizontal slices through the pbox define an interval, horizontal slicing as an approximation or rigolously each of the ci functions\n",
    "#TODO ferson, hajagos rigorous\n",
    "#slicing approimately, slicling rigorously\n",
    "#a list of itnervals by horizontal slices and with these lists the cartesian product , interval from each input.\n",
    "#stack the intervals and reconstruct this is done. "
   ]
  },
  {
   "cell_type": "code",
   "execution_count": null,
   "metadata": {},
   "outputs": [],
   "source": [
    "# y = UN(name='distance to neutral axis', symbol='y', units='m', essence='distribution', distribution_parameters=[\"gaussian\", [0.15, 0.00333]])\n",
    "# L = UN(name='beam length', symbol='L', units='m', essence='distribution', distribution_parameters=[\"gaussian\", [10.05, 0.033]])\n",
    "I = UN(name='moment of inertia', symbol='I', units='m', essence='distribution', distribution_parameters=[\"gaussian\", [0.000454, 4.5061e-5]])\n",
    "F = UN(name='vertical force', symbol='F', units='kN', essence='distribution', distribution_parameters=[\"gaussian\", [24, 8.67]])\n",
    "    # E = N(name='elastic modulus', symbol='E', units='GPa', essence='distribution', distribution_parameters=[\"gaussian\", [210, 6.67]])\n",
    "    \n",
    "# y = UN(name='beam width', symbol='y', units='m', essence='interval', bounds=[0.145, 0.155]) \n",
    "L = UN(name='beam length', symbol='L', units='m', essence='interval', bounds= [9.95, 10.05])\n",
    "# I = UN(name='moment of inertia', symbol='I', units='m', essence='interval', bounds= [0.0003861591, 0.0005213425])\n",
    "# F = UN(name='vertical force', symbol='F', units='kN', essence='interval', bounds= [11, 37])\n",
    "E = UN(name='elastic modulus', symbol='E', units='GPa', essence='interval', bounds=[200, 220])\n"
   ]
  },
  {
   "cell_type": "code",
   "execution_count": null,
   "metadata": {},
   "outputs": [],
   "source": [
    "METHOD = \"second_order_extremepoints\"\n",
    "\n",
    "a = Propagation(vars=['L', 'I', 'F', 'E'], \n",
    "          fun = cantilever_beam_deflection, \n",
    "          # n_slices = 10,\n",
    "          # condensation = None, \n",
    "          # tOp = 0.999,\n",
    "          # bOt= 0.001,\n",
    "          method = METHOD, \n",
    "          save_raw_data = \"no\"\n",
    "         )\n"
   ]
  },
  {
   "cell_type": "code",
   "execution_count": null,
   "metadata": {},
   "outputs": [],
   "source": [
    "a.print()\n",
    "a.bounds"
   ]
  },
  {
   "cell_type": "code",
   "execution_count": null,
   "metadata": {},
   "outputs": [],
   "source": [
    "METHOD = \"second_order_extremepoints\"\n",
    "\n",
    "a = mixed_propagation(vars=['L', 'I', 'F', 'E'], \n",
    "          fun = cantilever_beam_deflection, \n",
    "          # n_slices = 10,\n",
    "          # condensation = None, \n",
    "          # tOp = 0.999,\n",
    "          # bOt= 0.001,\n",
    "          method = METHOD, \n",
    "          save_raw_data = \"no\"\n",
    "         )\n"
   ]
  },
  {
   "cell_type": "code",
   "execution_count": null,
   "metadata": {},
   "outputs": [],
   "source": [
    "a.print()\n",
    "a.bounds"
   ]
  },
  {
   "cell_type": "code",
   "execution_count": null,
   "metadata": {},
   "outputs": [],
   "source": [
    "import numpy as np\n",
    "import matplotlib.pyplot as plt\n",
    "\n",
    "def plotPbox(X, p=None, color='k'):\n",
    "    \"\"\"\n",
    "    Plots a p-box (probability box) using matplotlib.\n",
    "\n",
    "    Args:\n",
    "        X (np.ndarray): A 2D NumPy array where each row represents an interval [xL, xR].\n",
    "        p (np.ndarray, optional): A 1D NumPy array of probabilities corresponding to the intervals in X. \n",
    "                                   Defaults to None, which generates equally spaced probabilities.\n",
    "        color (str, optional): The color of the plot. Defaults to 'k' (black).\n",
    "    \"\"\"\n",
    "    xL = X[:, 0]\n",
    "    xR = X[:, 1]\n",
    "\n",
    "    if p is None:\n",
    "        p = np.linspace(0, 1, X.shape[0] + 1)\n",
    "\n",
    "    if p.min() > 0:\n",
    "        p = np.concatenate(([0], p))\n",
    "        xL = np.concatenate(([xL[0]], xL))\n",
    "        xR = np.concatenate(([xR[0]], xR))\n",
    "\n",
    "    if p.max() < 1:\n",
    "        p = np.concatenate((p, [1]))\n",
    "        xR = np.concatenate((xR, [xR[-1]]))\n",
    "        xL = np.concatenate((xL, [xL[-1]]))\n",
    "\n",
    "    plt.stairs([xL[0]] + xL.tolist(), p, color=color, linewidth=3)\n",
    "    plt.stairs([xR[0]] + xR.tolist(), p, color=color, linewidth=3)\n",
    "    plt.plot([xL[0], xR[0]], [0, 0], color=color, linewidth=3)\n",
    "    plt.plot([xL[-1], xR[-1]], [1, 1], color=color, linewidth=3)\n",
    "    plt.show()  # Add this to display the plot"
   ]
  },
  {
   "cell_type": "code",
   "execution_count": null,
   "metadata": {},
   "outputs": [],
   "source": [
    "# example\n",
    "from PyUncertainNumber.propagation.mixed_uncertainty.second_order_propagation import second_order_propagation_method\n",
    "def cantilever_beam_deflection(x):\n",
    "        \"\"\"Calculates deflection and stress for a cantilever beam.\n",
    "\n",
    "        Args:\n",
    "          x (np.array): Array of input parameters:\n",
    "              x[0]: Length of the beam (m)\n",
    "              x[1]: Second moment of area (mm^4)\n",
    "              x[2]: Applied force (N)\n",
    "              x[3]: Young's modulus (MPa)\n",
    "\n",
    "      Returns:\n",
    "          float: deflection (m)\n",
    "                 Returns np.nan if calculation error occurs.\n",
    "      \"\"\"\n",
    "        beam_length = x[0]\n",
    "        I = x[1]\n",
    "        F = x[2]\n",
    "        E = x[3]\n",
    "        try:  # try is used to account for cases where the input combinations leads to error in fun due to bugs\n",
    "            deflection = F * beam_length**3 / (3 * E * 10**6 * I)  # deflection in m\n",
    "\n",
    "        except:\n",
    "            deflection = np.nan\n",
    "\n",
    "        return deflection\n",
    "    \n",
    "# y = UncertainNumber(name='distance to neutral axis', symbol='y', units='m', essence='distribution', distribution_parameters=[\"gaussian\", [0.15, 0.00333]])\n",
    "# L = UncertainNumber(name='beam length', symbol='L', units='m', essence='distribution', distribution_parameters=[\"gaussian\", [10.05, 0.033]])\n",
    "# I = UncertainNumber(name='moment of inertia', symbol='I', units='m', essence='distribution', distribution_parameters=[\"gaussian\", [0.000454, 4.5061e-5]])\n",
    "# F = UncertainNumber(name='vertical force', symbol='F', units='kN', essence='distribution', distribution_parameters=[\"gaussian\", [24, 8.67]])\n",
    "# E = UncertainNumber(name='elastic modulus', symbol='E', units='GPa', essence='distribution', distribution_parameters=[\"gaussian\", [210, 6.67]])\n",
    "    \n",
    "y = UN(name='beam width', symbol='y', units='m', essence='interval', bounds=[0.145, 0.155]) \n",
    "L = UN(name='beam length', symbol='L', units='m', essence='interval', bounds= [9.95, 10.05])\n",
    "I = UN(name='moment of inertia', symbol='I', units='m', essence='interval', bounds= [0.0003861591, 0.0005213425])\n",
    "F = UN(name='vertical force', symbol='F', units='kN', essence='interval', bounds= [11, 37])\n",
    "E = UN(name='elastic modulus', symbol='E', units='GPa', essence='interval', bounds=[200, 220])\n",
    "\n",
    "METHOD = \"extremepoints\"\n",
    "base_path = \"C:\\\\Users\\\\Ioanna\\\\OneDrive - The University of Liverpool\\\\DAWS2_code\\\\UP\\\\\"\n",
    "# (vars = None,\n",
    "#         results:dict = None,\n",
    "#         fun = None,\n",
    "#         n: np.integer = None,\n",
    "#         method = \"monte_carlo\", \n",
    "             \n",
    "#         save_raw_data=\"no\",\n",
    "#         *,  # Keyword-only arguments start here\n",
    "#         base_path=np.nan,\n",
    "#         **kwargs,\n",
    "a = second_order_propagation_method(vars= [ L, I, F, E], \n",
    "                            results = None,\n",
    "                            fun= cantilever_beam_deflection, \n",
    "                            method= 'endpoints', \n",
    "                            #save_raw_data= \"no\",\n",
    "                            save_raw_data= \"yes\",\n",
    "                            base_path= base_path\n",
    "                        )\n",
    "    \n",
    "    \n",
    "a.print()\n",
    "for i in range(len(a.un)):\n",
    "    print(a.un[i])\n",
    "\n",
    "\n",
    "    "
   ]
  }
 ],
 "metadata": {
  "kernelspec": {
   "display_name": "Python 3",
   "language": "python",
   "name": "python3"
  },
  "language_info": {
   "codemirror_mode": {
    "name": "ipython",
    "version": 3
   },
   "file_extension": ".py",
   "mimetype": "text/x-python",
   "name": "python",
   "nbconvert_exporter": "python",
   "pygments_lexer": "ipython3",
   "version": "3.12.4"
  }
 },
 "nbformat": 4,
 "nbformat_minor": 4
}
