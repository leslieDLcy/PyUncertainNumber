{
 "cells": [
  {
   "cell_type": "markdown",
   "metadata": {
    "jp-MarkdownHeadingCollapsed": true
   },
   "source": [
    "This notebook is written by the DAWS2 UQ team based in Univ. of Liverpool for the workshop of UQ & M of the DAWS2 project.\n",
    "\n",
    "Uncertainty Quantification & Management\n",
    "--\n",
    "*placeholder texts*\n",
    "\n",
    "{\n",
    "\n",
    "Personal website: https://yuchenakaleslie.github.io/<br>\n",
    "ResearchGate: https://www.researchgate.net/profile/Yu-Chen-402<br>\n",
    "Contact: yu.chen2@liverpool.ac.uk\n",
    "\n",
    "}\n",
    "\n",
    "DAWS2 UQ team: {Scott Ferson, Ioanna,  [(Leslie) Yu Chen](https://yuchenakaleslie.github.io/)}\n",
    "\n",
    "All rights reserved.\n",
    "\n",
    "==================="
   ]
  },
  {
   "cell_type": "markdown",
   "metadata": {},
   "source": [
    "## Table of Contents\n",
    "#### [1. Setup](#Setup)\n",
    "#### [2. Problem statement](#problem_statement)\n",
    "#### [3. Create propagating function](#create_propagating_function)\n",
    "#### [4. Epistemic uncertainty](#propagate_epistemic_uncertainty)\n",
    "#### <small>[4.1. Uncertainty Characterisation](#4.1-uncertainty-characterisation)</small>\n",
    "#### <small>[4.2. Uncertainty propagation methods](#4.2-uncertainty-propatation-methods)</small>\n",
    "##### <small>[4.2.1. Endpoints propagation](#4.2.1-Endpoints-propatation)</small>\n",
    "##### <small>[4.2.2. Subinterval reconstitution propagation](#4.2.2.-Subinterval-reconstitution-propagation)</small>\n",
    "##### <small>[4.2.3. Sampling propagation](#4.2.3.-Sampling-propagation)</small>\n",
    "##### <small>[4.2.4. Optimisation methods](#4.2.3.-Optimisation-methods)</small>\n",
    "#### [5. Aleatory uncertainty](#aleatory_uncertainty_propagation)\n",
    "#### [5. Mixed types of uncertainty](#mixed_uncertainty_propagation)"
   ]
  },
  {
   "cell_type": "markdown",
   "metadata": {},
   "source": [
    "***\n",
    "<a id=\"setup\"></a>\n",
    "# 1. Setup\n",
    "\n",
    "Import the libraries"
   ]
  },
  {
   "cell_type": "code",
   "execution_count": 2,
   "metadata": {},
   "outputs": [
    {
     "ename": "ModuleNotFoundError",
     "evalue": "No module named 'pyuncertainnumber'",
     "output_type": "error",
     "traceback": [
      "\u001b[1;31m---------------------------------------------------------------------------\u001b[0m",
      "\u001b[1;31mModuleNotFoundError\u001b[0m                       Traceback (most recent call last)",
      "Cell \u001b[1;32mIn[2], line 2\u001b[0m\n\u001b[0;32m      1\u001b[0m \u001b[38;5;28;01mimport\u001b[39;00m \u001b[38;5;21;01mnumpy\u001b[39;00m \u001b[38;5;28;01mas\u001b[39;00m \u001b[38;5;21;01mnp\u001b[39;00m\n\u001b[1;32m----> 2\u001b[0m \u001b[38;5;28;01mfrom\u001b[39;00m \u001b[38;5;21;01mPyUncertainNumber\u001b[39;00m\u001b[38;5;21;01m.\u001b[39;00m\u001b[38;5;21;01mpropagation\u001b[39;00m\u001b[38;5;21;01m.\u001b[39;00m\u001b[38;5;21;01muncertaintyPropagation\u001b[39;00m \u001b[38;5;28;01mimport\u001b[39;00m Propagation, epistemic_propagation, aleatory_propagation, mixed_propagation\n\u001b[0;32m      3\u001b[0m \u001b[38;5;28;01mfrom\u001b[39;00m \u001b[38;5;21;01mPyUncertainNumber\u001b[39;00m \u001b[38;5;28;01mimport\u001b[39;00m UncertainNumber \u001b[38;5;28;01mas\u001b[39;00m UN\n\u001b[0;32m      4\u001b[0m \u001b[38;5;28;01mimport\u001b[39;00m \u001b[38;5;21;01mmatplotlib\u001b[39;00m\u001b[38;5;21;01m.\u001b[39;00m\u001b[38;5;21;01mpyplot\u001b[39;00m \u001b[38;5;28;01mas\u001b[39;00m \u001b[38;5;21;01mplt\u001b[39;00m\n",
      "File \u001b[1;32m~\\Documents\\GitHub\\PyUncertainNumber\\src\\PyUncertainNumber\\__init__.py:1\u001b[0m\n\u001b[1;32m----> 1\u001b[0m \u001b[38;5;28;01mfrom\u001b[39;00m \u001b[38;5;21;01mpyuncertainnumber\u001b[39;00m\u001b[38;5;21;01m.\u001b[39;00m\u001b[38;5;21;01mcharacterisation\u001b[39;00m\u001b[38;5;21;01m.\u001b[39;00m\u001b[38;5;21;01muncertainNumber\u001b[39;00m \u001b[38;5;28;01mimport\u001b[39;00m \u001b[38;5;241m*\u001b[39m\n\u001b[0;32m      4\u001b[0m \u001b[38;5;66;03m# * --------------------- pba---------------------*#\u001b[39;00m\n\u001b[0;32m      5\u001b[0m \u001b[38;5;28;01mimport\u001b[39;00m \u001b[38;5;21;01mpyuncertainnumber\u001b[39;00m\u001b[38;5;21;01m.\u001b[39;00m\u001b[38;5;21;01mpba\u001b[39;00m \u001b[38;5;28;01mas\u001b[39;00m \u001b[38;5;21;01mpba\u001b[39;00m\n",
      "\u001b[1;31mModuleNotFoundError\u001b[0m: No module named 'pyuncertainnumber'"
     ]
    }
   ],
   "source": [
    "import numpy as np\n",
    "from PyUncertainNumber.propagation.uncertaintyPropagation import Propagation, epistemic_propagation, aleatory_propagation, mixed_propagation\n",
    "from PyUncertainNumber import UncertainNumber as UN\n",
    "import matplotlib.pyplot as plt"
   ]
  },
  {
   "cell_type": "code",
   "execution_count": 2,
   "metadata": {},
   "outputs": [],
   "source": [
    "%load_ext autoreload\n",
    "%autoreload 2\n",
    "%load_ext rich"
   ]
  },
  {
   "cell_type": "code",
   "execution_count": 19,
   "metadata": {},
   "outputs": [],
   "source": [
    "# import user-defined function\n",
    "\n",
    "USER_dir = 'C:\\\\Users\\\\Ioanna\\\\Documents\\\\GitHub\\\\PyUncertainNumber\\\\cantilever_beam'\n",
    "import sys\n",
    "sys.path.append(USER_dir)"
   ]
  },
  {
   "cell_type": "markdown",
   "metadata": {},
   "source": [
    "***\n",
    "<a id=\"problem_statement\"></a>\n",
    "# 2. Problem statement\n",
    "\n",
    "The numerical example models a simple cantilever beam with length, $L$, distance to the neutral axis $y$, Young’s modulus, $E$, second moment of inertia, $I$, and external load, $F$. We will compute the bending stress $σ$, and the deflection $d$, assuming the above input parameters are **uncertain numbers**.\n",
    "\n",
    "We will use this example throughout the document to illustrate the differences among various uncertainty quantification approaches. A complete description of the following methods can be found in the [DAWS1 report](https://sites.google.com/view/dawsreports/up).\n",
    "\n",
    "![alt text](../assets/cantilever.png)\n",
    "\n",
    "**Fig.1** Cantilever beam with input parameters.  "
   ]
  },
  {
   "cell_type": "markdown",
   "metadata": {},
   "source": [
    "***\n",
    "<a id=\"create_propagating_function\"></a>\n",
    "# 3. Create the propagating function\n",
    "\n",
    "\n",
    "A propagating function is created which calculates the deflection, $d$, as a function of $L$, $E$, $I$, and $F$.\n",
    "- The function's input is only the uncertain numbers.\n",
    "- As sampling techniques are used it is likely that for a certain input combination the airfoil will fail to reach a solution. we use the try function to accomodate for this.\n",
    "\n",
    "\n",
    "Alternatively, such propating function can be imported as a Python function/method object from a certain local directory."
   ]
  },
  {
   "cell_type": "markdown",
   "metadata": {},
   "source": [
    "<a id=\"3.1.-create-function\"></a>\n",
    "\n",
    "## 3.1. Create propagating function"
   ]
  },
  {
   "cell_type": "code",
   "execution_count": 3,
   "metadata": {},
   "outputs": [],
   "source": [
    "def cantilever_beam_deflection(x):\n",
    "    \"\"\"Calculates deflection and stress for a cantilever beam.\n",
    "\n",
    "    Args:\n",
    "        x (np.array): Array of input parameters:\n",
    "            x[0]: Length of the beam (m)\n",
    "            x[1]: Second moment of area (mm^4)\n",
    "            x[2]: Applied force (N)\n",
    "            x[3]: Young's modulus (MPa)\n",
    "\n",
    "    Returns:\n",
    "        float: deflection (m)\n",
    "               Returns np.nan if calculation error occurs.\n",
    "    \"\"\"\n",
    "\n",
    "    beam_length = x[0]\n",
    "    I = x[1]\n",
    "    F = x[2]\n",
    "    E = x[3]\n",
    "    try:  # try is used to account for cases where the input combinations leads to error in fun due to bugs\n",
    "        deflection = F * beam_length**3 / (3 * E * 10**6 * I)  # deflection in m\n",
    "        \n",
    "    except:\n",
    "        deflection = np.nan\n",
    "\n",
    "    return np.array([deflection])"
   ]
  },
  {
   "cell_type": "code",
   "execution_count": null,
   "metadata": {},
   "outputs": [],
   "source": [
    "# know the function with default Python help mechanism\n",
    "cantilever_beam_deflection?"
   ]
  },
  {
   "cell_type": "code",
   "execution_count": null,
   "metadata": {},
   "outputs": [],
   "source": [
    "import numpy as np \n",
    "x = np.array([1.00500000e+01 , 3.86159100e-04 ,-8.24387293e+00 , 2.12872340e+02])\n",
    "y = cantilever_beam_deflection(x)\n",
    "print(y)"
   ]
  },
  {
   "cell_type": "markdown",
   "metadata": {},
   "source": [
    "<a id=\"3.2.-Upload-function\"></a>\n",
    "\n",
    "## 3.2. Upload propagating function"
   ]
  },
  {
   "cell_type": "code",
   "execution_count": 36,
   "metadata": {},
   "outputs": [],
   "source": [
    "# Alternatively, such propating function can be imported as a Python function/method object from a certain local directory.\n",
    "from PyUncertainNumber.propagation.performance_func import cb_deflection, cb_stress"
   ]
  },
  {
   "cell_type": "markdown",
   "metadata": {
    "jp-MarkdownHeadingCollapsed": true
   },
   "source": [
    "<a id=\"3.3.-verify-function\"></a>\n",
    "\n",
    "## 3.3. Verify the function\n",
    "\n",
    "To ensure that the function yields meaningful results. We consider that input has the nominal values seen below.\n",
    "\n",
    "The function should yield deflection equal to 0.162m.\n",
    " "
   ]
  },
  {
   "cell_type": "code",
   "execution_count": null,
   "metadata": {},
   "outputs": [],
   "source": [
    "# test the function\n",
    "\n",
    "y  = 0.155 # m\n",
    "L  = 10.05 # m\n",
    "I = 0.000386 # m**4\n",
    "F = 37 # kN\n",
    "E = 200 # GPa\n",
    "\n",
    "x = np.array([L, I, F, E])\n",
    "deflection = cantilever_beam_deflection(x)\n",
    "\n",
    "print(deflection) # 0.162m"
   ]
  },
  {
   "cell_type": "markdown",
   "metadata": {},
   "source": [
    "***\n",
    "<a id=\"propagate_epistemic_uncertainty\"></a>\n",
    "# 4. Epistemic uncertainty"
   ]
  },
  {
   "cell_type": "markdown",
   "metadata": {},
   "source": [
    "<a id=\"4.1.-uncertainty-characterisation\"></a>\n",
    "\n",
    "## 4.1. Uncertainty Characterisation\n",
    "\n",
    "Construct `UncertainNumbers` objects for the inputs assuming they are intervals with the lower and upper values are seen below\n",
    "\n",
    "- $y = [0.145, 0.155] \\ m$\n",
    "\n",
    "- $L = [9.95, 10.05] \\ m$\n",
    "\n",
    "- $I = [0.0003861591, 0.0005213425] \\ m^{4}$\n",
    "\n",
    "- $F = [11, 37] \\ kN$\n",
    "\n",
    "- $E = [200, 220] \\ GPa$\n",
    " "
   ]
  },
  {
   "cell_type": "code",
   "execution_count": 4,
   "metadata": {},
   "outputs": [],
   "source": [
    "#y = UN(name='beam width', symbol='y', units='m', essence='interval', bounds=[0.145, 0.155]) # Required only for stress estimation\n",
    "L = UN(name='beam length', symbol='L', units='m', essence='interval', bounds= [9.95, 10.05])\n",
    "I = UN(name='moment of inertia', symbol='I', units='m', essence='interval', bounds= [0.0003861591, 0.0005213425])\n",
    "F = UN(name='vertical force', symbol='F', units='kN', essence='interval', bounds= [11, 37])\n",
    "E = UN(name='elastic modulus', symbol='E', units='GPa', essence='interval', bounds=[200, 220])"
   ]
  },
  {
   "cell_type": "code",
   "execution_count": null,
   "metadata": {},
   "outputs": [],
   "source": [
    "\n",
    "L.display()\n",
    "plt.show()"
   ]
  },
  {
   "cell_type": "code",
   "execution_count": null,
   "metadata": {},
   "outputs": [],
   "source": [
    "import matplotlib.pyplot as plt\n",
    "\n",
    "def plot_interval_box(lower_bound, upper_bound):\n",
    "    \"\"\"Plots an interval as a box on the y-axis at y=1 with no x-axis numbers \n",
    "       and includes vertical lines from y=0 to y=1 at the bounds.\n",
    "    \"\"\"\n",
    "\n",
    "    plt.figure(figsize=(3, 3))  # Adjust figure size as needed\n",
    "\n",
    "    # Create the box\n",
    "    \n",
    "    plt.hlines(y=1, xmin=lower_bound, xmax=upper_bound, linewidth=2, color='blue')\n",
    "\n",
    "    # Add vertical lines\n",
    "    plt.vlines(x=lower_bound, ymin=0, ymax=1, linewidth=1, color='blue')\n",
    "    plt.vlines(x=upper_bound, ymin=0, ymax=1, linewidth=1, color='blue')\n",
    "\n",
    "    #plt.yticks([0])  # Show only the y-axis tick at 0 \n",
    "    plt.xticks([])  # Remove x-axis ticks and numbers\n",
    "\n",
    "    plt.xlabel(\"V\")\n",
    "    plt.ylabel(\"CDF\")\n",
    "\n",
    "    plt.show()\n",
    "\n",
    "\n",
    "# Example usage:\n",
    "plot_interval_box(2, 5)"
   ]
  },
  {
   "cell_type": "markdown",
   "metadata": {},
   "source": [
    "<a id=\"4.2-uncertainty-propatation-methods\"></a>\n",
    "\n",
    "## 4.2 Ucertainty propagation methods \n",
    "\n",
    "Choose from a suite of black box propagating techniques to propagate the intervals through the model. "
   ]
  },
  {
   "cell_type": "markdown",
   "metadata": {
    "jp-MarkdownHeadingCollapsed": true
   },
   "source": [
    "<a id=\"4.2.1.-Endpoints-propatation\"></a>\n",
    "\n",
    "### 4.2.1. Endpoint propagation\n",
    "\n",
    "The endpoint propagation method (Dong and Shah, 1987) is a straightforward way to project intervals through the code, by projecting all input combinations produced by the Cartesian product of the interval bounds. This results in a total of $n = 2^{d}$. \n",
    "\n",
    "For the working example, there are d = 5 intervals which results in $n = 2^{5} = 32$ input combinations.\n",
    "\n",
    "#### Assumptions\n",
    "\n",
    "\n"
   ]
  },
  {
   "cell_type": "markdown",
   "metadata": {},
   "source": [
    "- [x] Ioanna's original top-level UP function with  the 'endspoints' method"
   ]
  },
  {
   "cell_type": "markdown",
   "metadata": {},
   "source": [
    "- [x] Leslie's standalone endspoints implementation"
   ]
  },
  {
   "cell_type": "code",
   "execution_count": null,
   "metadata": {},
   "outputs": [],
   "source": [
    "METHOD = \"endpoints\"\n",
    "\n",
    "a = Propagation(vars=[L, I, F, E], \n",
    "          fun=cantilever_beam_deflection, \n",
    "          method = METHOD,\n",
    "          save_raw_data = \"no\" \n",
    "        #   save_raw_data = \"yes\", \n",
    "        #   base_path = USER_dir\n",
    "         )                 "
   ]
  },
  {
   "cell_type": "code",
   "execution_count": null,
   "metadata": {},
   "outputs": [],
   "source": [
    "a.print() #summary of results "
   ]
  },
  {
   "cell_type": "code",
   "execution_count": null,
   "metadata": {},
   "outputs": [],
   "source": [
    "a.raw_data['x'] # the input combinations.\n",
    "a.raw_data['f'] # the function evaluations for input combinations.\n",
    "a.raw_data['bounds'] # the bounds for each output\n",
    "a.raw_data['min'] # summary of min f and corresponding x\n",
    "a.raw_data['max'] # summary of max f and corresponding x\n",
    "a.un # the uncertain number\n"
   ]
  },
  {
   "cell_type": "code",
   "execution_count": null,
   "metadata": {},
   "outputs": [],
   "source": [
    "METHOD = \"endpoints\"\n",
    "\n",
    "b = epistemic_propagation(vars=[L, I, F, E], \n",
    "          fun=cantilever_beam_deflection, \n",
    "          n = None, \n",
    "          method = METHOD, \n",
    "          save_raw_data = \"no\"\n",
    "        #   save_raw_data = \"yes\", \n",
    "        #   base_path = USER_dir\n",
    "         )"
   ]
  },
  {
   "cell_type": "code",
   "execution_count": null,
   "metadata": {},
   "outputs": [],
   "source": [
    "# returned a dict that contains the UN object and some other information\n",
    "b.keys()"
   ]
  },
  {
   "cell_type": "code",
   "execution_count": null,
   "metadata": {},
   "outputs": [],
   "source": [
    "b.raw_data['x'] # the input combinations.\n",
    "b.raw_data['f'] # the function evaluations for input combinations.\n",
    "b.raw_data['bounds'] # the bounds for each output\n",
    "b.raw_data['min'] # summary of min f and corresponding x\n",
    "b.raw_data['max'] # summary of max f and corresponding x\n",
    "b.un # the uncertain number"
   ]
  },
  {
   "cell_type": "code",
   "execution_count": null,
   "metadata": {},
   "outputs": [],
   "source": [
    "b.print()"
   ]
  },
  {
   "cell_type": "markdown",
   "metadata": {
    "jp-MarkdownHeadingCollapsed": true
   },
   "source": [
    "<a id=\"4.2.2.-Subinterval-reconstitution-propagation\"></a>\n",
    "\n",
    "### 4.2.2. Subinterval reconstitution propagation\n",
    "\n",
    "The input intervals are partitioned into smaller intervals, which are then propagated through the model using endpoint propagation and the output interval can be reassembled (Ferson and Hajagos, 2004)."
   ]
  },
  {
   "cell_type": "code",
   "execution_count": null,
   "metadata": {},
   "outputs": [],
   "source": [
    "METHOD = \"subinterval\"\n",
    "\n",
    "a = Propagation(vars=[L, I, F, E], \n",
    "          fun=cantilever_beam_deflection, \n",
    "          method = METHOD,\n",
    "          save_raw_data = \"no\" \n",
    "        #   save_raw_data = \"yes\", \n",
    "        #   base_path = USER_dir\n",
    "         )        "
   ]
  },
  {
   "cell_type": "code",
   "execution_count": null,
   "metadata": {},
   "outputs": [],
   "source": [
    "a.print() #summary of results "
   ]
  },
  {
   "cell_type": "code",
   "execution_count": null,
   "metadata": {},
   "outputs": [],
   "source": [
    "METHOD = \"subinterval\"\n",
    "\n",
    "b = epistemic_propagation(vars=[L, I, F, E], \n",
    "          fun=cantilever_beam_deflection, \n",
    "          method = METHOD, \n",
    "          save_raw_data = \"no\"\n",
    "        #   save_raw_data = \"yes\", \n",
    "        #   base_path = USER_dir\n",
    "         )"
   ]
  },
  {
   "cell_type": "code",
   "execution_count": null,
   "metadata": {},
   "outputs": [],
   "source": [
    "b.print() #summary of results "
   ]
  },
  {
   "cell_type": "code",
   "execution_count": null,
   "metadata": {},
   "outputs": [],
   "source": [
    "b.raw_data['x'] # the input combinations.\n",
    "b.raw_data['f'] # the function evaluations for input combinations.\n",
    "b.raw_data['bounds'] # the bounds for each output\n",
    "b.raw_data['min'] # summary of min f and corresponding x\n",
    "b.raw_data['max'] # summary of max f and corresponding x\n",
    "b.un # the uncertain number"
   ]
  },
  {
   "cell_type": "markdown",
   "metadata": {
    "jp-MarkdownHeadingCollapsed": true
   },
   "source": [
    "<a id=\"4.2.3.-Sampling-propagation\"></a>\n",
    "\n",
    "### 4.2.3. Sampling propagation\n",
    "\n",
    "- Brute Monte Carlo\n",
    "- Latin Hypercube\n",
    "- Brute Monte Carlo + endpoints\n",
    "- Latin Hypercuve + endpoints"
   ]
  },
  {
   "cell_type": "code",
   "execution_count": null,
   "metadata": {},
   "outputs": [],
   "source": [
    "METHOD = \"monte_carlo\"\n",
    "\n",
    "a = Propagation(vars=[L, I, F, E], \n",
    "          fun=cantilever_beam_deflection,\n",
    "          n_sam = 1000, \n",
    "          method = METHOD,\n",
    "          save_raw_data = \"no\" \n",
    "        #   save_raw_data = \"yes\", \n",
    "        #   base_path = USER_dir\n",
    "         )        "
   ]
  },
  {
   "cell_type": "code",
   "execution_count": null,
   "metadata": {},
   "outputs": [],
   "source": [
    "a.pritn()"
   ]
  },
  {
   "cell_type": "code",
   "execution_count": null,
   "metadata": {},
   "outputs": [],
   "source": [
    "METHOD = \"monte_carlo\"\n",
    "\n",
    "b = epistemic_propagation(vars=[L, I, F, E], \n",
    "          fun=cantilever_beam_deflection,\n",
    "          n_sam = 1000,  \n",
    "          method = METHOD, \n",
    "          save_raw_data = \"no\"\n",
    "        #   save_raw_data = \"yes\", \n",
    "        #   base_path = USER_dir\n",
    "         )"
   ]
  },
  {
   "cell_type": "code",
   "execution_count": null,
   "metadata": {},
   "outputs": [],
   "source": [
    "b.print()\n",
    "b.un"
   ]
  },
  {
   "cell_type": "code",
   "execution_count": null,
   "metadata": {},
   "outputs": [],
   "source": [
    "METHOD = \"monte_carlo_endpoints\"\n",
    "\n",
    "c = Propagation(vars=[L, I, F, E], \n",
    "          fun=cantilever_beam_deflection,\n",
    "          n_sam = 1000,  \n",
    "          method = METHOD, \n",
    "          save_raw_data = \"no\"\n",
    "        #   save_raw_data = \"yes\", \n",
    "        #   base_path = USER_dir\n",
    "         )"
   ]
  },
  {
   "cell_type": "code",
   "execution_count": null,
   "metadata": {},
   "outputs": [],
   "source": [
    "c.print()\n",
    "c.un"
   ]
  },
  {
   "cell_type": "code",
   "execution_count": null,
   "metadata": {},
   "outputs": [],
   "source": [
    "METHOD = \"monte_carlo_endpoints\"\n",
    "\n",
    "d = epistemic_propagation(vars=[L, I, F, E], \n",
    "          fun=cantilever_beam_deflection,\n",
    "          n_sam = 1000,  \n",
    "          method = METHOD, \n",
    "          save_raw_data = \"no\"\n",
    "        #   save_raw_data = \"yes\", \n",
    "        #   base_path = USER_dir\n",
    "         )"
   ]
  },
  {
   "cell_type": "code",
   "execution_count": null,
   "metadata": {},
   "outputs": [],
   "source": [
    "d.un"
   ]
  },
  {
   "cell_type": "markdown",
   "metadata": {},
   "source": [
    "### 4.2.4. Sampling propagation\n",
    "\n",
    "- Latin Hypercube\n",
    "- Latin Hypercuve + endpoints"
   ]
  },
  {
   "cell_type": "code",
   "execution_count": null,
   "metadata": {},
   "outputs": [],
   "source": [
    "METHOD = \"latin_hypercube\"\n",
    "\n",
    "a = Propagation(vars=[L, I, F, E], \n",
    "          fun=cantilever_beam_deflection,\n",
    "          n_sam = 1000, \n",
    "          method = METHOD,\n",
    "          save_raw_data = \"no\" \n",
    "        #   save_raw_data = \"yes\", \n",
    "        #   base_path = USER_dir\n",
    "         )        "
   ]
  },
  {
   "cell_type": "code",
   "execution_count": null,
   "metadata": {},
   "outputs": [],
   "source": [
    "a.un"
   ]
  },
  {
   "cell_type": "code",
   "execution_count": null,
   "metadata": {},
   "outputs": [],
   "source": [
    "METHOD = \"latin_hypercube\"\n",
    "\n",
    "b = epistemic_propagation(vars=['L', 'I', 'F', 'E'], \n",
    "          fun=cantilever_beam_deflection,\n",
    "          n_sam = 1000, \n",
    "          method = METHOD,\n",
    "          save_raw_data = \"no\" \n",
    "        #   save_raw_data = \"yes\", \n",
    "        #   base_path = USER_dir\n",
    "         )        "
   ]
  },
  {
   "cell_type": "code",
   "execution_count": null,
   "metadata": {},
   "outputs": [],
   "source": [
    "b.un"
   ]
  },
  {
   "cell_type": "code",
   "execution_count": null,
   "metadata": {},
   "outputs": [],
   "source": [
    "METHOD = \"latin_hypercube_endpoints\"\n",
    "\n",
    "c = Propagation(vars=[L, I, F, E], \n",
    "          fun=cantilever_beam_deflection,\n",
    "          n_sam = 1000, \n",
    "          method = METHOD,\n",
    "          save_raw_data = \"no\" \n",
    "        #   save_raw_data = \"yes\", \n",
    "        #   base_path = USER_dir\n",
    "         )       "
   ]
  },
  {
   "cell_type": "code",
   "execution_count": null,
   "metadata": {},
   "outputs": [],
   "source": [
    "c.un"
   ]
  },
  {
   "cell_type": "code",
   "execution_count": null,
   "metadata": {},
   "outputs": [],
   "source": [
    "METHOD = \"latin_hypercube_endpoints\"\n",
    "\n",
    "d = epistemic_propagation(vars=[L, I, F, E], \n",
    "          fun=cantilever_beam_deflection,\n",
    "          n_sam = 1000, \n",
    "          method = METHOD,\n",
    "          save_raw_data = \"no\" \n",
    "        #   save_raw_data = \"yes\", \n",
    "        #   base_path = USER_dir\n",
    "         )      "
   ]
  },
  {
   "cell_type": "code",
   "execution_count": null,
   "metadata": {},
   "outputs": [],
   "source": [
    "d.print()"
   ]
  },
  {
   "cell_type": "markdown",
   "metadata": {},
   "source": [
    "<a id=\"4.2.5.-Optimisation-methors\"></a>\n",
    "\n",
    "### 4.2.5. Optimisation methods\n",
    "\n",
    "- Local optimisation\n",
    "- Genetic algorithm\n"
   ]
  },
  {
   "cell_type": "code",
   "execution_count": null,
   "metadata": {},
   "outputs": [],
   "source": [
    "METHOD = \"local_optimisation\"\n",
    "\n",
    "a = Propagation(vars=[L, I, F, E], \n",
    "       fun = cantilever_beam_deflection, \n",
    "       x0 = None, \n",
    "       method = METHOD, \n",
    "       method_loc = 'Nelder-Mead')"
   ]
  },
  {
   "cell_type": "code",
   "execution_count": null,
   "metadata": {},
   "outputs": [],
   "source": [
    "a.un\n",
    "a.print()"
   ]
  },
  {
   "cell_type": "code",
   "execution_count": 10,
   "metadata": {},
   "outputs": [],
   "source": [
    "METHOD = \"local_optimisation\"\n",
    "\n",
    "b = epistemic_propagation(vars=[L, I, F, E], \n",
    "       fun = cantilever_beam_deflection, \n",
    "       #x0 = None, \n",
    "       method = METHOD, \n",
    "       method_loc = 'Nelder-Mead')"
   ]
  },
  {
   "cell_type": "code",
   "execution_count": null,
   "metadata": {},
   "outputs": [],
   "source": [
    "b.print()"
   ]
  },
  {
   "cell_type": "code",
   "execution_count": null,
   "metadata": {},
   "outputs": [],
   "source": [
    "b.un"
   ]
  },
  {
   "cell_type": "markdown",
   "metadata": {},
   "source": []
  },
  {
   "cell_type": "code",
   "execution_count": null,
   "metadata": {},
   "outputs": [],
   "source": [
    "METHOD = \"genetic_optimisation\"\n",
    "\n",
    "a = Propagation(vars=[L, I, F, E], \n",
    "       fun = cantilever_beam_deflection, \n",
    "       method = METHOD)"
   ]
  },
  {
   "cell_type": "code",
   "execution_count": null,
   "metadata": {},
   "outputs": [],
   "source": [
    "a.un"
   ]
  },
  {
   "cell_type": "code",
   "execution_count": null,
   "metadata": {},
   "outputs": [],
   "source": [
    "len(a.raw_data['bounds'].shape)"
   ]
  },
  {
   "cell_type": "code",
   "execution_count": null,
   "metadata": {},
   "outputs": [],
   "source": [
    "a.raw_data['bounds']"
   ]
  },
  {
   "cell_type": "code",
   "execution_count": null,
   "metadata": {},
   "outputs": [],
   "source": [
    "a.print()"
   ]
  },
  {
   "cell_type": "code",
   "execution_count": null,
   "metadata": {},
   "outputs": [],
   "source": [
    "METHOD = \"genetic_optimisation\"\n",
    "\n",
    "b = epistemic_propagation(vars[L, I, F, E], \n",
    "       fun = cantilever_beam_deflection, \n",
    "       method = METHOD)"
   ]
  },
  {
   "cell_type": "code",
   "execution_count": null,
   "metadata": {},
   "outputs": [],
   "source": [
    "b.print()"
   ]
  },
  {
   "cell_type": "markdown",
   "metadata": {},
   "source": [
    "### Naive interval arithmetics"
   ]
  },
  {
   "cell_type": "code",
   "execution_count": null,
   "metadata": {},
   "outputs": [],
   "source": [
    "defl = cantilever_beam_deflection(L, I, F, E)"
   ]
  },
  {
   "cell_type": "code",
   "execution_count": null,
   "metadata": {},
   "outputs": [],
   "source": []
  },
  {
   "cell_type": "markdown",
   "metadata": {},
   "source": [
    "***\n",
    "<a id=\"aleatory_uncertainty_propagation\"></a>\n",
    "# 5. Aleatory uncertainty\n",
    "\n",
    "when inputs have various types of uncertainty."
   ]
  },
  {
   "cell_type": "code",
   "execution_count": 17,
   "metadata": {},
   "outputs": [],
   "source": [
    "# y = UN(name='beam width', symbol='y', units='m', essence='interval', bounds=[0.145, 0.155]) # Required only for stress estimation\n",
    "L = UN(name='beam length', symbol='L', units='m', essence='distribution', distribution_parameters=[\"gaussian\", [10.05, 0.033]])\n",
    "I = UN(name='moment of inertia', symbol='I', units='m', essence='distribution', distribution_parameters=[\"gaussian\", [0.000454, 4.5061e-5]])\n",
    "F = UN(name='vertical force', symbol='F', units='kN', essence='distribution', distribution_parameters=[\"gaussian\", [24, 8.67]])\n",
    "E = UN(name='elastic modulus', symbol='E', units='GPa', essence='distribution', distribution_parameters=[\"gaussian\", [210, 6.67]])"
   ]
  },
  {
   "cell_type": "code",
   "execution_count": null,
   "metadata": {},
   "outputs": [],
   "source": [
    "METHOD = \"monte_carlo\"\n",
    "\n",
    "a = Propagation(vars=[L, I, F, E], \n",
    "          fun = cantilever_beam_deflection, \n",
    "          n_sam = 100, \n",
    "          method = METHOD, \n",
    "          save_raw_data = \"no\"\n",
    "         )\n"
   ]
  },
  {
   "cell_type": "code",
   "execution_count": null,
   "metadata": {},
   "outputs": [],
   "source": [
    "a.print()"
   ]
  },
  {
   "cell_type": "code",
   "execution_count": null,
   "metadata": {},
   "outputs": [],
   "source": [
    "\n",
    "METHOD = \"monte_carlo\"\n",
    "\n",
    "b = aleatory_propagation(vars=[L, I, F, E], \n",
    "          fun = cantilever_beam_deflection, \n",
    "          n_sam = 100, \n",
    "          method = METHOD, \n",
    "          save_raw_data = \"no\"\n",
    "         )\n"
   ]
  },
  {
   "cell_type": "code",
   "execution_count": null,
   "metadata": {},
   "outputs": [],
   "source": [
    "b.print()"
   ]
  },
  {
   "cell_type": "markdown",
   "metadata": {},
   "source": [
    "***\n",
    "<a id=\"mixed_uncertainty_propagation\"></a>\n",
    "# 6. Mixed types of uncertainty\n",
    "\n",
    "when inputs have various types of uncertainty."
   ]
  },
  {
   "cell_type": "code",
   "execution_count": null,
   "metadata": {},
   "outputs": [],
   "source": [
    "#TODO could Scott elaborate? cartesian matrix distribution and interval or pbox - interval horizontal slices through the pbox define an interval, horizontal slicing as an approximation or rigolously each of the ci functions\n",
    "#TODO ferson, hajagos rigorous\n",
    "#slicing approimately, slicling rigorously\n",
    "#a list of itnervals by horizontal slices and with these lists the cartesian product , interval from each input.\n",
    "#stack the intervals and reconstruct this is done. "
   ]
  },
  {
   "cell_type": "code",
   "execution_count": 13,
   "metadata": {},
   "outputs": [],
   "source": [
    "# y = UN(name='distance to neutral axis', symbol='y', units='m', essence='distribution', distribution_parameters=[\"gaussian\", [0.15, 0.00333]])\n",
    "# L = UN(name='beam length', symbol='L', units='m', essence='distribution', distribution_parameters=[\"gaussian\", [10.05, 0.033]])\n",
    "I = UN(name='moment of inertia', symbol='I', units='m', essence='distribution', distribution_parameters=[\"gaussian\", [0.000454, 4.5061e-5]])\n",
    "F = UN(name='vertical force', symbol='F', units='kN', essence='distribution', distribution_parameters=[\"gaussian\", [24, 8.67]])\n",
    "    # E = N(name='elastic modulus', symbol='E', units='GPa', essence='distribution', distribution_parameters=[\"gaussian\", [210, 6.67]])\n",
    "    \n",
    "# y = UN(name='beam width', symbol='y', units='m', essence='interval', bounds=[0.145, 0.155]) \n",
    "L = UN(name='beam length', symbol='L', units='m', essence='interval', bounds= [9.95, 10.05])\n",
    "# I = UN(name='moment of inertia', symbol='I', units='m', essence='interval', bounds= [0.0003861591, 0.0005213425])\n",
    "# F = UN(name='vertical force', symbol='F', units='kN', essence='interval', bounds= [11, 37])\n",
    "E = UN(name='elastic modulus', symbol='E', units='GPa', essence='interval', bounds=[200, 220])\n"
   ]
  },
  {
   "cell_type": "code",
   "execution_count": null,
   "metadata": {},
   "outputs": [],
   "source": [
    "METHOD = \"focused_discretisation_endpoints\"\n",
    "\n",
    "a = Propagation(vars=[L, I, F, E], \n",
    "          fun = cantilever_beam_deflection, \n",
    "          # n_disc = 10,\n",
    "          \n",
    "          # tOp = 0.999,\n",
    "          # bOt= 0.001,\n",
    "          # condensation = None, \n",
    "          method = METHOD, \n",
    "          save_raw_data = \"no\"\n",
    "         )"
   ]
  },
  {
   "cell_type": "code",
   "execution_count": null,
   "metadata": {},
   "outputs": [],
   "source": [
    "METHOD = \"focused_discretisation_endpoints\"\n",
    "\n",
    "a = mixed_propagation(vars=[L, I, F, E], \n",
    "          fun = cantilever_beam_deflection, \n",
    "          # n_disc = 10,\n",
    "          \n",
    "          # tOp = 0.999,\n",
    "          # bOt= 0.001,\n",
    "          # condensation = None, \n",
    "          method = METHOD, \n",
    "          save_raw_data = \"no\"\n",
    "         )"
   ]
  },
  {
   "cell_type": "code",
   "execution_count": null,
   "metadata": {},
   "outputs": [],
   "source": [
    "METHOD = \"focused_discretisation_extremepoints\"\n",
    "\n",
    "a = Propagation(vars=[L, I, F, E], \n",
    "          fun = cantilever_beam_deflection, \n",
    "          n_disc = 10,\n",
    "         \n",
    "          # tOp = 0.999,\n",
    "          # bOt= 0.001,\n",
    "          # condensation = None, \n",
    "          method = METHOD, \n",
    "          save_raw_data = \"no\"\n",
    "         )\n"
   ]
  },
  {
   "cell_type": "code",
   "execution_count": null,
   "metadata": {},
   "outputs": [],
   "source": [
    "a.print()\n"
   ]
  },
  {
   "cell_type": "code",
   "execution_count": null,
   "metadata": {},
   "outputs": [],
   "source": [
    "a.raw_data['bounds']"
   ]
  },
  {
   "cell_type": "code",
   "execution_count": null,
   "metadata": {},
   "outputs": [],
   "source": [
    "METHOD = \"focused_discretisation_extremepoints\"\n",
    "\n",
    "a = mixed_propagation(vars=[L, I, F, E], \n",
    "          fun = cantilever_beam_deflection, \n",
    "          # n_slices = 10,\n",
    "          # condensation = None, \n",
    "          # tOp = 0.999,\n",
    "          # bOt= 0.001,\n",
    "          method = METHOD, \n",
    "          save_raw_data = \"no\"\n",
    "         )\n"
   ]
  },
  {
   "cell_type": "code",
   "execution_count": null,
   "metadata": {},
   "outputs": [],
   "source": [
    "a.print()\n",
    "a.bounds"
   ]
  },
  {
   "cell_type": "markdown",
   "metadata": {},
   "source": [
    "#Approximation needs only distributions or pboxes. For the time being lets not use any intervals. "
   ]
  },
  {
   "cell_type": "code",
   "execution_count": 24,
   "metadata": {},
   "outputs": [],
   "source": [
    "# y = UN(name='beam width', symbol='y', units='m', essence='interval', bounds=[0.145, 0.155]) # Required only for stress estimation\n",
    "L = UN(name='beam length', symbol='L', units='m', essence='distribution', distribution_parameters=[\"gaussian\", [10.05, 0.033]])\n",
    "I = UN(name='moment of inertia', symbol='I', units='m', essence='distribution', distribution_parameters=[\"gaussian\", [0.000454, 4.5061e-5]])\n",
    "F = UN(name='vertical force', symbol='F', units='kN', essence='distribution', distribution_parameters=[\"gaussian\", [24, 8.67]])\n",
    "E = UN(name='elastic modulus', symbol='E', units='GPa', essence='distribution', distribution_parameters=[\"gaussian\", [210, 6.67]])"
   ]
  },
  {
   "cell_type": "code",
   "execution_count": null,
   "metadata": {},
   "outputs": [],
   "source": [
    "METHOD = \"varied_discretisation_extremepoints\"\n",
    "\n",
    "a = Propagation(vars=[L, I, F, E], \n",
    "          fun = cantilever_beam_deflection, \n",
    "          # n_slices = 10,\n",
    "          # condensation = None, \n",
    "          # tOp = 0.999,\n",
    "          # bOt= 0.001,\n",
    "          method = METHOD, \n",
    "          save_raw_data = \"no\"\n",
    "         )"
   ]
  },
  {
   "cell_type": "code",
   "execution_count": null,
   "metadata": {},
   "outputs": [],
   "source": [
    "a.print()\n",
    "a.un"
   ]
  },
  {
   "cell_type": "code",
   "execution_count": null,
   "metadata": {},
   "outputs": [],
   "source": [
    "a.raw_data['x'] # the input combinations.\n",
    "a.raw_data['f'] # the function evaluations for input combinations.\n",
    "a.raw_data['bounds'] # the bounds for each output\n",
    "a.raw_data['min'] # summary of min f and corresponding x\n",
    "a.raw_data['max'] # summary of max f and corresponding x\n",
    "a.un # the uncertain number"
   ]
  },
  {
   "cell_type": "code",
   "execution_count": null,
   "metadata": {},
   "outputs": [],
   "source": [
    "METHOD = \"varied_discretisation_extremepoints\"\n",
    "\n",
    "b = mixed_propagation(vars=[L, I, F, E], \n",
    "          fun = cantilever_beam_deflection, \n",
    "          # n_slices = 10,\n",
    "          # condensation = None, \n",
    "          # tOp = 0.999,\n",
    "          # bOt= 0.001,\n",
    "          method = METHOD, \n",
    "          save_raw_data = \"no\"\n",
    "         )"
   ]
  },
  {
   "cell_type": "code",
   "execution_count": null,
   "metadata": {},
   "outputs": [],
   "source": [
    "b.print()"
   ]
  },
  {
   "cell_type": "code",
   "execution_count": null,
   "metadata": {},
   "outputs": [],
   "source": [
    "b.raw_data['x'] # the input combinations.\n",
    "b.raw_data['f'] # the function evaluations for input combinations.\n",
    "b.raw_data['bounds'] # the bounds for each output\n",
    "b.raw_data['min'] # summary of min f and corresponding x\n",
    "b.raw_data['max'] # summary of max f and corresponding x\n",
    "b.un # the uncertain number"
   ]
  }
 ],
 "metadata": {
  "kernelspec": {
   "display_name": "Python 3",
   "language": "python",
   "name": "python3"
  },
  "language_info": {
   "codemirror_mode": {
    "name": "ipython",
    "version": 3
   },
   "file_extension": ".py",
   "mimetype": "text/x-python",
   "name": "python",
   "nbconvert_exporter": "python",
   "pygments_lexer": "ipython3",
   "version": "3.12.4"
  }
 },
 "nbformat": 4,
 "nbformat_minor": 4
}
