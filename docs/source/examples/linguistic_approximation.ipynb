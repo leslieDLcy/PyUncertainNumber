{
 "cells": [
  {
   "cell_type": "markdown",
   "id": "144eca8a-8d87-48aa-9c60-6b9e8e4840d4",
   "metadata": {},
   "source": [
    "(hedges)=\n",
    "# Interpret linguisitc hedges"
   ]
  },
  {
   "cell_type": "code",
   "execution_count": 1,
   "id": "dc7d5229-df1b-4a9d-9323-c86613f411f3",
   "metadata": {},
   "outputs": [],
   "source": [
    "%load_ext rich\n",
    "import pyuncertainnumber as pun"
   ]
  },
  {
   "cell_type": "markdown",
   "id": "931854ed-4cb1-4e2d-8576-85f433c94886",
   "metadata": {},
   "source": [
    "## hedges indicate uncertainty"
   ]
  },
  {
   "cell_type": "markdown",
   "id": "109af3e2-48d8-4140-b423-d754fc85f9e0",
   "metadata": {},
   "source": [
    "Minimally, qualitative linguistic description may be used to express the estimates over numerical input values. Those are called numerical hedges, which may include colloquial words such as “about”, “around”, “almost” etc. With the focus on NLP (Natural Language Processing) in many deep learning applications in recent years, the interpretation of hedged words and their quantitative implication of uncertainty is vital for downstream safety-related applications. `pyuncertainnumber` provides support to interpret these hedges in an effort to build a consistent basis for consistent uncertainty elicitation and communication in situations where empirical information is almost minimal. Importantly, real numbers such as “`7`” or “`7.0`” can also be interpreted as an interval based on significant digits, potentially leading to a complete system of rigorous numerical numbers."
   ]
  },
  {
   "cell_type": "code",
   "execution_count": 2,
   "id": "0c8df546-5405-4e69-9cff-923f7d12f311",
   "metadata": {},
   "outputs": [
    {
     "data": {
      "text/html": [
       "<pre style=\"white-space:pre;overflow-x:auto;line-height:normal;font-family:Menlo,'DejaVu Sans Mono',consolas,'Courier New',monospace\"></pre>\n"
      ],
      "text/plain": []
     },
     "metadata": {},
     "output_type": "display_data"
    },
    {
     "data": {
      "text/plain": [
       "\u001b[1m[\u001b[0m\u001b[1;36m5.0\u001b[0m,\u001b[1;36m9.0\u001b[0m\u001b[1m]\u001b[0m"
      ]
     },
     "execution_count": 2,
     "metadata": {},
     "output_type": "execute_result"
    }
   ],
   "source": [
    "pun.hedge_interpret(\"about 7\")"
   ]
  },
  {
   "cell_type": "code",
   "execution_count": 3,
   "id": "3c03a364-d1bf-411d-950a-b533b5712f24",
   "metadata": {},
   "outputs": [
    {
     "data": {
      "text/html": [
       "<pre style=\"white-space:pre;overflow-x:auto;line-height:normal;font-family:Menlo,'DejaVu Sans Mono',consolas,'Courier New',monospace\"></pre>\n"
      ],
      "text/plain": []
     },
     "metadata": {},
     "output_type": "display_data"
    },
    {
     "data": {
      "text/plain": [
       "\u001b[1m[\u001b[0m\u001b[1;36m6.9\u001b[0m,\u001b[1;36m7.1\u001b[0m\u001b[1m]\u001b[0m"
      ]
     },
     "execution_count": 3,
     "metadata": {},
     "output_type": "execute_result"
    }
   ],
   "source": [
    "pun.hedge_interpret(\"exactly 7\")"
   ]
  },
  {
   "cell_type": "code",
   "execution_count": 4,
   "id": "3e0db714-18f9-4613-b29f-bba12d6f530e",
   "metadata": {},
   "outputs": [
    {
     "data": {
      "text/html": [
       "<pre style=\"white-space:pre;overflow-x:auto;line-height:normal;font-family:Menlo,'DejaVu Sans Mono',consolas,'Courier New',monospace\"></pre>\n"
      ],
      "text/plain": []
     },
     "metadata": {},
     "output_type": "display_data"
    },
    {
     "data": {
      "text/plain": [
       "\u001b[1m[\u001b[0m\u001b[1;36m-3.0\u001b[0m,\u001b[1;36m17.0\u001b[0m\u001b[1m]\u001b[0m"
      ]
     },
     "execution_count": 4,
     "metadata": {},
     "output_type": "execute_result"
    }
   ],
   "source": [
    "pun.hedge_interpret(\"around 7\")"
   ]
  },
  {
   "cell_type": "code",
   "execution_count": 7,
   "id": "c78d9f92-ce6a-4d71-8cba-85e24af9824f",
   "metadata": {},
   "outputs": [
    {
     "data": {
      "text/html": [
       "<pre style=\"white-space:pre;overflow-x:auto;line-height:normal;font-family:Menlo,'DejaVu Sans Mono',consolas,'Courier New',monospace\"></pre>\n"
      ],
      "text/plain": []
     },
     "metadata": {},
     "output_type": "display_data"
    },
    {
     "data": {
      "text/plain": [
       "\u001b[1m[\u001b[0m\u001b[1;36m6.5\u001b[0m,\u001b[1;36m7.5\u001b[0m\u001b[1m]\u001b[0m"
      ]
     },
     "execution_count": 7,
     "metadata": {},
     "output_type": "execute_result"
    }
   ],
   "source": [
    "pun.hedge_interpret(\"7\")"
   ]
  },
  {
   "cell_type": "code",
   "execution_count": 8,
   "id": "566b4bd2-9425-41f4-9ff3-bbfa001846c8",
   "metadata": {},
   "outputs": [
    {
     "data": {
      "text/html": [
       "<pre style=\"white-space:pre;overflow-x:auto;line-height:normal;font-family:Menlo,'DejaVu Sans Mono',consolas,'Courier New',monospace\"></pre>\n"
      ],
      "text/plain": []
     },
     "metadata": {},
     "output_type": "display_data"
    },
    {
     "data": {
      "text/plain": [
       "\u001b[1m[\u001b[0m\u001b[1;36m6.95\u001b[0m,\u001b[1;36m7.05\u001b[0m\u001b[1m]\u001b[0m"
      ]
     },
     "execution_count": 8,
     "metadata": {},
     "output_type": "execute_result"
    }
   ],
   "source": [
    "pun.hedge_interpret(\"7.0\")"
   ]
  },
  {
   "cell_type": "markdown",
   "id": "709b1aee-4b1d-433e-a410-0710277e0444",
   "metadata": {},
   "source": [
    "## hedges could also be represented as p-boxes\n",
    "\n",
    "In essence, *hedges* are used to characterise either an interval or a p-box. So, in the function `hedge_interpred()` you get to add the additional argument to specify which type you want. But, in the constructor `pun.I()` it has already indicated to return an interval."
   ]
  },
  {
   "cell_type": "code",
   "execution_count": 19,
   "id": "3d2a48a9-9531-456d-8892-feed827abe60",
   "metadata": {},
   "outputs": [],
   "source": [
    "p = pun.hedge_interpret(\"about 7\", return_type=\"pbox\")"
   ]
  },
  {
   "cell_type": "markdown",
   "id": "f85e2728-abe5-4029-a14e-5a30a8dbbef8",
   "metadata": {},
   "source": [
    "## characterise model inputs with hedges \n",
    "\n",
    "When empirical knowledge about model parameters/inputs are minimal to only qualitive descriptions, one could construct *uncertain numbers* accordingly. See xxx for additional details regarding the effects of significant digits in the number."
   ]
  },
  {
   "cell_type": "code",
   "execution_count": 11,
   "id": "350863a5-3cfe-4fa8-b9b6-726e91985797",
   "metadata": {},
   "outputs": [
    {
     "data": {
      "text/html": [
       "<pre style=\"white-space:pre;overflow-x:auto;line-height:normal;font-family:Menlo,'DejaVu Sans Mono',consolas,'Courier New',monospace\"></pre>\n"
      ],
      "text/plain": []
     },
     "metadata": {},
     "output_type": "display_data"
    },
    {
     "data": {
      "text/plain": [
       "\u001b[1;35mUncertainNumber\u001b[0m\u001b[1m(\u001b[0m\u001b[33messence\u001b[0m=\u001b[32m'interval'\u001b[0m, \u001b[33mintervals\u001b[0m=\u001b[1m[\u001b[0m\u001b[1;36m6.5\u001b[0m,\u001b[1;36m7.5\u001b[0m\u001b[1m]\u001b[0m, \u001b[33m_construct\u001b[0m=\u001b[1m[\u001b[0m\u001b[1;36m6.5\u001b[0m,\u001b[1;36m7.5\u001b[0m\u001b[1m]\u001b[0m, \u001b[33mnominal_value\u001b[0m=\u001b[1;36m7\u001b[0m\u001b[1;36m.0\u001b[0m\u001b[1m)\u001b[0m"
      ]
     },
     "execution_count": 11,
     "metadata": {},
     "output_type": "execute_result"
    }
   ],
   "source": [
    "pun.I(\"7\")"
   ]
  },
  {
   "cell_type": "code",
   "execution_count": 12,
   "id": "1f619274-509d-425b-a178-a1ba5b139d68",
   "metadata": {},
   "outputs": [
    {
     "data": {
      "text/html": [
       "<pre style=\"white-space:pre;overflow-x:auto;line-height:normal;font-family:Menlo,'DejaVu Sans Mono',consolas,'Courier New',monospace\"></pre>\n"
      ],
      "text/plain": []
     },
     "metadata": {},
     "output_type": "display_data"
    },
    {
     "data": {
      "text/plain": [
       "\u001b[1;35mUncertainNumber\u001b[0m\u001b[1m(\u001b[0m\u001b[33messence\u001b[0m=\u001b[32m'interval'\u001b[0m, \u001b[33mintervals\u001b[0m=\u001b[1m[\u001b[0m\u001b[1;36m6.95\u001b[0m,\u001b[1;36m7.05\u001b[0m\u001b[1m]\u001b[0m, \u001b[33m_construct\u001b[0m=\u001b[1m[\u001b[0m\u001b[1;36m6.95\u001b[0m,\u001b[1;36m7.05\u001b[0m\u001b[1m]\u001b[0m, \u001b[33mnominal_value\u001b[0m=\u001b[1;36m7\u001b[0m\u001b[1;36m.0\u001b[0m\u001b[1m)\u001b[0m"
      ]
     },
     "execution_count": 12,
     "metadata": {},
     "output_type": "execute_result"
    }
   ],
   "source": [
    "pun.I(\"7.0\")"
   ]
  },
  {
   "cell_type": "code",
   "execution_count": 13,
   "id": "4f4b7711-5fd2-4d15-b2ac-adb09b2f03e7",
   "metadata": {},
   "outputs": [
    {
     "data": {
      "text/html": [
       "<pre style=\"white-space:pre;overflow-x:auto;line-height:normal;font-family:Menlo,'DejaVu Sans Mono',consolas,'Courier New',monospace\"></pre>\n"
      ],
      "text/plain": []
     },
     "metadata": {},
     "output_type": "display_data"
    },
    {
     "data": {
      "text/plain": [
       "\u001b[1;35mUncertainNumber\u001b[0m\u001b[1m(\u001b[0m\u001b[33messence\u001b[0m=\u001b[32m'interval'\u001b[0m, \u001b[33mintervals\u001b[0m=\u001b[1m[\u001b[0m\u001b[1;36m6.995\u001b[0m,\u001b[1;36m7.005\u001b[0m\u001b[1m]\u001b[0m, \u001b[33m_construct\u001b[0m=\u001b[1m[\u001b[0m\u001b[1;36m6.995\u001b[0m,\u001b[1;36m7.005\u001b[0m\u001b[1m]\u001b[0m, \u001b[33mnominal_value\u001b[0m=\u001b[1;36m7\u001b[0m\u001b[1;36m.0\u001b[0m\u001b[1m)\u001b[0m"
      ]
     },
     "execution_count": 13,
     "metadata": {},
     "output_type": "execute_result"
    }
   ],
   "source": [
    "pun.I(\"7.00\")"
   ]
  },
  {
   "cell_type": "code",
   "execution_count": 14,
   "id": "914b3273-7e70-4518-922b-44c1e87a9173",
   "metadata": {},
   "outputs": [
    {
     "data": {
      "text/html": [
       "<pre style=\"white-space:pre;overflow-x:auto;line-height:normal;font-family:Menlo,'DejaVu Sans Mono',consolas,'Courier New',monospace\"></pre>\n"
      ],
      "text/plain": []
     },
     "metadata": {},
     "output_type": "display_data"
    },
    {
     "data": {
      "text/plain": [
       "\u001b[1;35mUncertainNumber\u001b[0m\u001b[1m(\u001b[0m\u001b[33messence\u001b[0m=\u001b[32m'interval'\u001b[0m, \u001b[33mintervals\u001b[0m=\u001b[1m[\u001b[0m\u001b[1;36m5.0\u001b[0m,\u001b[1;36m9.0\u001b[0m\u001b[1m]\u001b[0m, \u001b[33m_construct\u001b[0m=\u001b[1m[\u001b[0m\u001b[1;36m5.0\u001b[0m,\u001b[1;36m9.0\u001b[0m\u001b[1m]\u001b[0m, \u001b[33mnominal_value\u001b[0m=\u001b[1;36m7\u001b[0m\u001b[1;36m.0\u001b[0m\u001b[1m)\u001b[0m"
      ]
     },
     "execution_count": 14,
     "metadata": {},
     "output_type": "execute_result"
    }
   ],
   "source": [
    "pun.I(\"about 7\")"
   ]
  }
 ],
 "metadata": {
  "kernelspec": {
   "display_name": "Python 3 (ipykernel)",
   "language": "python",
   "name": "python3"
  },
  "language_info": {
   "codemirror_mode": {
    "name": "ipython",
    "version": 3
   },
   "file_extension": ".py",
   "mimetype": "text/x-python",
   "name": "python",
   "nbconvert_exporter": "python",
   "pygments_lexer": "ipython3",
   "version": "3.11.10"
  }
 },
 "nbformat": 4,
 "nbformat_minor": 5
}
