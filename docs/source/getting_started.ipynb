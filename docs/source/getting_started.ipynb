{
 "cells": [
  {
   "cell_type": "markdown",
   "id": "73a4bdb4-d3fb-4392-b3ab-c31a2658a366",
   "metadata": {},
   "source": [
    "(getting_started)=\n",
    "# Getting started"
   ]
  },
  {
   "cell_type": "markdown",
   "id": "e307fab9-fc7d-4211-b9c4-c11b58641b63",
   "metadata": {},
   "source": [
    "## Installation\n",
    "\n",
    "Install the [pyuncertainnumber](https://github.com/leslieDLcy/PyUncertainNumber) library from [PyPI](https://pypi.org/project/pyuncertainnumber/).\n",
    "\n",
    "```shell\n",
    "pip install pyuncertainnumber\n",
    "```\n",
    "\n",
    "```{important}\n",
    "A virtual enviroment is recommended for installation.\n",
    "\n",
    "Follow the [instructions](https://pyuncertainnumber.readthedocs.io/en/latest/guides/installation.html) for additional details on installing `pyuncertainnumber`.\n",
    "```"
   ]
  },
  {
   "cell_type": "markdown",
   "id": "6d3f8385-f0eb-4e28-bcbe-5fc7d75e9017",
   "metadata": {},
   "source": [
    "`pyuncertainnumber` is underpined by a framework of uncertain number which allows for a closed computation ecosystem whereby trustworthy computations can be conducted in a rigorous manner. It provides capabilities across the typical uncertainty analysis pipeline, encompassing characterisation, aggregation, propagation, and applications including reliability analysis and optimisation under uncertainty, especailly with a focus on imprecise probabilities.\n",
    "\n",
    "`pyuncertainnumber` exposes APIs at different levels, including high-level user-friendly APIs best suited for new users to quickly start with uncertainty computations, and low-level APIs which allow experts to have more controls over the algorithm. Each scheme has its advantages and the best uses will certainly depend on the user cases."
   ]
  },
  {
   "cell_type": "markdown",
   "id": "bcef17ee-3e50-4323-89de-9a2b4a09bb18",
   "metadata": {},
   "source": [
    "## High-level `Uncertain Number` APIs\n",
    "\n",
    "As the name `pyuncertainnumber` suggests, the concept of *uncertain number* is the core to the uncertainty computation. The high-level APIs aims to give users a simple and straightforward syntax to quickly get on without worrying too much underlying nuances. Indeed, *uncertain number* is the umbrella term encompassing a wide range of uncertainty models and high-level APIs aims to allows users to perform calculations directly and consistently on uncertain numbers objects no matter what exactly the underlying uncertainty model (i.e. construct) they may be. Whatever the construct, it is an uncertain number.\n",
    "\n",
    "Typically, this scheme will start with the import statement `import pyuncertainnumber as pun`. As illustrated below, with the high-level APIs, analysts can accomplish the \"uncertainty charactertion-aggregation-propagation\" workflow in only several lines of codes."
   ]
  },
  {
   "cell_type": "markdown",
   "id": "74424c50-f631-4e59-a81b-f07ba5e33dea",
   "metadata": {},
   "source": [
    "```{tip}\n",
    "Some more examples of the high-level API can be found in xxx.\n",
    "```"
   ]
  },
  {
   "cell_type": "code",
   "execution_count": 1,
   "id": "b7234abf-f0c0-4d4d-9c6b-ef2c0dea7e7f",
   "metadata": {},
   "outputs": [],
   "source": [
    "%load_ext rich\n",
    "from pyuncertainnumber import UncertainNumber as UN\n",
    "import pyuncertainnumber as pun\n",
    "import matplotlib.pyplot as plt"
   ]
  },
  {
   "cell_type": "code",
   "execution_count": 23,
   "id": "86ce05f0-37b5-484b-8756-1df24d3e48c7",
   "metadata": {},
   "outputs": [],
   "source": [
    "# construct uncertain numbers\n",
    "x0 = pun.normal([2,3], [1])\n",
    "\n",
    "expert_a = pun.I(1,5)\n",
    "expert_b = pun.I(3,6)\n",
    "expert_c = pun.I(2,3)\n",
    "expert_d = pun.I(2,9)\n",
    "\n",
    "# specify a response function\n",
    "def foo(x): return x[0] ** 3 + x[1] + 2"
   ]
  },
  {
   "cell_type": "code",
   "execution_count": 24,
   "id": "12207f34-e7bf-4d2b-8303-3f42086f09a3",
   "metadata": {},
   "outputs": [],
   "source": [
    "# aggregation\n",
    "\n",
    "x1 = pun.stochastic_mixture(expert_a, expert_b, expert_c, expert_d)"
   ]
  },
  {
   "cell_type": "code",
   "execution_count": 25,
   "id": "c93449bd-95ee-478c-ab27-e2df9ec67ab2",
   "metadata": {},
   "outputs": [],
   "source": [
    "# intrusive call signature which allows for drop-in replacements\n",
    "response1 = foo([x0, x1])"
   ]
  },
  {
   "cell_type": "code",
   "execution_count": 26,
   "id": "f0cac0fd-bd6d-4bd2-a4a8-c287b3620429",
   "metadata": {},
   "outputs": [
    {
     "name": "stderr",
     "output_type": "stream",
     "text": [
      "INFO: mixed uncertainty propagation\n"
     ]
    }
   ],
   "source": [
    "# alternatively, one can use a more generic call signature for propagation\n",
    "p = pun.Propagation(vars=[x0, x1], func=foo, method='slicing', interval_strategy='direct')\n",
    "response2 = p.run(n_slices=100)"
   ]
  },
  {
   "cell_type": "code",
   "execution_count": 27,
   "id": "d5c3e752-450a-4b53-88e3-4f33291f4c5c",
   "metadata": {},
   "outputs": [
    {
     "data": {
      "text/html": [
       "<pre style=\"white-space:pre;overflow-x:auto;line-height:normal;font-family:Menlo,'DejaVu Sans Mono',consolas,'Courier New',monospace\"></pre>\n"
      ],
      "text/plain": []
     },
     "metadata": {},
     "output_type": "display_data"
    },
    {
     "data": {
      "image/png": "[encoded data removed]",
      "text/plain": [
       "\u001b[1m<\u001b[0m\u001b[1;95mFigure\u001b[0m\u001b[39m size 64\u001b[0m\u001b[1;36m0x480\u001b[0m\u001b[39m with \u001b[0m\u001b[1;36m1\u001b[0m\u001b[39m Axes\u001b[0m\u001b[1m>\u001b[0m"
      ]
     },
     "metadata": {},
     "output_type": "display_data"
    }
   ],
   "source": [
    "fig, ax = plt.subplots()\n",
    "response2.plot(ax=ax, bound_colors=['purple', 'purple'], fill_color='salmon', label='non-intrusive')\n",
    "response1.plot(ax=ax, style='simple', label='intrusive')\n",
    "plt.show()"
   ]
  },
  {
   "cell_type": "markdown",
   "id": "0e9eeac1-76cb-42a9-9dd1-6782330aeef5",
   "metadata": {},
   "source": [
    "```{note}\n",
    "**Perks of the `Uncertain Number` APIs**\n",
    "Besides simplicity, the high-level APIs will also normally bring some additional capabilities. For example, the `pun.I()` constructor allows parsing capability for various types of inputs and will dynamically dispatch the right path. Notably, it supports deciphering the uncertainty indicated in everyday colloquialism such as \"about 7\" or \"[7 +- 10%]\". Further, this constructor can show the **significance** of the uncertainty indicated by the significant digits of a number.\n",
    "```"
   ]
  },
  {
   "cell_type": "code",
   "execution_count": 3,
   "id": "8286fbb1-9503-4dc7-ac1b-34670526fcfe",
   "metadata": {},
   "outputs": [
    {
     "data": {
      "text/html": [
       "<pre style=\"white-space:pre;overflow-x:auto;line-height:normal;font-family:Menlo,'DejaVu Sans Mono',consolas,'Courier New',monospace\"></pre>\n"
      ],
      "text/plain": []
     },
     "metadata": {},
     "output_type": "display_data"
    },
    {
     "data": {
      "text/plain": [
       "\u001b[1;35mUncertainNumber\u001b[0m\u001b[1m(\u001b[0m\u001b[33messence\u001b[0m=\u001b[32m'interval'\u001b[0m, \u001b[33mintervals\u001b[0m=\u001b[1m[\u001b[0m\u001b[1;36m7.0\u001b[0m,\u001b[1;36m7.0\u001b[0m\u001b[1m]\u001b[0m, \u001b[33m_construct\u001b[0m=\u001b[1m[\u001b[0m\u001b[1;36m7.0\u001b[0m,\u001b[1;36m7.0\u001b[0m\u001b[1m]\u001b[0m, \u001b[33mnominal_value\u001b[0m=\u001b[1;36m7\u001b[0m\u001b[1;36m.0\u001b[0m\u001b[1m)\u001b[0m"
      ]
     },
     "execution_count": 3,
     "metadata": {},
     "output_type": "execute_result"
    }
   ],
   "source": [
    "pun.I(7.0)"
   ]
  },
  {
   "cell_type": "code",
   "execution_count": 4,
   "id": "61dfd536-a9d1-44f5-8648-b1e0bd4dcd1a",
   "metadata": {},
   "outputs": [
    {
     "data": {
      "text/html": [
       "<pre style=\"white-space:pre;overflow-x:auto;line-height:normal;font-family:Menlo,'DejaVu Sans Mono',consolas,'Courier New',monospace\"></pre>\n"
      ],
      "text/plain": []
     },
     "metadata": {},
     "output_type": "display_data"
    },
    {
     "data": {
      "text/plain": [
       "\u001b[1;35mUncertainNumber\u001b[0m\u001b[1m(\u001b[0m\u001b[33messence\u001b[0m=\u001b[32m'interval'\u001b[0m, \u001b[33mintervals\u001b[0m=\u001b[1m[\u001b[0m\u001b[1;36m5.0\u001b[0m,\u001b[1;36m9.0\u001b[0m\u001b[1m]\u001b[0m, \u001b[33m_construct\u001b[0m=\u001b[1m[\u001b[0m\u001b[1;36m5.0\u001b[0m,\u001b[1;36m9.0\u001b[0m\u001b[1m]\u001b[0m, \u001b[33mnominal_value\u001b[0m=\u001b[1;36m7\u001b[0m\u001b[1;36m.0\u001b[0m\u001b[1m)\u001b[0m"
      ]
     },
     "execution_count": 4,
     "metadata": {},
     "output_type": "execute_result"
    }
   ],
   "source": [
    "pun.I(\"about 7\")"
   ]
  },
  {
   "cell_type": "code",
   "execution_count": 7,
   "id": "525ee972-8a3b-4d5e-afdb-d989b850b562",
   "metadata": {},
   "outputs": [
    {
     "data": {
      "text/html": [
       "<pre style=\"white-space:pre;overflow-x:auto;line-height:normal;font-family:Menlo,'DejaVu Sans Mono',consolas,'Courier New',monospace\"></pre>\n"
      ],
      "text/plain": []
     },
     "metadata": {},
     "output_type": "display_data"
    },
    {
     "data": {
      "text/plain": [
       "\u001b[1;35mUncertainNumber\u001b[0m\u001b[1m(\u001b[0m\u001b[33messence\u001b[0m=\u001b[32m'interval'\u001b[0m, \u001b[33mintervals\u001b[0m=\u001b[1m[\u001b[0m\u001b[1;36m6.3\u001b[0m,\u001b[1;36m7.7\u001b[0m\u001b[1m]\u001b[0m, \u001b[33m_construct\u001b[0m=\u001b[1m[\u001b[0m\u001b[1;36m6.3\u001b[0m,\u001b[1;36m7.7\u001b[0m\u001b[1m]\u001b[0m, \u001b[33mnominal_value\u001b[0m=\u001b[1;36m7\u001b[0m\u001b[1;36m.0\u001b[0m\u001b[1m)\u001b[0m"
      ]
     },
     "execution_count": 7,
     "metadata": {},
     "output_type": "execute_result"
    }
   ],
   "source": [
    "pun.I(\"[7 +- 10%]\")"
   ]
  },
  {
   "cell_type": "code",
   "execution_count": 9,
   "id": "f30463ca-4984-4a97-a15c-d3ea59dd10aa",
   "metadata": {},
   "outputs": [
    {
     "data": {
      "text/html": [
       "<pre style=\"white-space:pre;overflow-x:auto;line-height:normal;font-family:Menlo,'DejaVu Sans Mono',consolas,'Courier New',monospace\"></pre>\n"
      ],
      "text/plain": []
     },
     "metadata": {},
     "output_type": "display_data"
    },
    {
     "data": {
      "text/plain": [
       "\u001b[1;35mUncertainNumber\u001b[0m\u001b[1m(\u001b[0m\u001b[33messence\u001b[0m=\u001b[32m'interval'\u001b[0m, \u001b[33mintervals\u001b[0m=\u001b[1m[\u001b[0m\u001b[1;36m6.95\u001b[0m,\u001b[1;36m7.05\u001b[0m\u001b[1m]\u001b[0m, \u001b[33m_construct\u001b[0m=\u001b[1m[\u001b[0m\u001b[1;36m6.95\u001b[0m,\u001b[1;36m7.05\u001b[0m\u001b[1m]\u001b[0m, \u001b[33mnominal_value\u001b[0m=\u001b[1;36m7\u001b[0m\u001b[1;36m.0\u001b[0m\u001b[1m)\u001b[0m"
      ]
     },
     "execution_count": 9,
     "metadata": {},
     "output_type": "execute_result"
    }
   ],
   "source": [
    "pun.I(\"7.0\")"
   ]
  },
  {
   "cell_type": "code",
   "execution_count": 10,
   "id": "1168a5fa-b32b-4757-9a9a-c3f0698a7e16",
   "metadata": {},
   "outputs": [
    {
     "data": {
      "text/html": [
       "<pre style=\"white-space:pre;overflow-x:auto;line-height:normal;font-family:Menlo,'DejaVu Sans Mono',consolas,'Courier New',monospace\"></pre>\n"
      ],
      "text/plain": []
     },
     "metadata": {},
     "output_type": "display_data"
    },
    {
     "data": {
      "text/plain": [
       "\u001b[1;35mUncertainNumber\u001b[0m\u001b[1m(\u001b[0m\u001b[33messence\u001b[0m=\u001b[32m'interval'\u001b[0m, \u001b[33mintervals\u001b[0m=\u001b[1m[\u001b[0m\u001b[1;36m6.995\u001b[0m,\u001b[1;36m7.005\u001b[0m\u001b[1m]\u001b[0m, \u001b[33m_construct\u001b[0m=\u001b[1m[\u001b[0m\u001b[1;36m6.995\u001b[0m,\u001b[1;36m7.005\u001b[0m\u001b[1m]\u001b[0m, \u001b[33mnominal_value\u001b[0m=\u001b[1;36m7\u001b[0m\u001b[1;36m.0\u001b[0m\u001b[1m)\u001b[0m"
      ]
     },
     "execution_count": 10,
     "metadata": {},
     "output_type": "execute_result"
    }
   ],
   "source": [
    "pun.I(\"7.00\")"
   ]
  },
  {
   "cell_type": "markdown",
   "id": "2a9c8819-6869-4e97-8136-3452015838d6",
   "metadata": {},
   "source": [
    "## Low-level `pba` APIs\n",
    "\n",
    "On the other hand, low-level APIs provide interfaces for deeper controls and customisation, which enables advanced usage and extension, since low-level APIs expose additional controls. Often when facing with complicated modelling problems (say repeated variable problem, non-monotonicity，etc.), analysts will need to tweak the workflow to suit their needs and this is the way to go. In the above example of uncertainty characterisation and propagation, low-level functions call be called:"
   ]
  },
  {
   "cell_type": "code",
   "execution_count": 20,
   "id": "8e42c88b-10a4-44c4-a984-31501ca559fd",
   "metadata": {},
   "outputs": [],
   "source": [
    "from pyuncertainnumber import pba\n",
    "import pyuncertainnumber.propagation.mixed_uncertainty.mixed_up as mix"
   ]
  },
  {
   "cell_type": "code",
   "execution_count": 36,
   "id": "e7a38d79-f692-4dd1-832b-c0d6b61a50e6",
   "metadata": {},
   "outputs": [],
   "source": [
    "# construct a Pbox object\n",
    "x0 = pba.normal([2,3], [1])  "
   ]
  },
  {
   "cell_type": "code",
   "execution_count": 37,
   "id": "1be08ec7-407f-4ff2-a779-1818d2c39f2f",
   "metadata": {},
   "outputs": [],
   "source": [
    "# construct Interval objects\n",
    "expert_a = pba.I(1,5)\n",
    "expert_b = pba.I(3,6)\n",
    "expert_c = pba.I(2,3)\n",
    "expert_d = pba.I(2,9)"
   ]
  },
  {
   "cell_type": "code",
   "execution_count": 38,
   "id": "603c6f35-5ef7-43db-af11-e1a755bb0109",
   "metadata": {},
   "outputs": [],
   "source": [
    "# aggregate intervals into a Dempster Shafer structure\n",
    "x1 = pba.stacking([expert_a, expert_b, expert_c, expert_d])"
   ]
  },
  {
   "cell_type": "code",
   "execution_count": 46,
   "id": "43fc07bb-9f3b-4f26-bdea-9c2de789f6c7",
   "metadata": {},
   "outputs": [],
   "source": [
    "response3 = mix.slicing(\n",
    "    vars=[x0, x1], \n",
    "    func=foo, \n",
    "    interval_strategy='direct', \n",
    "    n_slices=100\n",
    ") "
   ]
  },
  {
   "cell_type": "code",
   "execution_count": 48,
   "id": "ba8b3445-9f9c-4b18-87b0-6bb292590b55",
   "metadata": {},
   "outputs": [
    {
     "data": {
      "text/html": [
       "<pre style=\"white-space:pre;overflow-x:auto;line-height:normal;font-family:Menlo,'DejaVu Sans Mono',consolas,'Courier New',monospace\"></pre>\n"
      ],
      "text/plain": []
     },
     "metadata": {},
     "output_type": "display_data"
    },
    {
     "data": {
      "image/png": "[encoded data removed]",
      "text/plain": [
       "\u001b[1m<\u001b[0m\u001b[1;95mFigure\u001b[0m\u001b[39m size 64\u001b[0m\u001b[1;36m0x480\u001b[0m\u001b[39m with \u001b[0m\u001b[1;36m1\u001b[0m\u001b[39m Axes\u001b[0m\u001b[1m>\u001b[0m"
      ]
     },
     "metadata": {},
     "output_type": "display_data"
    }
   ],
   "source": [
    "response3.display(label='low level propagation')"
   ]
  }
 ],
 "metadata": {
  "kernelspec": {
   "display_name": "Python 3 (ipykernel)",
   "language": "python",
   "name": "python3"
  },
  "language_info": {
   "codemirror_mode": {
    "name": "ipython",
    "version": 3
   },
   "file_extension": ".py",
   "mimetype": "text/x-python",
   "name": "python",
   "nbconvert_exporter": "python",
   "pygments_lexer": "ipython3",
   "version": "3.11.10"
  }
 },
 "nbformat": 4,
 "nbformat_minor": 5
}
